{
  "nbformat": 4,
  "nbformat_minor": 0,
  "metadata": {
    "colab": {
      "name": "final_model (1).ipynb",
      "provenance": []
    },
    "kernelspec": {
      "name": "python3",
      "display_name": "Python 3"
    },
    "accelerator": "GPU"
  },
  "cells": [
    {
      "cell_type": "code",
      "metadata": {
        "id": "9RTlIKVP63xS"
      },
      "source": [
        "import pandas as pd \n",
        "import numpy as np\n",
        "import re\n",
        "from sklearn import model_selection, preprocessing, linear_model, naive_bayes, metrics, svm\n",
        "from sklearn.feature_extraction.text import TfidfVectorizer, CountVectorizer\n",
        "import keras\n",
        "from keras.models import Sequential, Model\n",
        "from keras.layers import Dense, Dropout, Activation, Input, Embedding, Conv1D, GlobalMaxPool1D\n",
        "from keras.preprocessing.text import Tokenizer\n",
        "from keras.preprocessing.sequence import pad_sequences\n",
        "from keras.callbacks import TensorBoard \n",
        "from keras.objectives import categorical_crossentropy\n",
        "from keras.callbacks import EarlyStopping "
      ],
      "execution_count": 12,
      "outputs": []
    },
    {
      "cell_type": "code",
      "metadata": {
        "id": "YqxC09Ug6_Qy"
      },
      "source": [
        "comments=pd.read_excel('com.xlsx', names=['question','label'], header=None )"
      ],
      "execution_count": 13,
      "outputs": []
    },
    {
      "cell_type": "code",
      "metadata": {
        "id": "5TlRY_KB7VWh",
        "outputId": "98467c22-86cc-4b05-c617-10a2a8a2add2",
        "colab": {
          "base_uri": "https://localhost:8080/",
          "height": 419
        }
      },
      "source": [
        "comments"
      ],
      "execution_count": 14,
      "outputs": [
        {
          "output_type": "execute_result",
          "data": {
            "text/html": [
              "<div>\n",
              "<style scoped>\n",
              "    .dataframe tbody tr th:only-of-type {\n",
              "        vertical-align: middle;\n",
              "    }\n",
              "\n",
              "    .dataframe tbody tr th {\n",
              "        vertical-align: top;\n",
              "    }\n",
              "\n",
              "    .dataframe thead th {\n",
              "        text-align: right;\n",
              "    }\n",
              "</style>\n",
              "<table border=\"1\" class=\"dataframe\">\n",
              "  <thead>\n",
              "    <tr style=\"text-align: right;\">\n",
              "      <th></th>\n",
              "      <th>question</th>\n",
              "      <th>label</th>\n",
              "    </tr>\n",
              "  </thead>\n",
              "  <tbody>\n",
              "    <tr>\n",
              "      <th>0</th>\n",
              "      <td>Добрый день. А как можно заказать?</td>\n",
              "      <td>0</td>\n",
              "    </tr>\n",
              "    <tr>\n",
              "      <th>1</th>\n",
              "      <td>Цена пожалуйста</td>\n",
              "      <td>2</td>\n",
              "    </tr>\n",
              "    <tr>\n",
              "      <th>2</th>\n",
              "      <td>Маска сколько стоит?</td>\n",
              "      <td>2</td>\n",
              "    </tr>\n",
              "    <tr>\n",
              "      <th>3</th>\n",
              "      <td>S размер  есть</td>\n",
              "      <td>1</td>\n",
              "    </tr>\n",
              "    <tr>\n",
              "      <th>4</th>\n",
              "      <td>45 размер есть?</td>\n",
              "      <td>1</td>\n",
              "    </tr>\n",
              "    <tr>\n",
              "      <th>...</th>\n",
              "      <td>...</td>\n",
              "      <td>...</td>\n",
              "    </tr>\n",
              "    <tr>\n",
              "      <th>238</th>\n",
              "      <td>Вы отправляете в др города?</td>\n",
              "      <td>0</td>\n",
              "    </tr>\n",
              "    <tr>\n",
              "      <th>239</th>\n",
              "      <td>Есть в начиии в магазине S,M?</td>\n",
              "      <td>1</td>\n",
              "    </tr>\n",
              "    <tr>\n",
              "      <th>240</th>\n",
              "      <td>Как можно приобрести такую шубу либо заказать</td>\n",
              "      <td>0</td>\n",
              "    </tr>\n",
              "    <tr>\n",
              "      <th>241</th>\n",
              "      <td>И цену скажите пожалуйста</td>\n",
              "      <td>2</td>\n",
              "    </tr>\n",
              "    <tr>\n",
              "      <th>242</th>\n",
              "      <td>Какие условия доставки в Новосибирск?</td>\n",
              "      <td>1</td>\n",
              "    </tr>\n",
              "  </tbody>\n",
              "</table>\n",
              "<p>243 rows × 2 columns</p>\n",
              "</div>"
            ],
            "text/plain": [
              "                                          question  label\n",
              "0               Добрый день. А как можно заказать?      0\n",
              "1                                  Цена пожалуйста      2\n",
              "2                             Маска сколько стоит?      2\n",
              "3                                   S размер  есть      1\n",
              "4                                  45 размер есть?      1\n",
              "..                                             ...    ...\n",
              "238                    Вы отправляете в др города?      0\n",
              "239                  Есть в начиии в магазине S,M?      1\n",
              "240  Как можно приобрести такую шубу либо заказать      0\n",
              "241                      И цену скажите пожалуйста      2\n",
              "242          Какие условия доставки в Новосибирск?      1\n",
              "\n",
              "[243 rows x 2 columns]"
            ]
          },
          "metadata": {
            "tags": []
          },
          "execution_count": 14
        }
      ]
    },
    {
      "cell_type": "code",
      "metadata": {
        "id": "sy79bfEKaBsl"
      },
      "source": [
        "comments.drop(index=comments[comments['label']==3].index, inplace=True)"
      ],
      "execution_count": 15,
      "outputs": []
    },
    {
      "cell_type": "code",
      "metadata": {
        "id": "e-Ws4IqeKkvZ"
      },
      "source": [
        "def lower_text(questions):\n",
        "    \n",
        "    clean_text=[]\n",
        "    for question in questions:\n",
        "        question=question.lower()\n",
        "        clean_text.append(question)\n",
        "    return clean_text"
      ],
      "execution_count": 16,
      "outputs": []
    },
    {
      "cell_type": "code",
      "metadata": {
        "id": "0-3OjFI0K5Kf"
      },
      "source": [
        "comments['clear_text']=lower_text(np.array(comments['question']))"
      ],
      "execution_count": 17,
      "outputs": []
    },
    {
      "cell_type": "code",
      "metadata": {
        "id": "qJjaKGvUMksM"
      },
      "source": [
        "def change(text):\n",
        "    clean_text=[]\n",
        "    for t in text:\n",
        "        t=t.replace('й','и')\n",
        "        t=t.replace('ё','е')\n",
        "        clean_text.append(t)\n",
        "    return clean_text\n",
        "  \n"
      ],
      "execution_count": 18,
      "outputs": []
    },
    {
      "cell_type": "code",
      "metadata": {
        "id": "E9tDZ0PWMzZ0"
      },
      "source": [
        "comments['clear_text']=change(np.array(comments['clear_text']))"
      ],
      "execution_count": 19,
      "outputs": []
    },
    {
      "cell_type": "code",
      "metadata": {
        "id": "13tfXwK5LgOX"
      },
      "source": [
        "def punctuation(text):\n",
        "    clean_text=[]\n",
        "    for t in text:\n",
        "        t=re.sub(r'[^\\w\\s]',' ',t)\n",
        "        clean_text.append(t)\n",
        "    return clean_text"
      ],
      "execution_count": 20,
      "outputs": []
    },
    {
      "cell_type": "code",
      "metadata": {
        "id": "AKBxpHjyMDzB"
      },
      "source": [
        "comments['clear_text']=punctuation(np.array(comments['clear_text']))"
      ],
      "execution_count": 21,
      "outputs": []
    },
    {
      "cell_type": "code",
      "metadata": {
        "id": "Yf4M2smITdVH"
      },
      "source": [
        "def size(text):\n",
        "    clean_text=[]\n",
        "    for t in text:\n",
        "        t=re.sub(r'\\d+(?:.\\d+)?','цифра',t)\n",
        "        \n",
        "        t=re.sub(r'[a-z]+(?:.[a-z]+)?','буква',t)\n",
        "        clean_text.append(t)\n",
        "    return clean_text"
      ],
      "execution_count": 22,
      "outputs": []
    },
    {
      "cell_type": "code",
      "metadata": {
        "id": "ZPfL6g3ZT-Nn"
      },
      "source": [
        "comments['clear_text']=size(np.array(comments['clear_text']))"
      ],
      "execution_count": 23,
      "outputs": []
    },
    {
      "cell_type": "code",
      "metadata": {
        "id": "_5aaM8tMSibo"
      },
      "source": [
        "def spec_punctuation(text):\n",
        "    clean_text=[]\n",
        "    for t in text:\n",
        "        t=re.sub(r'[^а-яА-Я0-9]',' ',t)\n",
        "        clean_text.append(t)\n",
        "    return clean_text"
      ],
      "execution_count": 24,
      "outputs": []
    },
    {
      "cell_type": "code",
      "metadata": {
        "id": "-HRjqWF0TQf-"
      },
      "source": [
        "comments['clear_text']=spec_punctuation(np.array(comments['clear_text']))"
      ],
      "execution_count": 25,
      "outputs": []
    },
    {
      "cell_type": "code",
      "metadata": {
        "id": "noxXBq8RatW6"
      },
      "source": [
        "def one(text):\n",
        "    clean_text=[]\n",
        "    for t in text:\n",
        "        t=' '.join([w for w in t.split() if len(w)>2])\n",
        "        clean_text.append(t)\n",
        "    return clean_text"
      ],
      "execution_count": 26,
      "outputs": []
    },
    {
      "cell_type": "code",
      "metadata": {
        "id": "iqeN3-v9a_GR"
      },
      "source": [
        "comments['clear_text']=one(np.array(comments['clear_text']))"
      ],
      "execution_count": 27,
      "outputs": []
    },
    {
      "cell_type": "code",
      "metadata": {
        "id": "wtEOtbB3MQQ4",
        "outputId": "2f345d5c-7942-40aa-8614-fd99b9eb178e",
        "colab": {
          "base_uri": "https://localhost:8080/",
          "height": 297
        }
      },
      "source": [
        "comments[60:68]"
      ],
      "execution_count": 28,
      "outputs": [
        {
          "output_type": "execute_result",
          "data": {
            "text/html": [
              "<div>\n",
              "<style scoped>\n",
              "    .dataframe tbody tr th:only-of-type {\n",
              "        vertical-align: middle;\n",
              "    }\n",
              "\n",
              "    .dataframe tbody tr th {\n",
              "        vertical-align: top;\n",
              "    }\n",
              "\n",
              "    .dataframe thead th {\n",
              "        text-align: right;\n",
              "    }\n",
              "</style>\n",
              "<table border=\"1\" class=\"dataframe\">\n",
              "  <thead>\n",
              "    <tr style=\"text-align: right;\">\n",
              "      <th></th>\n",
              "      <th>question</th>\n",
              "      <th>label</th>\n",
              "      <th>clear_text</th>\n",
              "    </tr>\n",
              "  </thead>\n",
              "  <tbody>\n",
              "    <tr>\n",
              "      <th>60</th>\n",
              "      <td>45 46 есть в наличии?</td>\n",
              "      <td>1</td>\n",
              "      <td>цифра есть наличии</td>\n",
              "    </tr>\n",
              "    <tr>\n",
              "      <th>61</th>\n",
              "      <td>А как заказать</td>\n",
              "      <td>0</td>\n",
              "      <td>как заказать</td>\n",
              "    </tr>\n",
              "    <tr>\n",
              "      <th>62</th>\n",
              "      <td>Xs есть?</td>\n",
              "      <td>1</td>\n",
              "      <td>буква есть</td>\n",
              "    </tr>\n",
              "    <tr>\n",
              "      <th>63</th>\n",
              "      <td>Размеры M/S есть?</td>\n",
              "      <td>1</td>\n",
              "      <td>размеры буква есть</td>\n",
              "    </tr>\n",
              "    <tr>\n",
              "      <th>64</th>\n",
              "      <td>А размеры есть большие?</td>\n",
              "      <td>1</td>\n",
              "      <td>размеры есть большие</td>\n",
              "    </tr>\n",
              "    <tr>\n",
              "      <th>65</th>\n",
              "      <td>А есть 46-47? Хоть какие нибудь)</td>\n",
              "      <td>1</td>\n",
              "      <td>есть цифра хоть какие нибудь</td>\n",
              "    </tr>\n",
              "    <tr>\n",
              "      <th>66</th>\n",
              "      <td>Есть 46 размер ?</td>\n",
              "      <td>1</td>\n",
              "      <td>есть цифра размер</td>\n",
              "    </tr>\n",
              "    <tr>\n",
              "      <th>67</th>\n",
              "      <td>Какие размеры?</td>\n",
              "      <td>1</td>\n",
              "      <td>какие размеры</td>\n",
              "    </tr>\n",
              "  </tbody>\n",
              "</table>\n",
              "</div>"
            ],
            "text/plain": [
              "                            question  label                    clear_text\n",
              "60             45 46 есть в наличии?      1            цифра есть наличии\n",
              "61                    А как заказать      0                  как заказать\n",
              "62                          Xs есть?      1                    буква есть\n",
              "63                 Размеры M/S есть?      1            размеры буква есть\n",
              "64           А размеры есть большие?      1          размеры есть большие\n",
              "65  А есть 46-47? Хоть какие нибудь)      1  есть цифра хоть какие нибудь\n",
              "66                  Есть 46 размер ?      1             есть цифра размер\n",
              "67                    Какие размеры?      1                 какие размеры"
            ]
          },
          "metadata": {
            "tags": []
          },
          "execution_count": 28
        }
      ]
    },
    {
      "cell_type": "code",
      "metadata": {
        "id": "hWKE_JTpblnU",
        "outputId": "22e0d9ef-172c-467c-cc59-75eb65fea432",
        "colab": {
          "base_uri": "https://localhost:8080/"
        }
      },
      "source": [
        "import nltk\n",
        "nltk.download('punkt')\n",
        "nltk.download(\"stopwords\")"
      ],
      "execution_count": 29,
      "outputs": [
        {
          "output_type": "stream",
          "text": [
            "[nltk_data] Downloading package punkt to /root/nltk_data...\n",
            "[nltk_data]   Unzipping tokenizers/punkt.zip.\n",
            "[nltk_data] Downloading package stopwords to /root/nltk_data...\n",
            "[nltk_data]   Unzipping corpora/stopwords.zip.\n"
          ],
          "name": "stdout"
        },
        {
          "output_type": "execute_result",
          "data": {
            "text/plain": [
              "True"
            ]
          },
          "metadata": {
            "tags": []
          },
          "execution_count": 29
        }
      ]
    },
    {
      "cell_type": "code",
      "metadata": {
        "id": "jUn2SCarbOdw"
      },
      "source": [
        "from nltk import tokenize as tknz\n",
        "from nltk.corpus import stopwords"
      ],
      "execution_count": 30,
      "outputs": []
    },
    {
      "cell_type": "code",
      "metadata": {
        "id": "tumprnOVbPjJ"
      },
      "source": [
        "def word_tokens(text):\n",
        "    clean_text=[]\n",
        "    for t in text:\n",
        "        t=tknz.word_tokenize(t)\n",
        "        clean_text.append(t)\n",
        "    return clean_text"
      ],
      "execution_count": 31,
      "outputs": []
    },
    {
      "cell_type": "code",
      "metadata": {
        "id": "Q8wIblHdbXhI"
      },
      "source": [
        "comments['tokens']=word_tokens(np.array(comments['clear_text']))"
      ],
      "execution_count": 32,
      "outputs": []
    },
    {
      "cell_type": "code",
      "metadata": {
        "id": "-VDkATsrccGY"
      },
      "source": [
        "def stop_word_tokens(text):\n",
        "    clean_tetx=[]\n",
        "    stop_words = set(stopwords.words(\"russian\"))\n",
        "    for t in text:\n",
        "        t=[word for word  in t if not word in stop_words]\n",
        "        \n",
        "        clean_tetx.append(t)\n",
        "    return clean_tetx"
      ],
      "execution_count": 33,
      "outputs": []
    },
    {
      "cell_type": "code",
      "metadata": {
        "id": "enRB1CoTc4EO"
      },
      "source": [
        "comments['clean_tokens']=stop_word_tokens(np.array(comments['tokens']))"
      ],
      "execution_count": 34,
      "outputs": []
    },
    {
      "cell_type": "code",
      "metadata": {
        "id": "cc2c8kZvjEMJ",
        "outputId": "40320101-4028-4e50-b16b-f5e98c1397b0",
        "colab": {
          "base_uri": "https://localhost:8080/"
        }
      },
      "source": [
        "pip install pymorphy2[fast]"
      ],
      "execution_count": 35,
      "outputs": [
        {
          "output_type": "stream",
          "text": [
            "Collecting pymorphy2[fast]\n",
            "\u001b[?25l  Downloading https://files.pythonhosted.org/packages/07/57/b2ff2fae3376d4f3c697b9886b64a54b476e1a332c67eee9f88e7f1ae8c9/pymorphy2-0.9.1-py3-none-any.whl (55kB)\n",
            "\r\u001b[K     |██████                          | 10kB 26.6MB/s eta 0:00:01\r\u001b[K     |███████████▉                    | 20kB 32.9MB/s eta 0:00:01\r\u001b[K     |█████████████████▊              | 30kB 37.8MB/s eta 0:00:01\r\u001b[K     |███████████████████████▋        | 40kB 31.2MB/s eta 0:00:01\r\u001b[K     |█████████████████████████████▌  | 51kB 30.8MB/s eta 0:00:01\r\u001b[K     |████████████████████████████████| 61kB 9.3MB/s \n",
            "\u001b[?25hRequirement already satisfied: docopt>=0.6 in /usr/local/lib/python3.6/dist-packages (from pymorphy2[fast]) (0.6.2)\n",
            "Collecting dawg-python>=0.7.1\n",
            "  Downloading https://files.pythonhosted.org/packages/6a/84/ff1ce2071d4c650ec85745766c0047ccc3b5036f1d03559fd46bb38b5eeb/DAWG_Python-0.7.2-py2.py3-none-any.whl\n",
            "Collecting pymorphy2-dicts-ru<3.0,>=2.4\n",
            "\u001b[?25l  Downloading https://files.pythonhosted.org/packages/3a/79/bea0021eeb7eeefde22ef9e96badf174068a2dd20264b9a378f2be1cdd9e/pymorphy2_dicts_ru-2.4.417127.4579844-py2.py3-none-any.whl (8.2MB)\n",
            "\u001b[K     |████████████████████████████████| 8.2MB 21.1MB/s \n",
            "\u001b[?25hCollecting DAWG>=0.8; extra == \"fast\"\n",
            "\u001b[?25l  Downloading https://files.pythonhosted.org/packages/b8/ef/91b619a399685f7a0a95a03628006ba814d96293bbbbed234ee66fbdefd9/DAWG-0.8.0.tar.gz (371kB)\n",
            "\u001b[K     |████████████████████████████████| 378kB 58.2MB/s \n",
            "\u001b[?25hBuilding wheels for collected packages: DAWG\n",
            "  Building wheel for DAWG (setup.py) ... \u001b[?25l\u001b[?25hdone\n",
            "  Created wheel for DAWG: filename=DAWG-0.8.0-cp36-cp36m-linux_x86_64.whl size=849658 sha256=4fe04fad4f7c8aeef53e46af44cf78c0beecab73217084e5571d535c58a7f244\n",
            "  Stored in directory: /root/.cache/pip/wheels/3d/1f/f0/a5b1f9d02e193c997d252c33d215f24dfd7a448bc0166b2a12\n",
            "Successfully built DAWG\n",
            "Installing collected packages: dawg-python, pymorphy2-dicts-ru, DAWG, pymorphy2\n",
            "Successfully installed DAWG-0.8.0 dawg-python-0.7.2 pymorphy2-0.9.1 pymorphy2-dicts-ru-2.4.417127.4579844\n"
          ],
          "name": "stdout"
        }
      ]
    },
    {
      "cell_type": "code",
      "metadata": {
        "id": "hoDumym-i8xH"
      },
      "source": [
        "import pymorphy2\n",
        "morph = pymorphy2.MorphAnalyzer()"
      ],
      "execution_count": 36,
      "outputs": []
    },
    {
      "cell_type": "code",
      "metadata": {
        "id": "SGxUNbWgeR79"
      },
      "source": [
        "def stemmed_word_tokens(text):\n",
        "    clean_text=[]\n",
        "    \n",
        "    for t in text:\n",
        "        t=[morph.parse(word)[0].normal_form for word  in t]\n",
        "        \n",
        "        clean_text.append(t)\n",
        "    return clean_text"
      ],
      "execution_count": 37,
      "outputs": []
    },
    {
      "cell_type": "code",
      "metadata": {
        "id": "B7yvnDVae3hR"
      },
      "source": [
        "comments['stem_tokens']=stemmed_word_tokens(np.array(comments['clean_tokens']))"
      ],
      "execution_count": 38,
      "outputs": []
    },
    {
      "cell_type": "code",
      "metadata": {
        "id": "3LOeKMC9cQt5"
      },
      "source": [
        "train_x, valid_x, train_y, valid_y = model_selection.train_test_split(comments['stem_tokens'], comments['label'])"
      ],
      "execution_count": 40,
      "outputs": []
    },
    {
      "cell_type": "code",
      "metadata": {
        "id": "rV5r7htwepv2",
        "outputId": "4e389a5e-7fa6-4ad1-8594-48d3b8c5f10e",
        "colab": {
          "base_uri": "https://localhost:8080/"
        }
      },
      "source": [
        "tfidf = TfidfVectorizer(preprocessor=' '.join, min_df=3)\n",
        "tfidf.fit(comments['stem_tokens'])"
      ],
      "execution_count": 41,
      "outputs": [
        {
          "output_type": "execute_result",
          "data": {
            "text/plain": [
              "TfidfVectorizer(analyzer='word', binary=False, decode_error='strict',\n",
              "                dtype=<class 'numpy.float64'>, encoding='utf-8',\n",
              "                input='content', lowercase=True, max_df=1.0, max_features=None,\n",
              "                min_df=3, ngram_range=(1, 1), norm='l2',\n",
              "                preprocessor=<built-in method join of str object at 0x7fe737fe0570>,\n",
              "                smooth_idf=True, stop_words=None, strip_accents=None,\n",
              "                sublinear_tf=False, token_pattern='(?u)\\\\b\\\\w\\\\w+\\\\b',\n",
              "                tokenizer=None, use_idf=True, vocabulary=None)"
            ]
          },
          "metadata": {
            "tags": []
          },
          "execution_count": 41
        }
      ]
    },
    {
      "cell_type": "code",
      "metadata": {
        "id": "jfs8DWr0e1eY"
      },
      "source": [
        "xtrain_tfidf =  tfidf.transform(train_x).toarray()\n",
        "xvalid_tfidf =  tfidf.transform(valid_x).toarray()"
      ],
      "execution_count": 43,
      "outputs": []
    },
    {
      "cell_type": "code",
      "metadata": {
        "id": "EfkEpS53gkea"
      },
      "source": [
        "def train_model(classifier, feature_vector_train, label, feature_vector_valid, is_neural_net=False):\n",
        "    classifier.fit(feature_vector_train, label)\n",
        "    \n",
        "    predictions = classifier.predict(feature_vector_valid)\n",
        "    \n",
        "    if is_neural_net:\n",
        "        predictions = predictions.argmax(axis=-1)\n",
        "    \n",
        "    return metrics.accuracy_score(predictions, valid_y)"
      ],
      "execution_count": 45,
      "outputs": []
    },
    {
      "cell_type": "code",
      "metadata": {
        "id": "yajhxXAYhKsm",
        "outputId": "21c52bec-5900-4508-d0db-217ff6fba0f7",
        "colab": {
          "base_uri": "https://localhost:8080/"
        }
      },
      "source": [
        "accuracy = train_model(linear_model.LogisticRegression(), xtrain_tfidf, train_y, xvalid_tfidf)\n",
        "print(\"LR, Count Vectors: \", accuracy)"
      ],
      "execution_count": 46,
      "outputs": [
        {
          "output_type": "stream",
          "text": [
            "LR, Count Vectors:  0.9272727272727272\n"
          ],
          "name": "stdout"
        }
      ]
    },
    {
      "cell_type": "code",
      "metadata": {
        "id": "tJHzA1_ch2Uq",
        "outputId": "809ed3ea-388e-4933-f40e-6f1a59c4099c",
        "colab": {
          "base_uri": "https://localhost:8080/"
        }
      },
      "source": [
        "classifier=linear_model.LogisticRegression()\n",
        "classifier.fit(xtrain_tfidf, train_y)\n",
        "predictions = classifier.predict(xvalid_tfidf)\n",
        "metrics.accuracy_score(predictions, valid_y)"
      ],
      "execution_count": 47,
      "outputs": [
        {
          "output_type": "execute_result",
          "data": {
            "text/plain": [
              "0.9272727272727272"
            ]
          },
          "metadata": {
            "tags": []
          },
          "execution_count": 47
        }
      ]
    },
    {
      "cell_type": "markdown",
      "metadata": {
        "id": "S63Wi4q1a0SG"
      },
      "source": [
        "Сверточные сети"
      ]
    },
    {
      "cell_type": "code",
      "metadata": {
        "id": "AxGaaDgtedNd"
      },
      "source": [
        "max_words = 1000\n",
        "max_len = 50\n",
        "num_classes = 3\n",
        "\n",
        "# Training\n",
        "epochs = 20\n",
        "batch_size = 5\n",
        "print_batch_n = 5"
      ],
      "execution_count": 51,
      "outputs": []
    },
    {
      "cell_type": "code",
      "metadata": {
        "id": "5-1jTS7Obc9b"
      },
      "source": [
        "num_classes = 3\n",
        "y = keras.utils.to_categorical(comments[\"label\"], num_classes)"
      ],
      "execution_count": 52,
      "outputs": []
    },
    {
      "cell_type": "code",
      "metadata": {
        "id": "uTxMXyWmfvUE"
      },
      "source": [
        "train_x, valid_x, train_y, valid_y = model_selection.train_test_split(comments['stem_tokens'], y)"
      ],
      "execution_count": 53,
      "outputs": []
    },
    {
      "cell_type": "code",
      "metadata": {
        "id": "jFJUHtAQgQ_1"
      },
      "source": [
        "xtrain_tfidf =  tfidf.transform(train_x).toarray()\n",
        "xvalid_tfidf =  tfidf.transform(valid_x).toarray()"
      ],
      "execution_count": 54,
      "outputs": []
    },
    {
      "cell_type": "code",
      "metadata": {
        "id": "3eIVbXxdgsDV",
        "outputId": "417e0f2b-52aa-4d56-e2fa-bf1fda5c068b",
        "colab": {
          "base_uri": "https://localhost:8080/"
        }
      },
      "source": [
        "xtrain_tfidf[0]"
      ],
      "execution_count": 55,
      "outputs": [
        {
          "output_type": "execute_result",
          "data": {
            "text/plain": [
              "array([0.        , 0.        , 0.        , 0.        , 0.        ,\n",
              "       0.        , 0.        , 0.        , 0.        , 0.        ,\n",
              "       0.        , 0.        , 0.        , 0.        , 0.        ,\n",
              "       0.        , 0.        , 0.        , 0.        , 0.        ,\n",
              "       0.        , 0.        , 0.        , 0.        , 0.        ,\n",
              "       0.        , 0.        , 0.        , 0.        , 0.        ,\n",
              "       0.        , 0.        , 0.        , 0.67145768, 0.        ,\n",
              "       0.        , 0.        , 0.        , 0.        , 0.        ,\n",
              "       0.7410429 ])"
            ]
          },
          "metadata": {
            "tags": []
          },
          "execution_count": 55
        }
      ]
    },
    {
      "cell_type": "code",
      "metadata": {
        "id": "hrqlU7q5i2d9"
      },
      "source": [
        "l=[]\n",
        "for i,values in comments['stem_tokens'].iteritems():\n",
        "  for v in values:\n",
        "    l.append(v)\n",
        "\n",
        "  \n",
        "\n",
        "s=comments['stem_tokens'].apply(' '.join)\n",
        "max_len=len(set(l))\n",
        "\n"
      ],
      "execution_count": 56,
      "outputs": []
    },
    {
      "cell_type": "code",
      "metadata": {
        "id": "8GMi-1aReSt3"
      },
      "source": [
        "model = Sequential()\n",
        "model.add(Embedding(input_dim=max_len+1, output_dim=32, input_length=41\n",
        "                   ))\n",
        "model.add(Conv1D(32, 2))\n",
        "model.add(Activation(\"relu\"))\n",
        "model.add(GlobalMaxPool1D())\n",
        "model.add(Dense(10))\n",
        "model.add(Activation(\"relu\"))\n",
        "model.add(Dense(num_classes))\n",
        "model.add(Activation('softmax'))"
      ],
      "execution_count": 57,
      "outputs": []
    },
    {
      "cell_type": "code",
      "metadata": {
        "id": "5K1CqcUIeWJM"
      },
      "source": [
        "model.compile(loss='categorical_crossentropy',\n",
        "              optimizer='adam',\n",
        "              metrics=['accuracy'])"
      ],
      "execution_count": 58,
      "outputs": []
    },
    {
      "cell_type": "code",
      "metadata": {
        "id": "qDxyEaJKeXxz",
        "outputId": "ef6f272e-cb70-4abb-f44b-73416023589e",
        "colab": {
          "base_uri": "https://localhost:8080/"
        }
      },
      "source": [
        "tensorboard=TensorBoard(log_dir='./logs', write_graph=True, write_images=True)\n",
        "early_stopping=EarlyStopping(monitor='val_loss')  \n",
        "\n",
        "\n",
        "history = model.fit(xtrain_tfidf, train_y,\n",
        "                    batch_size=batch_size,\n",
        "                    epochs=epochs,\n",
        "                    verbose=1,\n",
        "                    validation_split=0.1,\n",
        "                    callbacks=[tensorboard, early_stopping])"
      ],
      "execution_count": 59,
      "outputs": [
        {
          "output_type": "stream",
          "text": [
            "Epoch 1/20\n",
            " 1/29 [>.............................] - ETA: 0s - loss: 1.0987 - accuracy: 0.6000WARNING:tensorflow:From /usr/local/lib/python3.6/dist-packages/tensorflow/python/ops/summary_ops_v2.py:1277: stop (from tensorflow.python.eager.profiler) is deprecated and will be removed after 2020-07-01.\n",
            "Instructions for updating:\n",
            "use `tf.profiler.experimental.stop` instead.\n",
            "WARNING:tensorflow:Callbacks method `on_train_batch_end` is slow compared to the batch time (batch time: 0.0106s vs `on_train_batch_end` time: 0.0344s). Check your callbacks.\n",
            "29/29 [==============================] - 0s 14ms/step - loss: 1.0750 - accuracy: 0.4414 - val_loss: 1.0584 - val_accuracy: 0.4706\n",
            "Epoch 2/20\n",
            "29/29 [==============================] - 0s 4ms/step - loss: 1.0445 - accuracy: 0.4414 - val_loss: 1.0381 - val_accuracy: 0.4706\n",
            "Epoch 3/20\n",
            "29/29 [==============================] - 0s 4ms/step - loss: 1.0310 - accuracy: 0.4414 - val_loss: 1.0371 - val_accuracy: 0.4706\n",
            "Epoch 4/20\n",
            "29/29 [==============================] - 0s 3ms/step - loss: 1.0255 - accuracy: 0.4414 - val_loss: 1.0399 - val_accuracy: 0.4706\n"
          ],
          "name": "stdout"
        }
      ]
    },
    {
      "cell_type": "markdown",
      "metadata": {
        "id": "D4c3FNp2s5nu"
      },
      "source": [
        "Обработка вопроса пользователя"
      ]
    },
    {
      "cell_type": "code",
      "metadata": {
        "id": "mmAuB7SZs9C3"
      },
      "source": [
        "stop_words = set(stopwords.words(\"russian\"))\n",
        "def preprocess(t):\n",
        "  t=t.lower()\n",
        "  #t=t.replace('й','и')\n",
        "  #t=t.replace('ё','е')\n",
        "  t=re.sub(r'[^\\w\\s]',' ',t)\n",
        "  t=re.sub(r'\\d+(?:.\\d+)?','цифра',t)\n",
        "  t=re.sub(r'[a-z]+(?:.[a-z]+)?','буква',t)\n",
        "  t=tknz.word_tokenize(t)\n",
        "  t=[word for word  in t if (not word in stop_words) and (len(word)>2)]\n",
        "  t=[morph.parse(word)[0].normal_form for word  in t]\n",
        "  \n",
        "  return t\n"
      ],
      "execution_count": 76,
      "outputs": []
    },
    {
      "cell_type": "code",
      "metadata": {
        "id": "RSXFPAx0Fsy9",
        "outputId": "9c796472-9892-43d3-b98d-627daefdd79a",
        "colab": {
          "base_uri": "https://localhost:8080/"
        }
      },
      "source": [
        "!pip install python-telegram-bot --upgrade"
      ],
      "execution_count": 65,
      "outputs": [
        {
          "output_type": "stream",
          "text": [
            "Collecting python-telegram-bot\n",
            "\u001b[?25l  Downloading https://files.pythonhosted.org/packages/6d/ad/e86f885ab66e54a5f813131e03bd8682ee0b3d2b6a2cde53ed7828b9ef0a/python_telegram_bot-13.0-py2.py3-none-any.whl (404kB)\n",
            "\r\u001b[K     |▉                               | 10kB 26.9MB/s eta 0:00:01\r\u001b[K     |█▋                              | 20kB 33.1MB/s eta 0:00:01\r\u001b[K     |██▍                             | 30kB 21.0MB/s eta 0:00:01\r\u001b[K     |███▎                            | 40kB 17.2MB/s eta 0:00:01\r\u001b[K     |████                            | 51kB 12.9MB/s eta 0:00:01\r\u001b[K     |████▉                           | 61kB 13.6MB/s eta 0:00:01\r\u001b[K     |█████▊                          | 71kB 13.2MB/s eta 0:00:01\r\u001b[K     |██████▌                         | 81kB 13.2MB/s eta 0:00:01\r\u001b[K     |███████▎                        | 92kB 13.0MB/s eta 0:00:01\r\u001b[K     |████████                        | 102kB 12.8MB/s eta 0:00:01\r\u001b[K     |█████████                       | 112kB 12.8MB/s eta 0:00:01\r\u001b[K     |█████████▊                      | 122kB 12.8MB/s eta 0:00:01\r\u001b[K     |██████████▌                     | 133kB 12.8MB/s eta 0:00:01\r\u001b[K     |███████████▍                    | 143kB 12.8MB/s eta 0:00:01\r\u001b[K     |████████████▏                   | 153kB 12.8MB/s eta 0:00:01\r\u001b[K     |█████████████                   | 163kB 12.8MB/s eta 0:00:01\r\u001b[K     |█████████████▊                  | 174kB 12.8MB/s eta 0:00:01\r\u001b[K     |██████████████▋                 | 184kB 12.8MB/s eta 0:00:01\r\u001b[K     |███████████████▍                | 194kB 12.8MB/s eta 0:00:01\r\u001b[K     |████████████████▏               | 204kB 12.8MB/s eta 0:00:01\r\u001b[K     |█████████████████               | 215kB 12.8MB/s eta 0:00:01\r\u001b[K     |█████████████████▉              | 225kB 12.8MB/s eta 0:00:01\r\u001b[K     |██████████████████▋             | 235kB 12.8MB/s eta 0:00:01\r\u001b[K     |███████████████████▌            | 245kB 12.8MB/s eta 0:00:01\r\u001b[K     |████████████████████▎           | 256kB 12.8MB/s eta 0:00:01\r\u001b[K     |█████████████████████           | 266kB 12.8MB/s eta 0:00:01\r\u001b[K     |█████████████████████▉          | 276kB 12.8MB/s eta 0:00:01\r\u001b[K     |██████████████████████▊         | 286kB 12.8MB/s eta 0:00:01\r\u001b[K     |███████████████████████▌        | 296kB 12.8MB/s eta 0:00:01\r\u001b[K     |████████████████████████▎       | 307kB 12.8MB/s eta 0:00:01\r\u001b[K     |█████████████████████████▏      | 317kB 12.8MB/s eta 0:00:01\r\u001b[K     |██████████████████████████      | 327kB 12.8MB/s eta 0:00:01\r\u001b[K     |██████████████████████████▊     | 337kB 12.8MB/s eta 0:00:01\r\u001b[K     |███████████████████████████▌    | 348kB 12.8MB/s eta 0:00:01\r\u001b[K     |████████████████████████████▍   | 358kB 12.8MB/s eta 0:00:01\r\u001b[K     |█████████████████████████████▏  | 368kB 12.8MB/s eta 0:00:01\r\u001b[K     |██████████████████████████████  | 378kB 12.8MB/s eta 0:00:01\r\u001b[K     |██████████████████████████████▉ | 389kB 12.8MB/s eta 0:00:01\r\u001b[K     |███████████████████████████████▋| 399kB 12.8MB/s eta 0:00:01\r\u001b[K     |████████████████████████████████| 409kB 12.8MB/s \n",
            "\u001b[?25hRequirement already satisfied, skipping upgrade: certifi in /usr/local/lib/python3.6/dist-packages (from python-telegram-bot) (2020.6.20)\n",
            "Requirement already satisfied, skipping upgrade: decorator>=4.4.0 in /usr/local/lib/python3.6/dist-packages (from python-telegram-bot) (4.4.2)\n",
            "Collecting APScheduler==3.6.3\n",
            "\u001b[?25l  Downloading https://files.pythonhosted.org/packages/f3/34/9ef20ed473c4fd2c3df54ef77a27ae3fc7500b16b192add4720cab8b2c09/APScheduler-3.6.3-py2.py3-none-any.whl (58kB)\n",
            "\u001b[K     |████████████████████████████████| 61kB 10.4MB/s \n",
            "\u001b[?25hCollecting cryptography\n",
            "\u001b[?25l  Downloading https://files.pythonhosted.org/packages/4c/a2/6565c5271a79e3c96d7a079053b4d8408a740d4bf365f0f5f244a807bd09/cryptography-3.2.1-cp35-abi3-manylinux2010_x86_64.whl (2.6MB)\n",
            "\u001b[K     |████████████████████████████████| 2.6MB 55.8MB/s \n",
            "\u001b[?25hRequirement already satisfied, skipping upgrade: tornado>=5.1 in /usr/local/lib/python3.6/dist-packages (from python-telegram-bot) (5.1.1)\n",
            "Requirement already satisfied, skipping upgrade: pytz in /usr/local/lib/python3.6/dist-packages (from APScheduler==3.6.3->python-telegram-bot) (2018.9)\n",
            "Requirement already satisfied, skipping upgrade: six>=1.4.0 in /usr/local/lib/python3.6/dist-packages (from APScheduler==3.6.3->python-telegram-bot) (1.15.0)\n",
            "Requirement already satisfied, skipping upgrade: setuptools>=0.7 in /usr/local/lib/python3.6/dist-packages (from APScheduler==3.6.3->python-telegram-bot) (50.3.2)\n",
            "Requirement already satisfied, skipping upgrade: tzlocal>=1.2 in /usr/local/lib/python3.6/dist-packages (from APScheduler==3.6.3->python-telegram-bot) (1.5.1)\n",
            "Requirement already satisfied, skipping upgrade: cffi!=1.11.3,>=1.8 in /usr/local/lib/python3.6/dist-packages (from cryptography->python-telegram-bot) (1.14.3)\n",
            "Requirement already satisfied, skipping upgrade: pycparser in /usr/local/lib/python3.6/dist-packages (from cffi!=1.11.3,>=1.8->cryptography->python-telegram-bot) (2.20)\n",
            "Installing collected packages: APScheduler, cryptography, python-telegram-bot\n",
            "Successfully installed APScheduler-3.6.3 cryptography-3.2.1 python-telegram-bot-13.0\n"
          ],
          "name": "stdout"
        }
      ]
    },
    {
      "cell_type": "code",
      "metadata": {
        "id": "T-GFNSIdFuG2"
      },
      "source": [
        "\n",
        "from telegram import Update\n",
        "from telegram.ext import Updater, CommandHandler, MessageHandler, Filters, CallbackContext"
      ],
      "execution_count": 66,
      "outputs": []
    },
    {
      "cell_type": "code",
      "metadata": {
        "id": "XNE0ybbNF7Wo"
      },
      "source": [
        "updater = Updater(token='1415308089:AAE0trR--jknLB0XLDLDD-3RrX5Cai_8q2s') # Токен API к Telegram\n",
        "dispatcher = updater.dispatcher"
      ],
      "execution_count": 67,
      "outputs": []
    },
    {
      "cell_type": "code",
      "metadata": {
        "id": "qlEzNpPqGqCD"
      },
      "source": [
        "def startCommand(bot, update):\n",
        "    bot.send_message(chat_id=update.message.chat_id, text='Здравствуйте, какой вопрос вас интересует?')"
      ],
      "execution_count": 68,
      "outputs": []
    },
    {
      "cell_type": "code",
      "metadata": {
        "id": "uzU5zce4Gqys"
      },
      "source": [
        "def textMessage(bot, update):\n",
        "    response = 'Ваше сообщение принял ' + update.message.text # формируем текст ответа\n",
        "    bot.send_message(chat_id=update.message.chat_id, text=response)"
      ],
      "execution_count": 69,
      "outputs": []
    },
    {
      "cell_type": "code",
      "metadata": {
        "id": "6NaCmMU2G808"
      },
      "source": [
        "import logging\n",
        "# Enable logging\n",
        "logging.basicConfig(\n",
        "    format='%(asctime)s - %(name)s - %(levelname)s - %(message)s', level=logging.INFO\n",
        ")\n",
        "\n",
        "logger = logging.getLogger()"
      ],
      "execution_count": 70,
      "outputs": []
    },
    {
      "cell_type": "code",
      "metadata": {
        "id": "FteFe-FdvLbc"
      },
      "source": [
        "ship='Доставка возможна во все регионы России через службу доставки Boxberry. \\\n",
        "  Стоимость доставки рассчитывается при оформлении заказа. \\\n",
        "  Отследить отправление: https://boxberry.ru/tracking/\\\n",
        "  MEDIA LAND STORE принимает заказы в режиме online КРУГЛОСУТОЧНО. \\\n",
        "  Заказы обрабатываются по мере их поступления, по будням с 11:00 до 20:00.\\\n",
        "   Статус всех заказов обновляется автоматически.\\\n",
        "  К сожалению, на данный момент доставка в Украину не осуществляется'\n"
      ],
      "execution_count": 71,
      "outputs": []
    },
    {
      "cell_type": "code",
      "metadata": {
        "id": "aGRnQou0v4B8"
      },
      "source": [
        "price='Актуальные цены с учетом скидок и акций на весь ассортимент \\\n",
        " товаров вы можете посомтреть на сайте https://medialand.store/nki/tproduct '\n"
      ],
      "execution_count": 72,
      "outputs": []
    },
    {
      "cell_type": "code",
      "metadata": {
        "id": "6x2roalewd1l"
      },
      "source": [
        "size='Наличие размера вы можете посмотреть в информации о товаре на сайте \\\n",
        "https://medialand.store/nki/tproduct. Если при выборе размера на сайте строка\\\n",
        " с требуемым размером не активна, значит товара нет в наличии.'\n"
      ],
      "execution_count": 73,
      "outputs": []
    },
    {
      "cell_type": "code",
      "metadata": {
        "id": "XH4-H6m2HfTx"
      },
      "source": [
        "\n",
        "  \n",
        "def start(update: Update, context: CallbackContext):\n",
        "    update.message.reply_text('Здравствуйте, какой вопрос вас интересует?!')\n",
        "\n",
        "def echo(update: Update, context: CallbackContext):\n",
        "    txt = update.message.text\n",
        "    #print(txt)\n",
        "    if np.amax(classifier.predict_proba(tfidf.transform([preprocess(txt)]).toarray()))>0.7:\n",
        "      answer=classifier.predict(tfidf.transform([preprocess(txt)]).toarray())[0]\n",
        "      #print(answer)\n",
        "      if answer==0:\n",
        "        update.message.reply_text(ship)\n",
        "      elif answer==1:\n",
        "        update.message.reply_text(size)\n",
        "      elif answer==2:\n",
        "        update.message.reply_text(price)\n",
        "    else:\n",
        "      \n",
        "      \n",
        "      update.message.reply_text('Переформулируйте вопрос, пожалуйста!')\n",
        "\n",
        "\n",
        "   "
      ],
      "execution_count": 74,
      "outputs": []
    },
    {
      "cell_type": "code",
      "metadata": {
        "id": "pXypnxqSHqwQ",
        "outputId": "e77aeb43-b2f4-4a26-d985-ee3b32cf4c76",
        "colab": {
          "base_uri": "https://localhost:8080/"
        }
      },
      "source": [
        "updater = Updater(\"1415308089:AAE0trR--jknLB0XLDLDD-3RrX5Cai_8q2s\", use_context=True)\n",
        "dispatcher = updater.dispatcher\n",
        "\n",
        "# on different commands - answer in Telegram\n",
        "dispatcher.add_handler(CommandHandler(\"start\", start))\n",
        "dispatcher.add_handler(MessageHandler(Filters.text & ~Filters.command, echo))\n",
        "\n",
        "# Start the Bot\n",
        "updater.start_polling()\n",
        "updater.idle()"
      ],
      "execution_count": 75,
      "outputs": [
        {
          "output_type": "stream",
          "text": [
            "2020-11-16 20:35:23,800 - apscheduler.scheduler - INFO - Scheduler started\n",
            "2020-11-16 20:37:31,050 - telegram.ext.updater - INFO - Received signal 2 (SIGINT), stopping...\n",
            "2020-11-16 20:37:31,052 - apscheduler.scheduler - INFO - Scheduler has been shut down\n"
          ],
          "name": "stderr"
        }
      ]
    }
  ]
}