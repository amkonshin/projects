{
 "cells": [
  {
   "cell_type": "code",
   "execution_count": 12,
   "metadata": {
    "id": "9RTlIKVP63xS"
   },
   "outputs": [],
   "source": [
    "import pandas as pd \n",
    "import numpy as np\n",
    "import re\n",
    "from sklearn import model_selection, preprocessing, linear_model, naive_bayes, metrics, svm\n",
    "from sklearn.feature_extraction.text import TfidfVectorizer, CountVectorizer\n",
    "import keras\n",
    "from keras.models import Sequential, Model\n",
    "from keras.layers import Dense, Dropout, Activation, Input, Embedding, Conv1D, GlobalMaxPool1D\n",
    "from keras.preprocessing.text import Tokenizer\n",
    "from keras.preprocessing.sequence import pad_sequences\n",
    "from keras.callbacks import TensorBoard \n",
    "from keras.objectives import categorical_crossentropy\n",
    "from keras.callbacks import EarlyStopping \n",
    "import nltk\n",
    "from nltk import tokenize as tknz\n",
    "from nltk.corpus import stopwords"
   ]
  },
  {
   "cell_type": "code",
   "execution_count": 13,
   "metadata": {
    "id": "YqxC09Ug6_Qy"
   },
   "outputs": [],
   "source": [
    "comments=pd.read_excel('com.xlsx', names=['question','label'], header=None )"
   ]
  },
  {
   "cell_type": "code",
   "execution_count": 14,
   "metadata": {
    "colab": {
     "base_uri": "https://localhost:8080/",
     "height": 419
    },
    "id": "5TlRY_KB7VWh",
    "outputId": "98467c22-86cc-4b05-c617-10a2a8a2add2"
   },
   "outputs": [
    {
     "data": {
      "text/html": [
       "<div>\n",
       "<style scoped>\n",
       "    .dataframe tbody tr th:only-of-type {\n",
       "        vertical-align: middle;\n",
       "    }\n",
       "\n",
       "    .dataframe tbody tr th {\n",
       "        vertical-align: top;\n",
       "    }\n",
       "\n",
       "    .dataframe thead th {\n",
       "        text-align: right;\n",
       "    }\n",
       "</style>\n",
       "<table border=\"1\" class=\"dataframe\">\n",
       "  <thead>\n",
       "    <tr style=\"text-align: right;\">\n",
       "      <th></th>\n",
       "      <th>question</th>\n",
       "      <th>label</th>\n",
       "    </tr>\n",
       "  </thead>\n",
       "  <tbody>\n",
       "    <tr>\n",
       "      <th>0</th>\n",
       "      <td>Добрый день. А как можно заказать?</td>\n",
       "      <td>0</td>\n",
       "    </tr>\n",
       "    <tr>\n",
       "      <th>1</th>\n",
       "      <td>Цена пожалуйста</td>\n",
       "      <td>2</td>\n",
       "    </tr>\n",
       "    <tr>\n",
       "      <th>2</th>\n",
       "      <td>Маска сколько стоит?</td>\n",
       "      <td>2</td>\n",
       "    </tr>\n",
       "    <tr>\n",
       "      <th>3</th>\n",
       "      <td>S размер  есть</td>\n",
       "      <td>1</td>\n",
       "    </tr>\n",
       "    <tr>\n",
       "      <th>4</th>\n",
       "      <td>45 размер есть?</td>\n",
       "      <td>1</td>\n",
       "    </tr>\n",
       "    <tr>\n",
       "      <th>...</th>\n",
       "      <td>...</td>\n",
       "      <td>...</td>\n",
       "    </tr>\n",
       "    <tr>\n",
       "      <th>238</th>\n",
       "      <td>Вы отправляете в др города?</td>\n",
       "      <td>0</td>\n",
       "    </tr>\n",
       "    <tr>\n",
       "      <th>239</th>\n",
       "      <td>Есть в начиии в магазине S,M?</td>\n",
       "      <td>1</td>\n",
       "    </tr>\n",
       "    <tr>\n",
       "      <th>240</th>\n",
       "      <td>Как можно приобрести такую шубу либо заказать</td>\n",
       "      <td>0</td>\n",
       "    </tr>\n",
       "    <tr>\n",
       "      <th>241</th>\n",
       "      <td>И цену скажите пожалуйста</td>\n",
       "      <td>2</td>\n",
       "    </tr>\n",
       "    <tr>\n",
       "      <th>242</th>\n",
       "      <td>Какие условия доставки в Новосибирск?</td>\n",
       "      <td>1</td>\n",
       "    </tr>\n",
       "  </tbody>\n",
       "</table>\n",
       "<p>243 rows × 2 columns</p>\n",
       "</div>"
      ],
      "text/plain": [
       "                                          question  label\n",
       "0               Добрый день. А как можно заказать?      0\n",
       "1                                  Цена пожалуйста      2\n",
       "2                             Маска сколько стоит?      2\n",
       "3                                   S размер  есть      1\n",
       "4                                  45 размер есть?      1\n",
       "..                                             ...    ...\n",
       "238                    Вы отправляете в др города?      0\n",
       "239                  Есть в начиии в магазине S,M?      1\n",
       "240  Как можно приобрести такую шубу либо заказать      0\n",
       "241                      И цену скажите пожалуйста      2\n",
       "242          Какие условия доставки в Новосибирск?      1\n",
       "\n",
       "[243 rows x 2 columns]"
      ]
     },
     "execution_count": 14,
     "metadata": {
      "tags": []
     },
     "output_type": "execute_result"
    }
   ],
   "source": [
    "comments"
   ]
  },
  {
   "cell_type": "code",
   "execution_count": 15,
   "metadata": {
    "id": "sy79bfEKaBsl"
   },
   "outputs": [],
   "source": [
    "comments.drop(index=comments[comments['label']==3].index, inplace=True)"
   ]
  },
  {
   "cell_type": "markdown",
   "metadata": {},
   "source": [
    "### Предобработка вопросов"
   ]
  },
  {
   "cell_type": "code",
   "execution_count": 16,
   "metadata": {
    "id": "e-Ws4IqeKkvZ"
   },
   "outputs": [],
   "source": [
    "def lower_text(questions):\n",
    "    \n",
    "    clean_text=[]\n",
    "    for question in questions:\n",
    "        question=question.lower()\n",
    "        clean_text.append(question)\n",
    "    return clean_text"
   ]
  },
  {
   "cell_type": "code",
   "execution_count": 17,
   "metadata": {
    "id": "0-3OjFI0K5Kf"
   },
   "outputs": [],
   "source": [
    "comments['clear_text']=lower_text(np.array(comments['question']))"
   ]
  },
  {
   "cell_type": "code",
   "execution_count": 18,
   "metadata": {
    "id": "qJjaKGvUMksM"
   },
   "outputs": [],
   "source": [
    "def change(text):\n",
    "    clean_text=[]\n",
    "    for t in text:\n",
    "        t=t.replace('й','и')\n",
    "        t=t.replace('ё','е')\n",
    "        clean_text.append(t)\n",
    "    return clean_text\n",
    "  \n"
   ]
  },
  {
   "cell_type": "code",
   "execution_count": 19,
   "metadata": {
    "id": "E9tDZ0PWMzZ0"
   },
   "outputs": [],
   "source": [
    "comments['clear_text']=change(np.array(comments['clear_text']))"
   ]
  },
  {
   "cell_type": "code",
   "execution_count": 20,
   "metadata": {
    "id": "13tfXwK5LgOX"
   },
   "outputs": [],
   "source": [
    "def punctuation(text):\n",
    "    clean_text=[]\n",
    "    for t in text:\n",
    "        t=re.sub(r'[^\\w\\s]',' ',t)\n",
    "        clean_text.append(t)\n",
    "    return clean_text"
   ]
  },
  {
   "cell_type": "code",
   "execution_count": 21,
   "metadata": {
    "id": "AKBxpHjyMDzB"
   },
   "outputs": [],
   "source": [
    "comments['clear_text']=punctuation(np.array(comments['clear_text']))"
   ]
  },
  {
   "cell_type": "code",
   "execution_count": 22,
   "metadata": {
    "id": "Yf4M2smITdVH"
   },
   "outputs": [],
   "source": [
    "def size(text):\n",
    "    clean_text=[]\n",
    "    for t in text:\n",
    "        t=re.sub(r'\\d+(?:.\\d+)?','цифра',t)\n",
    "        \n",
    "        t=re.sub(r'[a-z]+(?:.[a-z]+)?','буква',t)\n",
    "        clean_text.append(t)\n",
    "    return clean_text"
   ]
  },
  {
   "cell_type": "code",
   "execution_count": 23,
   "metadata": {
    "id": "ZPfL6g3ZT-Nn"
   },
   "outputs": [],
   "source": [
    "comments['clear_text']=size(np.array(comments['clear_text']))"
   ]
  },
  {
   "cell_type": "code",
   "execution_count": 24,
   "metadata": {
    "id": "_5aaM8tMSibo"
   },
   "outputs": [],
   "source": [
    "def spec_punctuation(text):\n",
    "    clean_text=[]\n",
    "    for t in text:\n",
    "        t=re.sub(r'[^а-яА-Я0-9]',' ',t)\n",
    "        clean_text.append(t)\n",
    "    return clean_text"
   ]
  },
  {
   "cell_type": "code",
   "execution_count": 25,
   "metadata": {
    "id": "-HRjqWF0TQf-"
   },
   "outputs": [],
   "source": [
    "comments['clear_text']=spec_punctuation(np.array(comments['clear_text']))"
   ]
  },
  {
   "cell_type": "code",
   "execution_count": 26,
   "metadata": {
    "id": "noxXBq8RatW6"
   },
   "outputs": [],
   "source": [
    "def one(text):\n",
    "    clean_text=[]\n",
    "    for t in text:\n",
    "        t=' '.join([w for w in t.split() if len(w)>2])\n",
    "        clean_text.append(t)\n",
    "    return clean_text"
   ]
  },
  {
   "cell_type": "code",
   "execution_count": 27,
   "metadata": {
    "id": "iqeN3-v9a_GR"
   },
   "outputs": [],
   "source": [
    "comments['clear_text']=one(np.array(comments['clear_text']))"
   ]
  },
  {
   "cell_type": "code",
   "execution_count": 28,
   "metadata": {
    "colab": {
     "base_uri": "https://localhost:8080/",
     "height": 297
    },
    "id": "wtEOtbB3MQQ4",
    "outputId": "2f345d5c-7942-40aa-8614-fd99b9eb178e"
   },
   "outputs": [
    {
     "data": {
      "text/html": [
       "<div>\n",
       "<style scoped>\n",
       "    .dataframe tbody tr th:only-of-type {\n",
       "        vertical-align: middle;\n",
       "    }\n",
       "\n",
       "    .dataframe tbody tr th {\n",
       "        vertical-align: top;\n",
       "    }\n",
       "\n",
       "    .dataframe thead th {\n",
       "        text-align: right;\n",
       "    }\n",
       "</style>\n",
       "<table border=\"1\" class=\"dataframe\">\n",
       "  <thead>\n",
       "    <tr style=\"text-align: right;\">\n",
       "      <th></th>\n",
       "      <th>question</th>\n",
       "      <th>label</th>\n",
       "      <th>clear_text</th>\n",
       "    </tr>\n",
       "  </thead>\n",
       "  <tbody>\n",
       "    <tr>\n",
       "      <th>60</th>\n",
       "      <td>45 46 есть в наличии?</td>\n",
       "      <td>1</td>\n",
       "      <td>цифра есть наличии</td>\n",
       "    </tr>\n",
       "    <tr>\n",
       "      <th>61</th>\n",
       "      <td>А как заказать</td>\n",
       "      <td>0</td>\n",
       "      <td>как заказать</td>\n",
       "    </tr>\n",
       "    <tr>\n",
       "      <th>62</th>\n",
       "      <td>Xs есть?</td>\n",
       "      <td>1</td>\n",
       "      <td>буква есть</td>\n",
       "    </tr>\n",
       "    <tr>\n",
       "      <th>63</th>\n",
       "      <td>Размеры M/S есть?</td>\n",
       "      <td>1</td>\n",
       "      <td>размеры буква есть</td>\n",
       "    </tr>\n",
       "    <tr>\n",
       "      <th>64</th>\n",
       "      <td>А размеры есть большие?</td>\n",
       "      <td>1</td>\n",
       "      <td>размеры есть большие</td>\n",
       "    </tr>\n",
       "    <tr>\n",
       "      <th>65</th>\n",
       "      <td>А есть 46-47? Хоть какие нибудь)</td>\n",
       "      <td>1</td>\n",
       "      <td>есть цифра хоть какие нибудь</td>\n",
       "    </tr>\n",
       "    <tr>\n",
       "      <th>66</th>\n",
       "      <td>Есть 46 размер ?</td>\n",
       "      <td>1</td>\n",
       "      <td>есть цифра размер</td>\n",
       "    </tr>\n",
       "    <tr>\n",
       "      <th>67</th>\n",
       "      <td>Какие размеры?</td>\n",
       "      <td>1</td>\n",
       "      <td>какие размеры</td>\n",
       "    </tr>\n",
       "  </tbody>\n",
       "</table>\n",
       "</div>"
      ],
      "text/plain": [
       "                            question  label                    clear_text\n",
       "60             45 46 есть в наличии?      1            цифра есть наличии\n",
       "61                    А как заказать      0                  как заказать\n",
       "62                          Xs есть?      1                    буква есть\n",
       "63                 Размеры M/S есть?      1            размеры буква есть\n",
       "64           А размеры есть большие?      1          размеры есть большие\n",
       "65  А есть 46-47? Хоть какие нибудь)      1  есть цифра хоть какие нибудь\n",
       "66                  Есть 46 размер ?      1             есть цифра размер\n",
       "67                    Какие размеры?      1                 какие размеры"
      ]
     },
     "execution_count": 28,
     "metadata": {
      "tags": []
     },
     "output_type": "execute_result"
    }
   ],
   "source": [
    "comments[60:68]"
   ]
  },
  {
   "cell_type": "markdown",
   "metadata": {},
   "source": [
    "### Токенизация, стемминг"
   ]
  },
  {
   "cell_type": "code",
   "execution_count": 31,
   "metadata": {
    "id": "tumprnOVbPjJ"
   },
   "outputs": [],
   "source": [
    "def word_tokens(text):\n",
    "    clean_text=[]\n",
    "    for t in text:\n",
    "        t=tknz.word_tokenize(t)\n",
    "        clean_text.append(t)\n",
    "    return clean_text"
   ]
  },
  {
   "cell_type": "code",
   "execution_count": 32,
   "metadata": {
    "id": "Q8wIblHdbXhI"
   },
   "outputs": [],
   "source": [
    "comments['tokens']=word_tokens(np.array(comments['clear_text']))"
   ]
  },
  {
   "cell_type": "code",
   "execution_count": 33,
   "metadata": {
    "id": "-VDkATsrccGY"
   },
   "outputs": [],
   "source": [
    "def stop_word_tokens(text):\n",
    "    clean_tetx=[]\n",
    "    stop_words = set(stopwords.words(\"russian\"))\n",
    "    for t in text:\n",
    "        t=[word for word  in t if not word in stop_words]\n",
    "        \n",
    "        clean_tetx.append(t)\n",
    "    return clean_tetx"
   ]
  },
  {
   "cell_type": "code",
   "execution_count": 34,
   "metadata": {
    "id": "enRB1CoTc4EO"
   },
   "outputs": [],
   "source": [
    "comments['clean_tokens']=stop_word_tokens(np.array(comments['tokens']))"
   ]
  },
  {
   "cell_type": "code",
   "execution_count": 36,
   "metadata": {
    "id": "hoDumym-i8xH"
   },
   "outputs": [],
   "source": [
    "import pymorphy2\n",
    "morph = pymorphy2.MorphAnalyzer()"
   ]
  },
  {
   "cell_type": "code",
   "execution_count": 37,
   "metadata": {
    "id": "SGxUNbWgeR79"
   },
   "outputs": [],
   "source": [
    "def stemmed_word_tokens(text):\n",
    "    clean_text=[]\n",
    "    \n",
    "    for t in text:\n",
    "        t=[morph.parse(word)[0].normal_form for word  in t]\n",
    "        \n",
    "        clean_text.append(t)\n",
    "    return clean_text"
   ]
  },
  {
   "cell_type": "code",
   "execution_count": 38,
   "metadata": {
    "id": "B7yvnDVae3hR"
   },
   "outputs": [],
   "source": [
    "comments['stem_tokens']=stemmed_word_tokens(np.array(comments['clean_tokens']))"
   ]
  },
  {
   "cell_type": "code",
   "execution_count": 40,
   "metadata": {
    "id": "3LOeKMC9cQt5"
   },
   "outputs": [],
   "source": [
    "train_x, valid_x, train_y, valid_y = model_selection.train_test_split(comments['stem_tokens'], comments['label'])"
   ]
  },
  {
   "cell_type": "markdown",
   "metadata": {},
   "source": [
    "### TFIDF vectors"
   ]
  },
  {
   "cell_type": "code",
   "execution_count": 41,
   "metadata": {
    "colab": {
     "base_uri": "https://localhost:8080/"
    },
    "id": "rV5r7htwepv2",
    "outputId": "4e389a5e-7fa6-4ad1-8594-48d3b8c5f10e"
   },
   "outputs": [
    {
     "data": {
      "text/plain": [
       "TfidfVectorizer(analyzer='word', binary=False, decode_error='strict',\n",
       "                dtype=<class 'numpy.float64'>, encoding='utf-8',\n",
       "                input='content', lowercase=True, max_df=1.0, max_features=None,\n",
       "                min_df=3, ngram_range=(1, 1), norm='l2',\n",
       "                preprocessor=<built-in method join of str object at 0x7fe737fe0570>,\n",
       "                smooth_idf=True, stop_words=None, strip_accents=None,\n",
       "                sublinear_tf=False, token_pattern='(?u)\\\\b\\\\w\\\\w+\\\\b',\n",
       "                tokenizer=None, use_idf=True, vocabulary=None)"
      ]
     },
     "execution_count": 41,
     "metadata": {
      "tags": []
     },
     "output_type": "execute_result"
    }
   ],
   "source": [
    "tfidf = TfidfVectorizer(preprocessor=' '.join, min_df=3)\n",
    "tfidf.fit(comments['stem_tokens'])"
   ]
  },
  {
   "cell_type": "code",
   "execution_count": 43,
   "metadata": {
    "id": "jfs8DWr0e1eY"
   },
   "outputs": [],
   "source": [
    "xtrain_tfidf =  tfidf.transform(train_x).toarray()\n",
    "xvalid_tfidf =  tfidf.transform(valid_x).toarray()"
   ]
  },
  {
   "cell_type": "code",
   "execution_count": 45,
   "metadata": {
    "id": "EfkEpS53gkea"
   },
   "outputs": [],
   "source": [
    "def train_model(classifier, feature_vector_train, label, feature_vector_valid, is_neural_net=False):\n",
    "    classifier.fit(feature_vector_train, label)\n",
    "    \n",
    "    predictions = classifier.predict(feature_vector_valid)\n",
    "    \n",
    "    if is_neural_net:\n",
    "        predictions = predictions.argmax(axis=-1)\n",
    "    \n",
    "    return metrics.accuracy_score(predictions, valid_y)"
   ]
  },
  {
   "cell_type": "code",
   "execution_count": 46,
   "metadata": {
    "colab": {
     "base_uri": "https://localhost:8080/"
    },
    "id": "yajhxXAYhKsm",
    "outputId": "21c52bec-5900-4508-d0db-217ff6fba0f7"
   },
   "outputs": [
    {
     "name": "stdout",
     "output_type": "stream",
     "text": [
      "LR, Count Vectors:  0.9272727272727272\n"
     ]
    }
   ],
   "source": [
    "accuracy = train_model(linear_model.LogisticRegression(), xtrain_tfidf, train_y, xvalid_tfidf)\n",
    "print(\"LR, Count Vectors: \", accuracy)"
   ]
  },
  {
   "cell_type": "code",
   "execution_count": 47,
   "metadata": {
    "colab": {
     "base_uri": "https://localhost:8080/"
    },
    "id": "tJHzA1_ch2Uq",
    "outputId": "809ed3ea-388e-4933-f40e-6f1a59c4099c"
   },
   "outputs": [
    {
     "data": {
      "text/plain": [
       "0.9272727272727272"
      ]
     },
     "execution_count": 47,
     "metadata": {
      "tags": []
     },
     "output_type": "execute_result"
    }
   ],
   "source": [
    "classifier=linear_model.LogisticRegression()\n",
    "classifier.fit(xtrain_tfidf, train_y)\n",
    "predictions = classifier.predict(xvalid_tfidf)\n",
    "metrics.accuracy_score(predictions, valid_y)"
   ]
  },
  {
   "cell_type": "markdown",
   "metadata": {
    "id": "S63Wi4q1a0SG"
   },
   "source": [
    "### Сверточные сети"
   ]
  },
  {
   "cell_type": "code",
   "execution_count": 51,
   "metadata": {
    "id": "AxGaaDgtedNd"
   },
   "outputs": [],
   "source": [
    "max_words = 1000\n",
    "max_len = 50\n",
    "num_classes = 3\n",
    "\n",
    "# Training\n",
    "epochs = 20\n",
    "batch_size = 5\n",
    "print_batch_n = 5"
   ]
  },
  {
   "cell_type": "code",
   "execution_count": 52,
   "metadata": {
    "id": "5-1jTS7Obc9b"
   },
   "outputs": [],
   "source": [
    "num_classes = 3\n",
    "y = keras.utils.to_categorical(comments[\"label\"], num_classes)"
   ]
  },
  {
   "cell_type": "code",
   "execution_count": 53,
   "metadata": {
    "id": "uTxMXyWmfvUE"
   },
   "outputs": [],
   "source": [
    "train_x, valid_x, train_y, valid_y = model_selection.train_test_split(comments['stem_tokens'], y)"
   ]
  },
  {
   "cell_type": "code",
   "execution_count": 54,
   "metadata": {
    "id": "jFJUHtAQgQ_1"
   },
   "outputs": [],
   "source": [
    "xtrain_tfidf =  tfidf.transform(train_x).toarray()\n",
    "xvalid_tfidf =  tfidf.transform(valid_x).toarray()"
   ]
  },
  {
   "cell_type": "code",
   "execution_count": 55,
   "metadata": {
    "colab": {
     "base_uri": "https://localhost:8080/"
    },
    "id": "3eIVbXxdgsDV",
    "outputId": "417e0f2b-52aa-4d56-e2fa-bf1fda5c068b"
   },
   "outputs": [
    {
     "data": {
      "text/plain": [
       "array([0.        , 0.        , 0.        , 0.        , 0.        ,\n",
       "       0.        , 0.        , 0.        , 0.        , 0.        ,\n",
       "       0.        , 0.        , 0.        , 0.        , 0.        ,\n",
       "       0.        , 0.        , 0.        , 0.        , 0.        ,\n",
       "       0.        , 0.        , 0.        , 0.        , 0.        ,\n",
       "       0.        , 0.        , 0.        , 0.        , 0.        ,\n",
       "       0.        , 0.        , 0.        , 0.67145768, 0.        ,\n",
       "       0.        , 0.        , 0.        , 0.        , 0.        ,\n",
       "       0.7410429 ])"
      ]
     },
     "execution_count": 55,
     "metadata": {
      "tags": []
     },
     "output_type": "execute_result"
    }
   ],
   "source": [
    "xtrain_tfidf[0]"
   ]
  },
  {
   "cell_type": "code",
   "execution_count": 56,
   "metadata": {
    "id": "hrqlU7q5i2d9"
   },
   "outputs": [],
   "source": [
    "l=[]\n",
    "for i,values in comments['stem_tokens'].iteritems():\n",
    "  for v in values:\n",
    "    l.append(v)\n",
    "\n",
    "  \n",
    "\n",
    "s=comments['stem_tokens'].apply(' '.join)\n",
    "max_len=len(set(l))\n",
    "\n"
   ]
  },
  {
   "cell_type": "code",
   "execution_count": 57,
   "metadata": {
    "id": "8GMi-1aReSt3"
   },
   "outputs": [],
   "source": [
    "model = Sequential()\n",
    "model.add(Embedding(input_dim=max_len+1, output_dim=32, input_length=41\n",
    "                   ))\n",
    "model.add(Conv1D(32, 2))\n",
    "model.add(Activation(\"relu\"))\n",
    "model.add(GlobalMaxPool1D())\n",
    "model.add(Dense(10))\n",
    "model.add(Activation(\"relu\"))\n",
    "model.add(Dense(num_classes))\n",
    "model.add(Activation('softmax'))"
   ]
  },
  {
   "cell_type": "code",
   "execution_count": 58,
   "metadata": {
    "id": "5K1CqcUIeWJM"
   },
   "outputs": [],
   "source": [
    "model.compile(loss='categorical_crossentropy',\n",
    "              optimizer='adam',\n",
    "              metrics=['accuracy'])"
   ]
  },
  {
   "cell_type": "code",
   "execution_count": 59,
   "metadata": {
    "colab": {
     "base_uri": "https://localhost:8080/"
    },
    "id": "qDxyEaJKeXxz",
    "outputId": "ef6f272e-cb70-4abb-f44b-73416023589e"
   },
   "outputs": [
    {
     "name": "stdout",
     "output_type": "stream",
     "text": [
      "Epoch 1/20\n",
      " 1/29 [>.............................] - ETA: 0s - loss: 1.0987 - accuracy: 0.6000WARNING:tensorflow:From /usr/local/lib/python3.6/dist-packages/tensorflow/python/ops/summary_ops_v2.py:1277: stop (from tensorflow.python.eager.profiler) is deprecated and will be removed after 2020-07-01.\n",
      "Instructions for updating:\n",
      "use `tf.profiler.experimental.stop` instead.\n",
      "WARNING:tensorflow:Callbacks method `on_train_batch_end` is slow compared to the batch time (batch time: 0.0106s vs `on_train_batch_end` time: 0.0344s). Check your callbacks.\n",
      "29/29 [==============================] - 0s 14ms/step - loss: 1.0750 - accuracy: 0.4414 - val_loss: 1.0584 - val_accuracy: 0.4706\n",
      "Epoch 2/20\n",
      "29/29 [==============================] - 0s 4ms/step - loss: 1.0445 - accuracy: 0.4414 - val_loss: 1.0381 - val_accuracy: 0.4706\n",
      "Epoch 3/20\n",
      "29/29 [==============================] - 0s 4ms/step - loss: 1.0310 - accuracy: 0.4414 - val_loss: 1.0371 - val_accuracy: 0.4706\n",
      "Epoch 4/20\n",
      "29/29 [==============================] - 0s 3ms/step - loss: 1.0255 - accuracy: 0.4414 - val_loss: 1.0399 - val_accuracy: 0.4706\n"
     ]
    }
   ],
   "source": [
    "tensorboard=TensorBoard(log_dir='./logs', write_graph=True, write_images=True)\n",
    "early_stopping=EarlyStopping(monitor='val_loss')  \n",
    "\n",
    "\n",
    "history = model.fit(xtrain_tfidf, train_y,\n",
    "                    batch_size=batch_size,\n",
    "                    epochs=epochs,\n",
    "                    verbose=1,\n",
    "                    validation_split=0.1,\n",
    "                    callbacks=[tensorboard, early_stopping])"
   ]
  },
  {
   "cell_type": "markdown",
   "metadata": {
    "id": "D4c3FNp2s5nu"
   },
   "source": [
    "### Обработка вопроса пользователя"
   ]
  },
  {
   "cell_type": "code",
   "execution_count": 76,
   "metadata": {
    "id": "mmAuB7SZs9C3"
   },
   "outputs": [],
   "source": [
    "stop_words = set(stopwords.words(\"russian\"))\n",
    "def preprocess(t):\n",
    "  t=t.lower()\n",
    "  #t=t.replace('й','и')\n",
    "  #t=t.replace('ё','е')\n",
    "  t=re.sub(r'[^\\w\\s]',' ',t)\n",
    "  t=re.sub(r'\\d+(?:.\\d+)?','цифра',t)\n",
    "  t=re.sub(r'[a-z]+(?:.[a-z]+)?','буква',t)\n",
    "  t=tknz.word_tokenize(t)\n",
    "  t=[word for word  in t if (not word in stop_words) and (len(word)>2)]\n",
    "  t=[morph.parse(word)[0].normal_form for word  in t]\n",
    "  \n",
    "  return t\n"
   ]
  },
  {
   "cell_type": "code",
   "execution_count": 66,
   "metadata": {
    "id": "T-GFNSIdFuG2"
   },
   "outputs": [],
   "source": [
    "\n",
    "from telegram import Update\n",
    "from telegram.ext import Updater, CommandHandler, MessageHandler, Filters, CallbackContext"
   ]
  },
  {
   "cell_type": "code",
   "execution_count": 67,
   "metadata": {
    "id": "XNE0ybbNF7Wo"
   },
   "outputs": [],
   "source": [
    "updater = Updater(token='1415308089:AAE0trR--jknLB0XLDLDD-3RrX5Cai_8q2s') # Токен API к Telegram\n",
    "dispatcher = updater.dispatcher"
   ]
  },
  {
   "cell_type": "code",
   "execution_count": 68,
   "metadata": {
    "id": "qlEzNpPqGqCD"
   },
   "outputs": [],
   "source": [
    "def startCommand(bot, update):\n",
    "    bot.send_message(chat_id=update.message.chat_id, text='Здравствуйте, какой вопрос вас интересует?')"
   ]
  },
  {
   "cell_type": "code",
   "execution_count": 69,
   "metadata": {
    "id": "uzU5zce4Gqys"
   },
   "outputs": [],
   "source": [
    "def textMessage(bot, update):\n",
    "    response = 'Ваше сообщение принял ' + update.message.text # формируем текст ответа\n",
    "    bot.send_message(chat_id=update.message.chat_id, text=response)"
   ]
  },
  {
   "cell_type": "code",
   "execution_count": 70,
   "metadata": {
    "id": "6NaCmMU2G808"
   },
   "outputs": [],
   "source": [
    "import logging\n",
    "# Enable logging\n",
    "logging.basicConfig(\n",
    "    format='%(asctime)s - %(name)s - %(levelname)s - %(message)s', level=logging.INFO\n",
    ")\n",
    "\n",
    "logger = logging.getLogger()"
   ]
  },
  {
   "cell_type": "code",
   "execution_count": 71,
   "metadata": {
    "id": "FteFe-FdvLbc"
   },
   "outputs": [],
   "source": [
    "ship='Доставка возможна во все регионы России через службу доставки Boxberry. \\\n",
    "  Стоимость доставки рассчитывается при оформлении заказа. \\\n",
    "  Отследить отправление: https://boxberry.ru/tracking/\\\n",
    "  MEDIA LAND STORE принимает заказы в режиме online КРУГЛОСУТОЧНО. \\\n",
    "  Заказы обрабатываются по мере их поступления, по будням с 11:00 до 20:00.\\\n",
    "   Статус всех заказов обновляется автоматически.\\\n",
    "  К сожалению, на данный момент доставка в Украину не осуществляется'\n"
   ]
  },
  {
   "cell_type": "code",
   "execution_count": 72,
   "metadata": {
    "id": "aGRnQou0v4B8"
   },
   "outputs": [],
   "source": [
    "price='Актуальные цены с учетом скидок и акций на весь ассортимент \\\n",
    " товаров вы можете посомтреть на сайте https://medialand.store/nki/tproduct '\n"
   ]
  },
  {
   "cell_type": "code",
   "execution_count": 73,
   "metadata": {
    "id": "6x2roalewd1l"
   },
   "outputs": [],
   "source": [
    "size='Наличие размера вы можете посмотреть в информации о товаре на сайте \\\n",
    "https://medialand.store/nki/tproduct. Если при выборе размера на сайте строка\\\n",
    " с требуемым размером не активна, значит товара нет в наличии.'\n"
   ]
  },
  {
   "cell_type": "code",
   "execution_count": 74,
   "metadata": {
    "id": "XH4-H6m2HfTx"
   },
   "outputs": [],
   "source": [
    "\n",
    "  \n",
    "def start(update: Update, context: CallbackContext):\n",
    "    update.message.reply_text('Здравствуйте, какой вопрос вас интересует?!')\n",
    "\n",
    "def echo(update: Update, context: CallbackContext):\n",
    "    txt = update.message.text\n",
    "    #print(txt)\n",
    "    if np.amax(classifier.predict_proba(tfidf.transform([preprocess(txt)]).toarray()))>0.7:\n",
    "      answer=classifier.predict(tfidf.transform([preprocess(txt)]).toarray())[0]\n",
    "      #print(answer)\n",
    "      if answer==0:\n",
    "        update.message.reply_text(ship)\n",
    "      elif answer==1:\n",
    "        update.message.reply_text(size)\n",
    "      elif answer==2:\n",
    "        update.message.reply_text(price)\n",
    "    else:\n",
    "      \n",
    "      \n",
    "      update.message.reply_text('Переформулируйте вопрос, пожалуйста!')\n",
    "\n",
    "\n",
    "   "
   ]
  },
  {
   "cell_type": "code",
   "execution_count": 75,
   "metadata": {
    "colab": {
     "base_uri": "https://localhost:8080/"
    },
    "id": "pXypnxqSHqwQ",
    "outputId": "e77aeb43-b2f4-4a26-d985-ee3b32cf4c76"
   },
   "outputs": [
    {
     "name": "stderr",
     "output_type": "stream",
     "text": [
      "2020-11-16 20:35:23,800 - apscheduler.scheduler - INFO - Scheduler started\n",
      "2020-11-16 20:37:31,050 - telegram.ext.updater - INFO - Received signal 2 (SIGINT), stopping...\n",
      "2020-11-16 20:37:31,052 - apscheduler.scheduler - INFO - Scheduler has been shut down\n"
     ]
    }
   ],
   "source": [
    "updater = Updater(\"2871415308089:AAE0trR--jknLB0XLDLDD-3RrX5Cai_8q2s\", use_context=True)\n",
    "dispatcher = updater.dispatcher\n",
    "\n",
    "# on different commands - answer in Telegram\n",
    "dispatcher.add_handler(CommandHandler(\"start\", start))\n",
    "dispatcher.add_handler(MessageHandler(Filters.text & ~Filters.command, echo))\n",
    "\n",
    "# Start the Bot\n",
    "updater.start_polling()\n",
    "updater.idle()"
   ]
  }
 ],
 "metadata": {
  "accelerator": "GPU",
  "colab": {
   "name": "final_model (1).ipynb",
   "provenance": []
  },
  "kernelspec": {
   "display_name": "Python 3",
   "language": "python",
   "name": "python3"
  },
  "language_info": {
   "codemirror_mode": {
    "name": "ipython",
    "version": 3
   },
   "file_extension": ".py",
   "mimetype": "text/x-python",
   "name": "python",
   "nbconvert_exporter": "python",
   "pygments_lexer": "ipython3",
   "version": "3.7.4"
  }
 },
 "nbformat": 4,
 "nbformat_minor": 1
}
