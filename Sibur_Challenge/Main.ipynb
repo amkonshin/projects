{
 "cells": [
  {
   "cell_type": "code",
   "execution_count": 1,
   "metadata": {},
   "outputs": [],
   "source": [
    "import pathlib\n",
    "import pandas as pd\n",
    "import numpy as np\n",
    "pd.reset_option\n",
    "from sklearn.metrics import classification_report, f1_score\n",
    "from sklearn.model_selection import StratifiedShuffleSplit\n",
    "from sklearn.ensemble import RandomForestClassifier\n",
    "from sklearn.linear_model import LogisticRegression\n",
    "from sklearn.model_selection import train_test_split"
   ]
  },
  {
   "cell_type": "code",
   "execution_count": 65,
   "metadata": {},
   "outputs": [],
   "source": [
    "import lightgbm as lgb"
   ]
  },
  {
   "cell_type": "code",
   "execution_count": 3,
   "metadata": {},
   "outputs": [
    {
     "name": "stderr",
     "output_type": "stream",
     "text": [
      "C:\\ProgramData\\Anaconda3\\lib\\site-packages\\tqdm\\std.py:668: FutureWarning: The Panel class is removed from pandas. Accessing it from the top-level namespace will also be removed in the next version\n",
      "  from pandas import Panel\n"
     ]
    }
   ],
   "source": [
    "from tqdm import tqdm\n",
    "tqdm.pandas()\n",
    "import pycountry\n",
    "import re\n",
    "from fuzzywuzzy import fuzz\n",
    "from fuzzywuzzy import process\n",
    "from strsimpy.levenshtein import Levenshtein\n",
    "from strsimpy.normalized_levenshtein import NormalizedLevenshtein"
   ]
  },
  {
   "cell_type": "code",
   "execution_count": 1190,
   "metadata": {},
   "outputs": [],
   "source": [
    "train = pd.read_csv(\"train.csv\", index_col=\"pair_id\")"
   ]
  },
  {
   "cell_type": "code",
   "execution_count": 1228,
   "metadata": {},
   "outputs": [],
   "source": [
    "test = pd.read_csv(\"test.csv\", index_col=\"pair_id\")"
   ]
  },
  {
   "cell_type": "code",
   "execution_count": 1193,
   "metadata": {},
   "outputs": [],
   "source": [
    "\n",
    "# Копии названий, нижний регистр\n",
    "train[\"name_1_filtered\"] = train[\"name_1\"].str.lower()\n",
    "train[\"name_2_filtered\"] = train[\"name_2\"].str.lower()\n"
   ]
  },
  {
   "cell_type": "code",
   "execution_count": 1229,
   "metadata": {},
   "outputs": [],
   "source": [
    "test[\"name_1_filtered\"] = test[\"name_1\"].str.lower()\n",
    "test[\"name_2_filtered\"] = test[\"name_2\"].str.lower()"
   ]
  },
  {
   "cell_type": "code",
   "execution_count": 1194,
   "metadata": {},
   "outputs": [],
   "source": [
    "# Сущности в скобках\n",
    "train[\"name_1_filtered\"]=train[\"name_1_filtered\"].replace(re.compile(r\"\\s+(\\(.*\\))\"), \" \" )\n",
    "train[\"name_2_filtered\"]=train[\"name_2_filtered\"].replace(re.compile(r\"\\s+(\\(.*\\))\"), \" \" )\n"
   ]
  },
  {
   "cell_type": "code",
   "execution_count": 1230,
   "metadata": {},
   "outputs": [],
   "source": [
    "test[\"name_1_filtered\"]=test[\"name_1_filtered\"].replace(re.compile(r\"\\s+(\\(.*\\))\"), \" \" )\n",
    "test[\"name_2_filtered\"]=test[\"name_2_filtered\"].replace(re.compile(r\"\\s+(\\(.*\\))\"), \" \" )"
   ]
  },
  {
   "cell_type": "code",
   "execution_count": 1195,
   "metadata": {},
   "outputs": [],
   "source": [
    "# Символы\n",
    "train[\"name_1_filtered\"]=train[\"name_1_filtered\"].replace(re.compile(r\"[^\\w\\s]\"), \"\")\n",
    "train[\"name_2_filtered\"]=train[\"name_2_filtered\"].replace(re.compile(r\"[^\\w\\s]\"), \"\")\n"
   ]
  },
  {
   "cell_type": "code",
   "execution_count": 1231,
   "metadata": {},
   "outputs": [],
   "source": [
    "test[\"name_1_filtered\"]=test[\"name_1_filtered\"].replace(re.compile(r\"[^\\w\\s]\"), \"\")\n",
    "test[\"name_2_filtered\"]=test[\"name_2_filtered\"].replace(re.compile(r\"[^\\w\\s]\"), \"\")"
   ]
  },
  {
   "cell_type": "code",
   "execution_count": 1196,
   "metadata": {},
   "outputs": [],
   "source": [
    "# Short words\n",
    "train[\"name_1_filtered\"]=train[\"name_1_filtered\"].replace(re.compile(r'\\b[a-zA-Z0-9]{1}\\b'), \" \")\n",
    "train[\"name_2_filtered\"]=train[\"name_2_filtered\"].replace(re.compile(r'\\b[a-zA-Z0-9]{1}\\b'), \" \")"
   ]
  },
  {
   "cell_type": "markdown",
   "metadata": {},
   "source": [
    "#### Entities"
   ]
  },
  {
   "cell_type": "code",
   "execution_count": 1197,
   "metadata": {},
   "outputs": [],
   "source": [
    "legal={'aenp',\n",
    " 'np',\n",
    " 'ac',\n",
    " 'as',\n",
    " 'ab',\n",
    " 'ace',\n",
    " 'ad',\n",
    " 'ae',\n",
    " 'ag',\n",
    " 'al',\n",
    " 'amba',\n",
    " 'ans',\n",
    " 'apb',\n",
    " 'aps',\n",
    " 'as',\n",
    " 'asa',\n",
    " 'avv',\n",
    " 'bv',\n",
    " 'bpk',\n",
    " 'bt',\n",
    " 'bvba',\n",
    " 'co',\n",
    " 'cv',\n",
    " 'ca',\n",
    " 'cedel',\n",
    " 'cin',\n",
    " 'common code',\n",
    " 'corp',\n",
    " 'cusip',\n",
    " 'cva',\n",
    " 'cvoa',\n",
    " 'de',\n",
    " 'dd',\n",
    " 'dno',\n",
    " 'doo',\n",
    " 'dba',\n",
    " 'da',\n",
    " 'ev',\n",
    " 'ee',\n",
    " 'eeg',\n",
    " 'eirl',\n",
    " 'elp',\n",
    " 'eood',\n",
    " 'epe',\n",
    " 'eurl',\n",
    " 'euroclear',\n",
    " 'ext',\n",
    " 'gbr',\n",
    " 'gcv',\n",
    " 'gesmbh',\n",
    " 'gie',\n",
    " 'gmbh',\n",
    " 'hb',\n",
    " 'hf',\n",
    " 'is',\n",
    " 'ibc',\n",
    " 'id',\n",
    " 'inc',\n",
    " 'isin',\n",
    " 'jtd',\n",
    " 'kd',\n",
    " 'kdd',\n",
    " 'ks',\n",
    " 'kas',\n",
    " 'kb',\n",
    " 'kd',\n",
    " 'kda',\n",
    " 'kft',\n",
    " 'kg',\n",
    " 'kgaa',\n",
    " 'kk',\n",
    " 'kkt',\n",
    " 'kol',\n",
    " 'kom',\n",
    " 'ks',\n",
    " 'kv',\n",
    " 'ky',\n",
    " 'lda',\n",
    " 'ldc',\n",
    " 'llc',\n",
    " 'llp',\n",
    " 'ltd',\n",
    " 'ltda',\n",
    " 'ltée',\n",
    " 'na',\n",
    " 'nt',\n",
    " 'nv',\n",
    " 'oe',\n",
    " 'ohg',\n",
    " 'ood',\n",
    " 'oy',\n",
    " 'oyj',\n",
    " 'oü',\n",
    " 'pl',\n",
    " 'pc',\n",
    " 'plc',\n",
    " 'pma',\n",
    " 'pmdn',\n",
    " 'prc',\n",
    " 'prp',\n",
    " 'pt',\n",
    " 'pty',\n",
    " 'pvt',\n",
    " 'ras',\n",
    " 'ric',\n",
    " 'rt',\n",
    " 'sderl',\n",
    " 'de',\n",
    " 'en',\n",
    " 'rl',\n",
    " 'senc',\n",
    " 'sennc',\n",
    " 'nc',\n",
    " 'sa',\n",
    " 'saica',\n",
    " 'sac',\n",
    " 'sc',\n",
    " 'scs',\n",
    " 'sadecv',\n",
    " 'safi',\n",
    " 'sapa',\n",
    " 'sarl',\n",
    " 'sas',\n",
    " 'sc',\n",
    " 'sca',\n",
    " 'sro',\n",
    " 'scp',\n",
    " 'scs',\n",
    " 'sdn',\n",
    " 'bhd',\n",
    " 'security identifiers',\n",
    " 'sedol',\n",
    " 'senc',\n",
    " 'sgps',\n",
    " 'sic',\n",
    " 'sicc',\n",
    " 'sicovam',\n",
    " 'sk',\n",
    " 'snc',\n",
    " 'soparfi',\n",
    " 'sp',\n",
    " 'zoo',\n",
    " 'spa',\n",
    " 'spol',\n",
    " 'sro',\n",
    " 'sprl',\n",
    " 'scrl',\n",
    " 'srk',\n",
    " 'srl',\n",
    " 'svm',\n",
    " 'td',\n",
    " 'tls',\n",
    " 'vos',\n",
    " 'valoren',\n",
    " 'veb',\n",
    " 'vof',\n",
    " 'wertpapier',\n",
    " 'kennnummer',\n",
    " 'kenn',\n",
    " 'nummer',    \n",
    " 'wkn',\n",
    " 'wpk'}"
   ]
  },
  {
   "cell_type": "code",
   "execution_count": 1198,
   "metadata": {},
   "outputs": [
    {
     "name": "stderr",
     "output_type": "stream",
     "text": [
      "100%|████████████████████████████████████████| 154/154 [06:47<00:00,  2.64s/it]\n"
     ]
    }
   ],
   "source": [
    "\n",
    "for entity in tqdm(legal):\n",
    "    train[\"name_1_filtered\"]=train[\"name_1_filtered\"].replace(re.compile(fr\"\\b({entity})\\b\"), \" \")\n",
    "    train[\"name_2_filtered\"]=train[\"name_2_filtered\"].replace(re.compile(fr\"\\b({entity})\\b\"), \" \")\n"
   ]
  },
  {
   "cell_type": "code",
   "execution_count": 1232,
   "metadata": {},
   "outputs": [
    {
     "name": "stderr",
     "output_type": "stream",
     "text": [
      "100%|████████████████████████████████████████| 154/154 [02:54<00:00,  1.13s/it]\n"
     ]
    }
   ],
   "source": [
    "for entity in tqdm(legal):\n",
    "    test[\"name_1_filtered\"]=test[\"name_1_filtered\"].replace(re.compile(fr\"\\b({entity})\\b\"), \" \")\n",
    "    test[\"name_2_filtered\"]=test[\"name_2_filtered\"].replace(re.compile(fr\"\\b({entity})\\b\"), \" \")"
   ]
  },
  {
   "cell_type": "markdown",
   "metadata": {},
   "source": [
    "#### Countries"
   ]
  },
  {
   "cell_type": "code",
   "execution_count": 1202,
   "metadata": {},
   "outputs": [
    {
     "name": "stderr",
     "output_type": "stream",
     "text": [
      "100%|████████████████████████████████████████| 249/249 [08:08<00:00,  1.96s/it]\n"
     ]
    }
   ],
   "source": [
    "countries = [country.name.lower() for country in pycountry.countries]\n",
    "for country in tqdm(countries):\n",
    "    train[\"name_1_filtered\"]=train[\"name_1_filtered\"].replace(re.compile(country), \" \")\n",
    "    train[\"name_2_filtered\"]=train[\"name_2_filtered\"].replace(re.compile(country), \" \")\n"
   ]
  },
  {
   "cell_type": "code",
   "execution_count": 1235,
   "metadata": {},
   "outputs": [
    {
     "name": "stderr",
     "output_type": "stream",
     "text": [
      "100%|████████████████████████████████████████| 249/249 [03:33<00:00,  1.16it/s]\n"
     ]
    }
   ],
   "source": [
    "for country in tqdm(countries):\n",
    "    test[\"name_1_filtered\"]=test[\"name_1_filtered\"].replace(re.compile(country), \" \")\n",
    "    test[\"name_2_filtered\"]=test[\"name_2_filtered\"].replace(re.compile(country), \" \")"
   ]
  },
  {
   "cell_type": "markdown",
   "metadata": {},
   "source": [
    "#### StopWords"
   ]
  },
  {
   "cell_type": "code",
   "execution_count": 1203,
   "metadata": {},
   "outputs": [],
   "source": [
    "def clean_stopwords(name):\n",
    "    clear=''\n",
    "    for word in name.split():\n",
    "        #print(word)\n",
    "        try:\n",
    "            if fully_indexed[word]>0.45:\n",
    "                clear=clear+word+' '          \n",
    "                \n",
    "        except:\n",
    "            clear=clear+word+' '\n",
    "    if clear=='':\n",
    "        clear=name\n",
    "    return clear"
   ]
  },
  {
   "cell_type": "code",
   "execution_count": 1206,
   "metadata": {},
   "outputs": [
    {
     "name": "stderr",
     "output_type": "stream",
     "text": [
      "100%|██████████████████████████████████████████| 62/62 [02:29<00:00,  2.42s/it]\n"
     ]
    }
   ],
   "source": [
    "stop_words=['international',  'industries', 'trading', 'logistics', 'rubber', 'private', 'llc', 'products', 'imp' ,'industrial', 'exp',\\\n",
    "            'shanghai','and','chemical','enterprises', 'plastic', 'chemicals', 'sports', 'group' ,'industria' ,'global', 'usa', 'dongguan', 'trade',\\\n",
    "            'plastics','technology', 'polymers','america', 'qingdao', 'shenzhen', 'services','textile','brasil','industry',\\\n",
    "            'logistica', 'materials', 'eercio', 'technologies','industrias', 'enterprise', 'guangzhou', 'electronics' ,'mfg', 'industries',\\\n",
    "            'industriales', 'sociedad', 'responsabilidad' ,'limitada' , 'north', 'west', 'south', 'east', 'solutions', 'systems', 'exploration',\\\n",
    "           'limited', 'transport', 'tire', 'bank', 'corporation', 'mfg', 'rubber']\n",
    "for entity in tqdm(stop_words):\n",
    "    train[\"name_1_filtered\"]=train[\"name_1_filtered\"].replace(re.compile(fr\"\\b{entity}\\b\"), \" \")\n",
    "    train[\"name_2_filtered\"]=train[\"name_2_filtered\"].replace(re.compile(fr\"\\b{entity}\\b\"), \" \")"
   ]
  },
  {
   "cell_type": "code",
   "execution_count": 1236,
   "metadata": {},
   "outputs": [
    {
     "name": "stderr",
     "output_type": "stream",
     "text": [
      "100%|██████████████████████████████████████████| 62/62 [01:06<00:00,  1.07s/it]\n"
     ]
    }
   ],
   "source": [
    "for entity in tqdm(stop_words):\n",
    "    test[\"name_1_filtered\"]=test[\"name_1_filtered\"].replace(re.compile(fr\"\\b{entity}\\b\"), \" \")\n",
    "    test[\"name_2_filtered\"]=test[\"name_2_filtered\"].replace(re.compile(fr\"\\b{entity}\\b\"), \" \")"
   ]
  },
  {
   "cell_type": "code",
   "execution_count": null,
   "metadata": {},
   "outputs": [],
   "source": []
  },
  {
   "cell_type": "markdown",
   "metadata": {},
   "source": [
    "#### Russian words"
   ]
  },
  {
   "cell_type": "code",
   "execution_count": 1209,
   "metadata": {},
   "outputs": [],
   "source": [
    "from transliterate import translit"
   ]
  },
  {
   "cell_type": "code",
   "execution_count": 1210,
   "metadata": {},
   "outputs": [
    {
     "data": {
      "text/html": [
       "<div>\n",
       "<style scoped>\n",
       "    .dataframe tbody tr th:only-of-type {\n",
       "        vertical-align: middle;\n",
       "    }\n",
       "\n",
       "    .dataframe tbody tr th {\n",
       "        vertical-align: top;\n",
       "    }\n",
       "\n",
       "    .dataframe thead th {\n",
       "        text-align: right;\n",
       "    }\n",
       "</style>\n",
       "<table border=\"1\" class=\"dataframe\">\n",
       "  <thead>\n",
       "    <tr style=\"text-align: right;\">\n",
       "      <th></th>\n",
       "      <th>name_1</th>\n",
       "      <th>name_2</th>\n",
       "      <th>is_duplicate</th>\n",
       "      <th>name_1_filtered</th>\n",
       "      <th>name_2_filtered</th>\n",
       "    </tr>\n",
       "    <tr>\n",
       "      <th>pair_id</th>\n",
       "      <th></th>\n",
       "      <th></th>\n",
       "      <th></th>\n",
       "      <th></th>\n",
       "      <th></th>\n",
       "    </tr>\n",
       "  </thead>\n",
       "  <tbody>\n",
       "    <tr>\n",
       "      <th>3372</th>\n",
       "      <td>ООО Химинвест групп</td>\n",
       "      <td>ХИМИНВЕСТ ГРУПП, ООО</td>\n",
       "      <td>1</td>\n",
       "      <td>ооо химинвест групп</td>\n",
       "      <td>химинвест групп ооо</td>\n",
       "    </tr>\n",
       "    <tr>\n",
       "      <th>5118</th>\n",
       "      <td>ООО\"ИМПОРТ МОДА\"</td>\n",
       "      <td>ООО\"ИМПОРТ МОДА\"</td>\n",
       "      <td>1</td>\n",
       "      <td>оооимпорт мода</td>\n",
       "      <td>оооимпорт мода</td>\n",
       "    </tr>\n",
       "    <tr>\n",
       "      <th>5451</th>\n",
       "      <td>SOUDAL NV</td>\n",
       "      <td>ООО \"СОУДАЛ\"</td>\n",
       "      <td>1</td>\n",
       "      <td>soudal</td>\n",
       "      <td>ооо соудал</td>\n",
       "    </tr>\n",
       "    <tr>\n",
       "      <th>12161</th>\n",
       "      <td>ООО\"ГУЧЧИ РУС\"</td>\n",
       "      <td>ООО\"ГУЧЧИ РУС\"</td>\n",
       "      <td>1</td>\n",
       "      <td>ооогуччи рус</td>\n",
       "      <td>ооогуччи рус</td>\n",
       "    </tr>\n",
       "    <tr>\n",
       "      <th>16802</th>\n",
       "      <td>BOFER INSAAT ALUMINIUM SAN. VE TIC. LTD. STI</td>\n",
       "      <td>ООО\"БОФФЕР\"</td>\n",
       "      <td>1</td>\n",
       "      <td>bofer insaat aluminium san ve tic   sti</td>\n",
       "      <td>оообоффер</td>\n",
       "    </tr>\n",
       "    <tr>\n",
       "      <th>...</th>\n",
       "      <td>...</td>\n",
       "      <td>...</td>\n",
       "      <td>...</td>\n",
       "      <td>...</td>\n",
       "      <td>...</td>\n",
       "    </tr>\n",
       "    <tr>\n",
       "      <th>479648</th>\n",
       "      <td>ООО \"КЬЮ ЭКСПРЕСС\"</td>\n",
       "      <td>ООО \"КЬЮ ЭКСПРЕСС\"</td>\n",
       "      <td>1</td>\n",
       "      <td>ооо кью экспресс</td>\n",
       "      <td>ооо кью экспресс</td>\n",
       "    </tr>\n",
       "    <tr>\n",
       "      <th>481656</th>\n",
       "      <td>ООО \"БРААС-ДСК 1\"</td>\n",
       "      <td>ООО \"БРААС-ДСК 1\"</td>\n",
       "      <td>1</td>\n",
       "      <td>ооо браасдск 1</td>\n",
       "      <td>ооо браасдск 1</td>\n",
       "    </tr>\n",
       "    <tr>\n",
       "      <th>481759</th>\n",
       "      <td>GOTER S.R.L.</td>\n",
       "      <td>GOTER (ИТАЛИЯ)</td>\n",
       "      <td>1</td>\n",
       "      <td>goter</td>\n",
       "      <td>goter</td>\n",
       "    </tr>\n",
       "    <tr>\n",
       "      <th>488072</th>\n",
       "      <td>ООО \"МАНДЕРС\"</td>\n",
       "      <td>ООО \"МАНДЕРС\"</td>\n",
       "      <td>1</td>\n",
       "      <td>ооо мандерс</td>\n",
       "      <td>ооо мандерс</td>\n",
       "    </tr>\n",
       "    <tr>\n",
       "      <th>488737</th>\n",
       "      <td>ООО\"НОВЫЙ МИР\"</td>\n",
       "      <td>ООО\"НОВЫЙ МИР\"</td>\n",
       "      <td>1</td>\n",
       "      <td>оооновый мир</td>\n",
       "      <td>оооновый мир</td>\n",
       "    </tr>\n",
       "  </tbody>\n",
       "</table>\n",
       "<p>149 rows × 5 columns</p>\n",
       "</div>"
      ],
      "text/plain": [
       "                                               name_1                name_2  \\\n",
       "pair_id                                                                       \n",
       "3372                              ООО Химинвест групп  ХИМИНВЕСТ ГРУПП, ООО   \n",
       "5118                                 ООО\"ИМПОРТ МОДА\"      ООО\"ИМПОРТ МОДА\"   \n",
       "5451                                        SOUDAL NV          ООО \"СОУДАЛ\"   \n",
       "12161                                  ООО\"ГУЧЧИ РУС\"        ООО\"ГУЧЧИ РУС\"   \n",
       "16802    BOFER INSAAT ALUMINIUM SAN. VE TIC. LTD. STI           ООО\"БОФФЕР\"   \n",
       "...                                               ...                   ...   \n",
       "479648                             ООО \"КЬЮ ЭКСПРЕСС\"    ООО \"КЬЮ ЭКСПРЕСС\"   \n",
       "481656                              ООО \"БРААС-ДСК 1\"     ООО \"БРААС-ДСК 1\"   \n",
       "481759                                   GOTER S.R.L.        GOTER (ИТАЛИЯ)   \n",
       "488072                                  ООО \"МАНДЕРС\"         ООО \"МАНДЕРС\"   \n",
       "488737                                 ООО\"НОВЫЙ МИР\"        ООО\"НОВЫЙ МИР\"   \n",
       "\n",
       "         is_duplicate                          name_1_filtered  \\\n",
       "pair_id                                                          \n",
       "3372                1                      ооо химинвест групп   \n",
       "5118                1                           оооимпорт мода   \n",
       "5451                1                                 soudal     \n",
       "12161               1                             ооогуччи рус   \n",
       "16802               1  bofer insaat aluminium san ve tic   sti   \n",
       "...               ...                                      ...   \n",
       "479648              1                         ооо кью экспресс   \n",
       "481656              1                           ооо браасдск 1   \n",
       "481759              1                                  goter     \n",
       "488072              1                              ооо мандерс   \n",
       "488737              1                             оооновый мир   \n",
       "\n",
       "             name_2_filtered  \n",
       "pair_id                       \n",
       "3372     химинвест групп ооо  \n",
       "5118          оооимпорт мода  \n",
       "5451              ооо соудал  \n",
       "12161           ооогуччи рус  \n",
       "16802              оообоффер  \n",
       "...                      ...  \n",
       "479648      ооо кью экспресс  \n",
       "481656        ооо браасдск 1  \n",
       "481759                goter   \n",
       "488072           ооо мандерс  \n",
       "488737          оооновый мир  \n",
       "\n",
       "[149 rows x 5 columns]"
      ]
     },
     "execution_count": 1210,
     "metadata": {},
     "output_type": "execute_result"
    }
   ],
   "source": [
    "train[(train['name_1'].str.contains('[а-яА-Я]+', regex=True)|train['name_2'].str.contains('[а-яА-Я]+', regex=True))&train['is_duplicate']==1]"
   ]
  },
  {
   "cell_type": "code",
   "execution_count": 1211,
   "metadata": {},
   "outputs": [
    {
     "name": "stderr",
     "output_type": "stream",
     "text": [
      "100%|████████████████████████████████████████████| 2/2 [00:03<00:00,  1.97s/it]\n"
     ]
    }
   ],
   "source": [
    "russian_words=['ооо', 'зао' ]\n",
    "for entity in tqdm(russian_words):\n",
    "    train[\"name_1_filtered\"]=train[\"name_1_filtered\"].replace(re.compile(fr\"{entity}\"), \" \")\n",
    "    train[\"name_2_filtered\"]=train[\"name_2_filtered\"].replace(re.compile(fr\"{entity}\"), \" \")"
   ]
  },
  {
   "cell_type": "code",
   "execution_count": 1212,
   "metadata": {},
   "outputs": [
    {
     "name": "stderr",
     "output_type": "stream",
     "text": [
      "100%|████████████████████████████████████████████| 2/2 [00:05<00:00,  2.60s/it]\n"
     ]
    }
   ],
   "source": [
    "russian_words=['ао', 'сп', ]\n",
    "for entity in tqdm(russian_words):\n",
    "    train[\"name_1_filtered\"]=train[\"name_1_filtered\"].replace(re.compile(fr\"\\b{entity}\\b\"), \" \")\n",
    "    train[\"name_2_filtered\"]=train[\"name_2_filtered\"].replace(re.compile(fr\"\\b{entity}\\b\"), \" \")"
   ]
  },
  {
   "cell_type": "code",
   "execution_count": 1213,
   "metadata": {},
   "outputs": [],
   "source": [
    "train.loc[train['name_2_filtered'].str.contains('[а-яА-Я]+', regex=True), 'name_2_filtered']=train.loc[train['name_2_filtered'].str.contains('[а-яА-Я]+', regex=True), 'name_2_filtered'].apply(lambda r:translit(r,'ru', reversed=True))"
   ]
  },
  {
   "cell_type": "code",
   "execution_count": 1214,
   "metadata": {},
   "outputs": [],
   "source": [
    "train.loc[train['name_1_filtered'].str.contains('[а-яА-Я]+', regex=True), 'name_1_filtered']=train.loc[train['name_1_filtered'].str.contains('[а-яА-Я]+', regex=True), 'name_1_filtered'].apply(lambda r:translit(r,'ru', reversed=True))"
   ]
  },
  {
   "cell_type": "code",
   "execution_count": 1287,
   "metadata": {},
   "outputs": [
    {
     "name": "stderr",
     "output_type": "stream",
     "text": [
      "100%|████████████████████████████████████████████| 2/2 [00:01<00:00,  1.17it/s]\n"
     ]
    }
   ],
   "source": [
    "for entity in tqdm(russian_words):\n",
    "    test[\"name_1_filtered\"]=test[\"name_1_filtered\"].replace(re.compile(fr\"{entity}\"), \" \")\n",
    "    test[\"name_2_filtered\"]=test[\"name_2_filtered\"].replace(re.compile(fr\"{entity}\"), \" \")"
   ]
  },
  {
   "cell_type": "code",
   "execution_count": 1288,
   "metadata": {},
   "outputs": [
    {
     "name": "stderr",
     "output_type": "stream",
     "text": [
      "100%|████████████████████████████████████████████| 2/2 [00:02<00:00,  1.12s/it]\n"
     ]
    }
   ],
   "source": [
    "for entity in tqdm(russian_words):\n",
    "    test[\"name_1_filtered\"]=test[\"name_1_filtered\"].replace(re.compile(fr\"\\b{entity}\\b\"), \" \")\n",
    "    test[\"name_2_filtered\"]=test[\"name_2_filtered\"].replace(re.compile(fr\"\\b{entity}\\b\"), \" \")"
   ]
  },
  {
   "cell_type": "code",
   "execution_count": 1289,
   "metadata": {},
   "outputs": [],
   "source": [
    "test.loc[test['name_2_filtered'].str.contains('[а-яА-Я]+', regex=True), 'name_2_filtered']=test.loc[test['name_2_filtered'].str.contains('[а-яА-Я]+', regex=True), 'name_2_filtered'].apply(lambda r:translit(r,'ru', reversed=True))"
   ]
  },
  {
   "cell_type": "code",
   "execution_count": 1290,
   "metadata": {},
   "outputs": [],
   "source": [
    "test.loc[test['name_1_filtered'].str.contains('[а-яА-Я]+', regex=True), 'name_1_filtered']=test.loc[test['name_1_filtered'].str.contains('[а-яА-Я]+', regex=True), 'name_1_filtered'].apply(lambda r:translit(r,'ru', reversed=True))"
   ]
  },
  {
   "cell_type": "markdown",
   "metadata": {},
   "source": [
    "#### FillNA"
   ]
  },
  {
   "cell_type": "code",
   "execution_count": 1218,
   "metadata": {},
   "outputs": [],
   "source": [
    "train.loc[train['name_2_filtered'].isnull(),['name_2_filtered']]=train.name_2.str.lower().replace(re.compile(r\"[^\\w\\s]\"), \"\")\n",
    "train.loc[train['name_1_filtered'].isnull(),['name_1_filtered']]=train.name_1.str.lower().replace(re.compile(r\"[^\\w\\s]\"), \"\")"
   ]
  },
  {
   "cell_type": "code",
   "execution_count": 1219,
   "metadata": {},
   "outputs": [],
   "source": [
    "train.loc[train.name_1_filtered.str.isspace(), ['name_1_filtered']]=train.name_1.str.lower().replace(re.compile(r\"[^\\w\\s]\"), \"\")\n",
    "train.loc[train.name_2_filtered.str.isspace(), ['name_2_filtered']]=train.name_2.str.lower().replace(re.compile(r\"[^\\w\\s]\"), \"\")"
   ]
  },
  {
   "cell_type": "code",
   "execution_count": 1220,
   "metadata": {},
   "outputs": [],
   "source": [
    "train.loc[train['name_2_filtered']=='',['name_2_filtered']]=train.name_2.str.lower().replace(re.compile(r\"[^\\w\\s]\"), \"\")\n",
    "train.loc[train['name_1_filtered']=='',['name_1_filtered']]=train.name_1.str.lower().replace(re.compile(r\"[^\\w\\s]\"), \"\")"
   ]
  },
  {
   "cell_type": "code",
   "execution_count": 1227,
   "metadata": {},
   "outputs": [],
   "source": [
    "train.to_csv('train_filtered.csv')"
   ]
  },
  {
   "cell_type": "code",
   "execution_count": 1296,
   "metadata": {},
   "outputs": [],
   "source": [
    "test.loc[test['name_2_filtered'].isnull(),['name_2_filtered']]=test.name_2.str.lower().replace(re.compile(r\"[^\\w\\s]\"), \"\")\n",
    "test.loc[test['name_1_filtered'].isnull(),['name_1_filtered']]=test.name_1.str.lower().replace(re.compile(r\"[^\\w\\s]\"), \"\")"
   ]
  },
  {
   "cell_type": "code",
   "execution_count": 1297,
   "metadata": {},
   "outputs": [],
   "source": [
    "test.loc[test.name_1_filtered.str.isspace(), ['name_1_filtered']]=test.name_1.str.lower().replace(re.compile(r\"[^\\w\\s]\"), \"\")\n",
    "test.loc[test.name_2_filtered.str.isspace(), ['name_2_filtered']]=test.name_2.str.lower().replace(re.compile(r\"[^\\w\\s]\"), \"\")"
   ]
  },
  {
   "cell_type": "code",
   "execution_count": 1298,
   "metadata": {},
   "outputs": [],
   "source": [
    "test.loc[test['name_2_filtered']=='',['name_2_filtered']]=test.name_2.str.lower().replace(re.compile(r\"[^\\w\\s]\"), \"\")\n",
    "test.loc[test['name_1_filtered']=='',['name_1_filtered']]=test.name_1.str.lower().replace(re.compile(r\"[^\\w\\s]\"), \"\")"
   ]
  },
  {
   "cell_type": "code",
   "execution_count": 1302,
   "metadata": {},
   "outputs": [],
   "source": [
    "test.to_csv('test_filtered.csv')"
   ]
  },
  {
   "cell_type": "code",
   "execution_count": 1303,
   "metadata": {},
   "outputs": [
    {
     "data": {
      "text/html": [
       "<div>\n",
       "<style scoped>\n",
       "    .dataframe tbody tr th:only-of-type {\n",
       "        vertical-align: middle;\n",
       "    }\n",
       "\n",
       "    .dataframe tbody tr th {\n",
       "        vertical-align: top;\n",
       "    }\n",
       "\n",
       "    .dataframe thead th {\n",
       "        text-align: right;\n",
       "    }\n",
       "</style>\n",
       "<table border=\"1\" class=\"dataframe\">\n",
       "  <thead>\n",
       "    <tr style=\"text-align: right;\">\n",
       "      <th></th>\n",
       "      <th>name_1</th>\n",
       "      <th>name_2</th>\n",
       "      <th>name_1_filtered</th>\n",
       "      <th>name_2_filtered</th>\n",
       "    </tr>\n",
       "    <tr>\n",
       "      <th>pair_id</th>\n",
       "      <th></th>\n",
       "      <th></th>\n",
       "      <th></th>\n",
       "      <th></th>\n",
       "    </tr>\n",
       "  </thead>\n",
       "  <tbody>\n",
       "    <tr>\n",
       "      <th>1</th>\n",
       "      <td>Sun Blinds Decoration Inc.</td>\n",
       "      <td>Indl De Cuautitlan Sa Cv</td>\n",
       "      <td>sun blinds decoration</td>\n",
       "      <td>indl   cuautitlan</td>\n",
       "    </tr>\n",
       "    <tr>\n",
       "      <th>2</th>\n",
       "      <td>Eih Ltd.</td>\n",
       "      <td>Dongguan Wei Shi Plastic Product Co., Ltd.</td>\n",
       "      <td>eih</td>\n",
       "      <td>wei shi   product</td>\n",
       "    </tr>\n",
       "    <tr>\n",
       "      <th>3</th>\n",
       "      <td>Jsh Ltd. (Hk)</td>\n",
       "      <td>Arab Shipbuilding And Repair Yard C</td>\n",
       "      <td>jsh</td>\n",
       "      <td>arab shipbuilding   repair yard c</td>\n",
       "    </tr>\n",
       "    <tr>\n",
       "      <th>4</th>\n",
       "      <td>Better Industrial Ltd.</td>\n",
       "      <td>Farmacap Industria E Comercio Ltda</td>\n",
       "      <td>better</td>\n",
       "      <td>farmacap   e comercio</td>\n",
       "    </tr>\n",
       "    <tr>\n",
       "      <th>5</th>\n",
       "      <td>Equipos Inoxidables Del Norte Sa De Cv</td>\n",
       "      <td>Bel Inc.</td>\n",
       "      <td>equipos inoxidables del norte</td>\n",
       "      <td>bel</td>\n",
       "    </tr>\n",
       "    <tr>\n",
       "      <th>...</th>\n",
       "      <td>...</td>\n",
       "      <td>...</td>\n",
       "      <td>...</td>\n",
       "      <td>...</td>\n",
       "    </tr>\n",
       "    <tr>\n",
       "      <th>213245</th>\n",
       "      <td>Dyna Logistics Inc.</td>\n",
       "      <td>Jiangsu Easero Logistics Ltd.</td>\n",
       "      <td>dyna</td>\n",
       "      <td>jiangsu easero</td>\n",
       "    </tr>\n",
       "    <tr>\n",
       "      <th>213246</th>\n",
       "      <td>Dsi</td>\n",
       "      <td>Kavalani &amp; Sons W.L.L</td>\n",
       "      <td>dsi</td>\n",
       "      <td>kavalani  sons wll</td>\n",
       "    </tr>\n",
       "    <tr>\n",
       "      <th>213247</th>\n",
       "      <td>Saint Gobain Abrasives (Shanghai)</td>\n",
       "      <td>Zarabi</td>\n",
       "      <td>saint gobain abrasives</td>\n",
       "      <td>zarabi</td>\n",
       "    </tr>\n",
       "    <tr>\n",
       "      <th>213248</th>\n",
       "      <td>Covestro ( India) Private Ltd.</td>\n",
       "      <td>Terabytes India Private Ltd.</td>\n",
       "      <td>covestro</td>\n",
       "      <td>terabytes</td>\n",
       "    </tr>\n",
       "    <tr>\n",
       "      <th>213249</th>\n",
       "      <td>Zandur (Rbg Products Llc)</td>\n",
       "      <td>Qingyuan Xierong Plastics &amp; Rubber Products Co...</td>\n",
       "      <td>zandur</td>\n",
       "      <td>qingyuan xierong</td>\n",
       "    </tr>\n",
       "  </tbody>\n",
       "</table>\n",
       "<p>213249 rows × 4 columns</p>\n",
       "</div>"
      ],
      "text/plain": [
       "                                         name_1  \\\n",
       "pair_id                                           \n",
       "1                    Sun Blinds Decoration Inc.   \n",
       "2                                      Eih Ltd.   \n",
       "3                                 Jsh Ltd. (Hk)   \n",
       "4                        Better Industrial Ltd.   \n",
       "5        Equipos Inoxidables Del Norte Sa De Cv   \n",
       "...                                         ...   \n",
       "213245                      Dyna Logistics Inc.   \n",
       "213246                                      Dsi   \n",
       "213247        Saint Gobain Abrasives (Shanghai)   \n",
       "213248           Covestro ( India) Private Ltd.   \n",
       "213249                Zandur (Rbg Products Llc)   \n",
       "\n",
       "                                                    name_2  \\\n",
       "pair_id                                                      \n",
       "1                                 Indl De Cuautitlan Sa Cv   \n",
       "2               Dongguan Wei Shi Plastic Product Co., Ltd.   \n",
       "3                      Arab Shipbuilding And Repair Yard C   \n",
       "4                       Farmacap Industria E Comercio Ltda   \n",
       "5                                                 Bel Inc.   \n",
       "...                                                    ...   \n",
       "213245                       Jiangsu Easero Logistics Ltd.   \n",
       "213246                               Kavalani & Sons W.L.L   \n",
       "213247                                              Zarabi   \n",
       "213248                        Terabytes India Private Ltd.   \n",
       "213249   Qingyuan Xierong Plastics & Rubber Products Co...   \n",
       "\n",
       "                             name_1_filtered  \\\n",
       "pair_id                                        \n",
       "1                    sun blinds decoration     \n",
       "2                                      eih     \n",
       "3                                     jsh      \n",
       "4                                 better       \n",
       "5        equipos inoxidables del norte         \n",
       "...                                      ...   \n",
       "213245                              dyna       \n",
       "213246                                   dsi   \n",
       "213247               saint gobain abrasives    \n",
       "213248                         covestro        \n",
       "213249                               zandur    \n",
       "\n",
       "                           name_2_filtered  \n",
       "pair_id                                     \n",
       "1                    indl   cuautitlan      \n",
       "2                    wei shi   product      \n",
       "3        arab shipbuilding   repair yard c  \n",
       "4                  farmacap   e comercio    \n",
       "5                                    bel    \n",
       "...                                    ...  \n",
       "213245                  jiangsu easero      \n",
       "213246                  kavalani  sons wll  \n",
       "213247                              zarabi  \n",
       "213248                     terabytes        \n",
       "213249         qingyuan xierong             \n",
       "\n",
       "[213249 rows x 4 columns]"
      ]
     },
     "execution_count": 1303,
     "metadata": {},
     "output_type": "execute_result"
    }
   ],
   "source": [
    "test"
   ]
  },
  {
   "cell_type": "markdown",
   "metadata": {},
   "source": [
    "#### Embeddings"
   ]
  },
  {
   "cell_type": "markdown",
   "metadata": {},
   "source": [
    "Загружаем fasttext эмбеддинги"
   ]
  },
  {
   "cell_type": "code",
   "execution_count": 697,
   "metadata": {},
   "outputs": [],
   "source": [
    "test=pd.read_csv('test_distance.csv', index_col=0)"
   ]
  },
  {
   "cell_type": "code",
   "execution_count": 700,
   "metadata": {},
   "outputs": [],
   "source": [
    "train=pd.read_csv('train_withgpe_distance.csv', index_col=0)"
   ]
  },
  {
   "cell_type": "markdown",
   "metadata": {},
   "source": [
    "### Creating features"
   ]
  },
  {
   "cell_type": "code",
   "execution_count": 702,
   "metadata": {},
   "outputs": [],
   "source": [
    "train['len_diff']=train.apply(lambda r: np.abs(len(str(r.name_1_filtered))-len(str(r.name_2_filtered))),axis=1)"
   ]
  },
  {
   "cell_type": "code",
   "execution_count": 703,
   "metadata": {},
   "outputs": [],
   "source": [
    "test['len_diff']=test.apply(lambda r: np.abs(len(str(r.name_1_filtered))-len(str(r.name_2_filtered))),axis=1)"
   ]
  },
  {
   "cell_type": "code",
   "execution_count": 705,
   "metadata": {},
   "outputs": [
    {
     "name": "stderr",
     "output_type": "stream",
     "text": [
      "100%|████████████████████████████████| 497819/497819 [01:10<00:00, 7069.08it/s]\n"
     ]
    }
   ],
   "source": [
    "train['token_sort_ratio'] = train.progress_apply(lambda r: fuzz.token_sort_ratio(r.name_1_filtered, r.name_2_filtered), axis=1)"
   ]
  },
  {
   "cell_type": "code",
   "execution_count": 706,
   "metadata": {},
   "outputs": [
    {
     "name": "stderr",
     "output_type": "stream",
     "text": [
      "100%|████████████████████████████████| 497819/497819 [01:15<00:00, 6573.66it/s]\n"
     ]
    }
   ],
   "source": [
    "train['token_set_ratio'] = train.progress_apply(lambda r: fuzz.token_set_ratio(r.name_1_filtered, r.name_2_filtered), axis=1)"
   ]
  },
  {
   "cell_type": "code",
   "execution_count": 707,
   "metadata": {},
   "outputs": [
    {
     "name": "stderr",
     "output_type": "stream",
     "text": [
      "100%|████████████████████████████████| 497819/497819 [01:07<00:00, 7420.85it/s]\n"
     ]
    }
   ],
   "source": [
    "train['fuzz_qratio'] = train.progress_apply(lambda r: fuzz.QRatio(r.name_1_filtered, r.name_2_filtered), axis=1)"
   ]
  },
  {
   "cell_type": "code",
   "execution_count": 708,
   "metadata": {},
   "outputs": [
    {
     "name": "stderr",
     "output_type": "stream",
     "text": [
      "100%|████████████████████████████████| 497819/497819 [04:41<00:00, 1769.06it/s]\n"
     ]
    }
   ],
   "source": [
    "train['fuzz_WRatio'] = train.progress_apply(lambda r: fuzz.WRatio(r.name_1_filtered, r.name_2_filtered), axis=1)"
   ]
  },
  {
   "cell_type": "code",
   "execution_count": 709,
   "metadata": {},
   "outputs": [
    {
     "name": "stderr",
     "output_type": "stream",
     "text": [
      "100%|████████████████████████████████| 497819/497819 [02:46<00:00, 2991.73it/s]\n"
     ]
    }
   ],
   "source": [
    "train['fuzz_partial_ratio'] = train.progress_apply(lambda r: fuzz.partial_ratio(str(r.name_1_filtered), str(r.name_2_filtered)), axis=1)"
   ]
  },
  {
   "cell_type": "code",
   "execution_count": 710,
   "metadata": {},
   "outputs": [
    {
     "name": "stderr",
     "output_type": "stream",
     "text": [
      "100%|████████████████████████████████| 213249/213249 [00:29<00:00, 7188.89it/s]\n"
     ]
    }
   ],
   "source": [
    "test['token_sort_ratio'] = test.progress_apply(lambda r: fuzz.token_sort_ratio(r.name_1_filtered, r.name_2_filtered), axis=1)"
   ]
  },
  {
   "cell_type": "code",
   "execution_count": 711,
   "metadata": {},
   "outputs": [
    {
     "name": "stderr",
     "output_type": "stream",
     "text": [
      "100%|████████████████████████████████| 213249/213249 [00:32<00:00, 6657.20it/s]\n"
     ]
    }
   ],
   "source": [
    "test['token_set_ratio'] = test.progress_apply(lambda r: fuzz.token_set_ratio(r.name_1_filtered, r.name_2_filtered), axis=1)"
   ]
  },
  {
   "cell_type": "code",
   "execution_count": 712,
   "metadata": {},
   "outputs": [
    {
     "name": "stderr",
     "output_type": "stream",
     "text": [
      "100%|████████████████████████████████| 213249/213249 [00:28<00:00, 7590.12it/s]\n"
     ]
    }
   ],
   "source": [
    "test['fuzz_qratio'] = test.progress_apply(lambda r: fuzz.QRatio(r.name_1_filtered, r.name_2_filtered), axis=1)"
   ]
  },
  {
   "cell_type": "code",
   "execution_count": 713,
   "metadata": {},
   "outputs": [
    {
     "name": "stderr",
     "output_type": "stream",
     "text": [
      "100%|████████████████████████████████| 213249/213249 [01:55<00:00, 1846.97it/s]\n"
     ]
    }
   ],
   "source": [
    "test['fuzz_WRatio'] = test.progress_apply(lambda r: fuzz.WRatio(r.name_1_filtered, r.name_2_filtered), axis=1)"
   ]
  },
  {
   "cell_type": "code",
   "execution_count": 714,
   "metadata": {},
   "outputs": [
    {
     "name": "stderr",
     "output_type": "stream",
     "text": [
      "100%|████████████████████████████████| 213249/213249 [01:12<00:00, 2940.43it/s]\n"
     ]
    }
   ],
   "source": [
    "test['fuzz_partial_ratio'] = test.progress_apply(lambda r: fuzz.partial_ratio(str(r.name_1_filtered), str(r.name_2_filtered)), axis=1)"
   ]
  },
  {
   "cell_type": "code",
   "execution_count": 715,
   "metadata": {},
   "outputs": [
    {
     "name": "stderr",
     "output_type": "stream",
     "text": [
      "100%|████████████████████████████████| 497819/497819 [01:54<00:00, 4332.68it/s]\n"
     ]
    }
   ],
   "source": [
    "levenshtein = Levenshtein()\n",
    "\n",
    "train[\"levenstein\"] = train.progress_apply(lambda r: levenshtein.distance(str(r.name_1_filtered), str(r.name_2_filtered)), axis=1)\n"
   ]
  },
  {
   "cell_type": "code",
   "execution_count": 716,
   "metadata": {},
   "outputs": [
    {
     "name": "stderr",
     "output_type": "stream",
     "text": [
      "100%|████████████████████████████████| 497819/497819 [01:56<00:00, 4261.72it/s]\n"
     ]
    }
   ],
   "source": [
    "normalized_levenshtein = NormalizedLevenshtein()\n",
    "\n",
    "train[\"norm_levenstein\"] = train.progress_apply(lambda r: normalized_levenshtein.distance(str(r.name_1_filtered), str(r.name_2_filtered)),\n",
    "                                                axis=1)\n"
   ]
  },
  {
   "cell_type": "code",
   "execution_count": 717,
   "metadata": {},
   "outputs": [
    {
     "name": "stderr",
     "output_type": "stream",
     "text": [
      "100%|████████████████████████████████| 213249/213249 [00:50<00:00, 4209.51it/s]\n"
     ]
    }
   ],
   "source": [
    "test[\"levenstein\"] = test.progress_apply(lambda r: levenshtein.distance(str(r.name_1_filtered), str(r.name_2_filtered)), axis=1)\n"
   ]
  },
  {
   "cell_type": "code",
   "execution_count": 718,
   "metadata": {},
   "outputs": [
    {
     "name": "stderr",
     "output_type": "stream",
     "text": [
      "100%|████████████████████████████████| 213249/213249 [00:51<00:00, 4156.99it/s]\n"
     ]
    }
   ],
   "source": [
    "test[\"norm_levenstein\"] = test.progress_apply(lambda r: normalized_levenshtein.distance(str(r.name_1_filtered), str(r.name_2_filtered)),\n",
    "                                                axis=1)"
   ]
  },
  {
   "cell_type": "code",
   "execution_count": 719,
   "metadata": {},
   "outputs": [],
   "source": [
    "train.loc[(train.jaccard==0)&(train.is_duplicate==0),['is_duplicate']]=1"
   ]
  },
  {
   "cell_type": "markdown",
   "metadata": {},
   "source": [
    "#### Train test split"
   ]
  },
  {
   "cell_type": "code",
   "execution_count": 359,
   "metadata": {},
   "outputs": [],
   "source": [
    "from sklearn.preprocessing import StandardScaler, MinMaxScaler"
   ]
  },
  {
   "cell_type": "code",
   "execution_count": 720,
   "metadata": {},
   "outputs": [],
   "source": [
    "scale_fts=['cosine', 'cityblock', 'jaccard', 'canberra', 'minkowski', 'braycurtis', 'len_diff', 'token_sort_ratio', 'token_set_ratio', 'fuzz_qratio','fuzz_WRatio', 'fuzz_partial_ratio', 'levenstein', 'norm_levenstein']"
   ]
  },
  {
   "cell_type": "code",
   "execution_count": 721,
   "metadata": {},
   "outputs": [],
   "source": [
    "scaler = StandardScaler()\n",
    "x_scaled=train.copy()\n",
    "x_scaled[scale_fts] = scaler.fit_transform(x_scaled[scale_fts])"
   ]
  },
  {
   "cell_type": "code",
   "execution_count": 902,
   "metadata": {},
   "outputs": [],
   "source": [
    "x_train,x_val,y_train,y_val=train_test_split(train[scale_fts], train[\"is_duplicate\"], test_size=0.3, random_state=43 )"
   ]
  },
  {
   "cell_type": "code",
   "execution_count": 903,
   "metadata": {},
   "outputs": [
    {
     "data": {
      "text/html": [
       "<div>\n",
       "<style scoped>\n",
       "    .dataframe tbody tr th:only-of-type {\n",
       "        vertical-align: middle;\n",
       "    }\n",
       "\n",
       "    .dataframe tbody tr th {\n",
       "        vertical-align: top;\n",
       "    }\n",
       "\n",
       "    .dataframe thead th {\n",
       "        text-align: right;\n",
       "    }\n",
       "</style>\n",
       "<table border=\"1\" class=\"dataframe\">\n",
       "  <thead>\n",
       "    <tr style=\"text-align: right;\">\n",
       "      <th></th>\n",
       "      <th>cosine</th>\n",
       "      <th>cityblock</th>\n",
       "      <th>canberra</th>\n",
       "      <th>minkowski</th>\n",
       "      <th>braycurtis</th>\n",
       "      <th>len_diff</th>\n",
       "      <th>token_sort_ratio</th>\n",
       "      <th>token_set_ratio</th>\n",
       "      <th>fuzz_qratio</th>\n",
       "      <th>fuzz_WRatio</th>\n",
       "      <th>fuzz_partial_ratio</th>\n",
       "      <th>levenstein</th>\n",
       "      <th>norm_levenstein</th>\n",
       "    </tr>\n",
       "    <tr>\n",
       "      <th>pair_id</th>\n",
       "      <th></th>\n",
       "      <th></th>\n",
       "      <th></th>\n",
       "      <th></th>\n",
       "      <th></th>\n",
       "      <th></th>\n",
       "      <th></th>\n",
       "      <th></th>\n",
       "      <th></th>\n",
       "      <th></th>\n",
       "      <th></th>\n",
       "      <th></th>\n",
       "      <th></th>\n",
       "    </tr>\n",
       "  </thead>\n",
       "  <tbody>\n",
       "    <tr>\n",
       "      <th>160168</th>\n",
       "      <td>0.621268</td>\n",
       "      <td>12.365551</td>\n",
       "      <td>200.477453</td>\n",
       "      <td>0.865528</td>\n",
       "      <td>0.711856</td>\n",
       "      <td>11</td>\n",
       "      <td>6</td>\n",
       "      <td>6</td>\n",
       "      <td>6</td>\n",
       "      <td>6</td>\n",
       "      <td>24</td>\n",
       "      <td>24.0</td>\n",
       "      <td>0.857143</td>\n",
       "    </tr>\n",
       "    <tr>\n",
       "      <th>384527</th>\n",
       "      <td>0.437474</td>\n",
       "      <td>7.572466</td>\n",
       "      <td>169.623205</td>\n",
       "      <td>0.557237</td>\n",
       "      <td>0.531537</td>\n",
       "      <td>2</td>\n",
       "      <td>60</td>\n",
       "      <td>60</td>\n",
       "      <td>60</td>\n",
       "      <td>60</td>\n",
       "      <td>68</td>\n",
       "      <td>16.0</td>\n",
       "      <td>0.444444</td>\n",
       "    </tr>\n",
       "    <tr>\n",
       "      <th>157383</th>\n",
       "      <td>0.910557</td>\n",
       "      <td>16.382311</td>\n",
       "      <td>213.193833</td>\n",
       "      <td>1.212546</td>\n",
       "      <td>0.939052</td>\n",
       "      <td>7</td>\n",
       "      <td>22</td>\n",
       "      <td>22</td>\n",
       "      <td>26</td>\n",
       "      <td>31</td>\n",
       "      <td>60</td>\n",
       "      <td>12.0</td>\n",
       "      <td>0.705882</td>\n",
       "    </tr>\n",
       "    <tr>\n",
       "      <th>432296</th>\n",
       "      <td>0.588565</td>\n",
       "      <td>12.333176</td>\n",
       "      <td>191.789482</td>\n",
       "      <td>0.985257</td>\n",
       "      <td>0.678589</td>\n",
       "      <td>2</td>\n",
       "      <td>44</td>\n",
       "      <td>44</td>\n",
       "      <td>44</td>\n",
       "      <td>60</td>\n",
       "      <td>50</td>\n",
       "      <td>5.0</td>\n",
       "      <td>0.625000</td>\n",
       "    </tr>\n",
       "    <tr>\n",
       "      <th>225332</th>\n",
       "      <td>0.867728</td>\n",
       "      <td>16.495438</td>\n",
       "      <td>205.980066</td>\n",
       "      <td>1.182875</td>\n",
       "      <td>0.880913</td>\n",
       "      <td>13</td>\n",
       "      <td>13</td>\n",
       "      <td>13</td>\n",
       "      <td>13</td>\n",
       "      <td>30</td>\n",
       "      <td>57</td>\n",
       "      <td>15.0</td>\n",
       "      <td>0.750000</td>\n",
       "    </tr>\n",
       "    <tr>\n",
       "      <th>...</th>\n",
       "      <td>...</td>\n",
       "      <td>...</td>\n",
       "      <td>...</td>\n",
       "      <td>...</td>\n",
       "      <td>...</td>\n",
       "      <td>...</td>\n",
       "      <td>...</td>\n",
       "      <td>...</td>\n",
       "      <td>...</td>\n",
       "      <td>...</td>\n",
       "      <td>...</td>\n",
       "      <td>...</td>\n",
       "      <td>...</td>\n",
       "    </tr>\n",
       "    <tr>\n",
       "      <th>387350</th>\n",
       "      <td>0.896252</td>\n",
       "      <td>16.519239</td>\n",
       "      <td>216.107715</td>\n",
       "      <td>1.198846</td>\n",
       "      <td>0.928376</td>\n",
       "      <td>13</td>\n",
       "      <td>42</td>\n",
       "      <td>42</td>\n",
       "      <td>30</td>\n",
       "      <td>60</td>\n",
       "      <td>75</td>\n",
       "      <td>15.0</td>\n",
       "      <td>0.714286</td>\n",
       "    </tr>\n",
       "    <tr>\n",
       "      <th>40754</th>\n",
       "      <td>0.766643</td>\n",
       "      <td>14.295923</td>\n",
       "      <td>209.643398</td>\n",
       "      <td>1.032149</td>\n",
       "      <td>0.841431</td>\n",
       "      <td>24</td>\n",
       "      <td>19</td>\n",
       "      <td>19</td>\n",
       "      <td>19</td>\n",
       "      <td>68</td>\n",
       "      <td>50</td>\n",
       "      <td>25.0</td>\n",
       "      <td>0.833333</td>\n",
       "    </tr>\n",
       "    <tr>\n",
       "      <th>248064</th>\n",
       "      <td>0.791392</td>\n",
       "      <td>15.299028</td>\n",
       "      <td>209.281977</td>\n",
       "      <td>1.113839</td>\n",
       "      <td>0.840683</td>\n",
       "      <td>17</td>\n",
       "      <td>35</td>\n",
       "      <td>35</td>\n",
       "      <td>32</td>\n",
       "      <td>60</td>\n",
       "      <td>50</td>\n",
       "      <td>20.0</td>\n",
       "      <td>0.800000</td>\n",
       "    </tr>\n",
       "    <tr>\n",
       "      <th>150849</th>\n",
       "      <td>0.831501</td>\n",
       "      <td>17.501436</td>\n",
       "      <td>210.573331</td>\n",
       "      <td>1.289574</td>\n",
       "      <td>0.878455</td>\n",
       "      <td>12</td>\n",
       "      <td>0</td>\n",
       "      <td>0</td>\n",
       "      <td>0</td>\n",
       "      <td>0</td>\n",
       "      <td>0</td>\n",
       "      <td>14.0</td>\n",
       "      <td>1.000000</td>\n",
       "    </tr>\n",
       "    <tr>\n",
       "      <th>276293</th>\n",
       "      <td>0.867812</td>\n",
       "      <td>13.240061</td>\n",
       "      <td>209.327326</td>\n",
       "      <td>0.965390</td>\n",
       "      <td>0.870450</td>\n",
       "      <td>4</td>\n",
       "      <td>20</td>\n",
       "      <td>20</td>\n",
       "      <td>20</td>\n",
       "      <td>20</td>\n",
       "      <td>20</td>\n",
       "      <td>18.0</td>\n",
       "      <td>0.857143</td>\n",
       "    </tr>\n",
       "  </tbody>\n",
       "</table>\n",
       "<p>348473 rows × 13 columns</p>\n",
       "</div>"
      ],
      "text/plain": [
       "           cosine  cityblock    canberra  minkowski  braycurtis  len_diff  \\\n",
       "pair_id                                                                     \n",
       "160168   0.621268  12.365551  200.477453   0.865528    0.711856        11   \n",
       "384527   0.437474   7.572466  169.623205   0.557237    0.531537         2   \n",
       "157383   0.910557  16.382311  213.193833   1.212546    0.939052         7   \n",
       "432296   0.588565  12.333176  191.789482   0.985257    0.678589         2   \n",
       "225332   0.867728  16.495438  205.980066   1.182875    0.880913        13   \n",
       "...           ...        ...         ...        ...         ...       ...   \n",
       "387350   0.896252  16.519239  216.107715   1.198846    0.928376        13   \n",
       "40754    0.766643  14.295923  209.643398   1.032149    0.841431        24   \n",
       "248064   0.791392  15.299028  209.281977   1.113839    0.840683        17   \n",
       "150849   0.831501  17.501436  210.573331   1.289574    0.878455        12   \n",
       "276293   0.867812  13.240061  209.327326   0.965390    0.870450         4   \n",
       "\n",
       "         token_sort_ratio  token_set_ratio  fuzz_qratio  fuzz_WRatio  \\\n",
       "pair_id                                                                \n",
       "160168                  6                6            6            6   \n",
       "384527                 60               60           60           60   \n",
       "157383                 22               22           26           31   \n",
       "432296                 44               44           44           60   \n",
       "225332                 13               13           13           30   \n",
       "...                   ...              ...          ...          ...   \n",
       "387350                 42               42           30           60   \n",
       "40754                  19               19           19           68   \n",
       "248064                 35               35           32           60   \n",
       "150849                  0                0            0            0   \n",
       "276293                 20               20           20           20   \n",
       "\n",
       "         fuzz_partial_ratio  levenstein  norm_levenstein  \n",
       "pair_id                                                   \n",
       "160168                   24        24.0         0.857143  \n",
       "384527                   68        16.0         0.444444  \n",
       "157383                   60        12.0         0.705882  \n",
       "432296                   50         5.0         0.625000  \n",
       "225332                   57        15.0         0.750000  \n",
       "...                     ...         ...              ...  \n",
       "387350                   75        15.0         0.714286  \n",
       "40754                    50        25.0         0.833333  \n",
       "248064                   50        20.0         0.800000  \n",
       "150849                    0        14.0         1.000000  \n",
       "276293                   20        18.0         0.857143  \n",
       "\n",
       "[348473 rows x 13 columns]"
      ]
     },
     "execution_count": 903,
     "metadata": {},
     "output_type": "execute_result"
    }
   ],
   "source": [
    "x_train"
   ]
  },
  {
   "cell_type": "code",
   "execution_count": 723,
   "metadata": {},
   "outputs": [],
   "source": [
    "test_scale=test.copy()\n",
    "test_scale[scale_fts] = scaler.transform(test_scale[scale_fts])"
   ]
  },
  {
   "cell_type": "code",
   "execution_count": 276,
   "metadata": {},
   "outputs": [],
   "source": [
    "import catboost"
   ]
  },
  {
   "cell_type": "code",
   "execution_count": 837,
   "metadata": {},
   "outputs": [],
   "source": [
    "model_cat = CatBoostClassifier(auto_class_weights='Balanced', silent=True)"
   ]
  },
  {
   "cell_type": "code",
   "execution_count": 838,
   "metadata": {},
   "outputs": [
    {
     "data": {
      "text/plain": [
       "{'reg_lambda': 0.1, 'n_estimators': 500, 'max_depth': 5, 'learning_rate': 0.2}"
      ]
     },
     "execution_count": 838,
     "metadata": {},
     "output_type": "execute_result"
    }
   ],
   "source": [
    "{'reg_lambda': 0.1, 'n_estimators': 500, 'max_depth': 5, 'learning_rate': 0.2}"
   ]
  },
  {
   "cell_type": "code",
   "execution_count": 839,
   "metadata": {},
   "outputs": [],
   "source": [
    "FTS=['cosine', 'cityblock',  'canberra', 'minkowski', 'braycurtis', 'len_diff', 'token_sort_ratio', 'token_set_ratio', 'fuzz_qratio','fuzz_WRatio', 'fuzz_partial_ratio', 'levenstein', 'norm_levenstein']"
   ]
  },
  {
   "cell_type": "code",
   "execution_count": 840,
   "metadata": {},
   "outputs": [
    {
     "data": {
      "text/plain": [
       "<catboost.core.CatBoostClassifier at 0x6607c6a0>"
      ]
     },
     "execution_count": 840,
     "metadata": {},
     "output_type": "execute_result"
    }
   ],
   "source": [
    "model_cat.fit(train_pca, np.array(y_train))"
   ]
  },
  {
   "cell_type": "code",
   "execution_count": 856,
   "metadata": {},
   "outputs": [],
   "source": [
    "tr_preds = model_cat.predict_proba(train_pca)\n",
    "cv_preds = model_cat.predict_proba(val_pca)"
   ]
  },
  {
   "cell_type": "code",
   "execution_count": 857,
   "metadata": {},
   "outputs": [],
   "source": [
    "THR=0.9"
   ]
  },
  {
   "cell_type": "code",
   "execution_count": 858,
   "metadata": {},
   "outputs": [],
   "source": [
    "tr_preds = (tr_preds[:, 1] > THR).astype(np.int)\n",
    "cv_preds = (cv_preds[:, 1] > THR).astype(np.int)"
   ]
  },
  {
   "cell_type": "code",
   "execution_count": 859,
   "metadata": {},
   "outputs": [
    {
     "name": "stdout",
     "output_type": "stream",
     "text": [
      "0.8875819190052091\n",
      "0.7257866775643645\n"
     ]
    }
   ],
   "source": [
    "print(f1_score(y_train, tr_preds))\n",
    "print(f1_score(y_val, cv_preds))"
   ]
  },
  {
   "cell_type": "code",
   "execution_count": 836,
   "metadata": {},
   "outputs": [
    {
     "data": {
      "text/plain": [
       "array([27.60432038, 10.74296968, 17.01305322, 14.8746829 , 16.50023118,\n",
       "       13.26474263])"
      ]
     },
     "execution_count": 836,
     "metadata": {},
     "output_type": "execute_result"
    }
   ],
   "source": [
    "model_cat.feature_importances_"
   ]
  },
  {
   "cell_type": "code",
   "execution_count": 952,
   "metadata": {},
   "outputs": [
    {
     "data": {
      "text/html": [
       "<div>\n",
       "<style scoped>\n",
       "    .dataframe tbody tr th:only-of-type {\n",
       "        vertical-align: middle;\n",
       "    }\n",
       "\n",
       "    .dataframe tbody tr th {\n",
       "        vertical-align: top;\n",
       "    }\n",
       "\n",
       "    .dataframe thead th {\n",
       "        text-align: right;\n",
       "    }\n",
       "</style>\n",
       "<table border=\"1\" class=\"dataframe\">\n",
       "  <thead>\n",
       "    <tr style=\"text-align: right;\">\n",
       "      <th></th>\n",
       "      <th>cosine</th>\n",
       "      <th>token_sort_ratio</th>\n",
       "      <th>cityblock</th>\n",
       "      <th>canberra</th>\n",
       "    </tr>\n",
       "    <tr>\n",
       "      <th>pair_id</th>\n",
       "      <th></th>\n",
       "      <th></th>\n",
       "      <th></th>\n",
       "      <th></th>\n",
       "    </tr>\n",
       "  </thead>\n",
       "  <tbody>\n",
       "    <tr>\n",
       "      <th>1</th>\n",
       "      <td>0.906020</td>\n",
       "      <td>22</td>\n",
       "      <td>13.935598</td>\n",
       "      <td>217.988107</td>\n",
       "    </tr>\n",
       "    <tr>\n",
       "      <th>2</th>\n",
       "      <td>0.641881</td>\n",
       "      <td>22</td>\n",
       "      <td>13.360432</td>\n",
       "      <td>197.300345</td>\n",
       "    </tr>\n",
       "    <tr>\n",
       "      <th>3</th>\n",
       "      <td>0.798842</td>\n",
       "      <td>12</td>\n",
       "      <td>14.302099</td>\n",
       "      <td>213.492766</td>\n",
       "    </tr>\n",
       "    <tr>\n",
       "      <th>4</th>\n",
       "      <td>0.935938</td>\n",
       "      <td>16</td>\n",
       "      <td>16.232773</td>\n",
       "      <td>225.509049</td>\n",
       "    </tr>\n",
       "    <tr>\n",
       "      <th>5</th>\n",
       "      <td>0.654095</td>\n",
       "      <td>12</td>\n",
       "      <td>13.772058</td>\n",
       "      <td>204.566007</td>\n",
       "    </tr>\n",
       "    <tr>\n",
       "      <th>...</th>\n",
       "      <td>...</td>\n",
       "      <td>...</td>\n",
       "      <td>...</td>\n",
       "      <td>...</td>\n",
       "    </tr>\n",
       "    <tr>\n",
       "      <th>213245</th>\n",
       "      <td>0.886114</td>\n",
       "      <td>11</td>\n",
       "      <td>15.538820</td>\n",
       "      <td>205.093185</td>\n",
       "    </tr>\n",
       "    <tr>\n",
       "      <th>213246</th>\n",
       "      <td>0.899231</td>\n",
       "      <td>10</td>\n",
       "      <td>14.961913</td>\n",
       "      <td>213.284294</td>\n",
       "    </tr>\n",
       "    <tr>\n",
       "      <th>213247</th>\n",
       "      <td>0.804740</td>\n",
       "      <td>21</td>\n",
       "      <td>14.895469</td>\n",
       "      <td>213.103909</td>\n",
       "    </tr>\n",
       "    <tr>\n",
       "      <th>213248</th>\n",
       "      <td>0.994590</td>\n",
       "      <td>24</td>\n",
       "      <td>19.657841</td>\n",
       "      <td>221.216617</td>\n",
       "    </tr>\n",
       "    <tr>\n",
       "      <th>213249</th>\n",
       "      <td>0.480858</td>\n",
       "      <td>27</td>\n",
       "      <td>12.533339</td>\n",
       "      <td>185.234118</td>\n",
       "    </tr>\n",
       "  </tbody>\n",
       "</table>\n",
       "<p>213249 rows × 4 columns</p>\n",
       "</div>"
      ],
      "text/plain": [
       "           cosine  token_sort_ratio  cityblock    canberra\n",
       "pair_id                                                   \n",
       "1        0.906020                22  13.935598  217.988107\n",
       "2        0.641881                22  13.360432  197.300345\n",
       "3        0.798842                12  14.302099  213.492766\n",
       "4        0.935938                16  16.232773  225.509049\n",
       "5        0.654095                12  13.772058  204.566007\n",
       "...           ...               ...        ...         ...\n",
       "213245   0.886114                11  15.538820  205.093185\n",
       "213246   0.899231                10  14.961913  213.284294\n",
       "213247   0.804740                21  14.895469  213.103909\n",
       "213248   0.994590                24  19.657841  221.216617\n",
       "213249   0.480858                27  12.533339  185.234118\n",
       "\n",
       "[213249 rows x 4 columns]"
      ]
     },
     "execution_count": 952,
     "metadata": {},
     "output_type": "execute_result"
    }
   ],
   "source": [
    "test[FTS]"
   ]
  },
  {
   "cell_type": "code",
   "execution_count": 970,
   "metadata": {},
   "outputs": [],
   "source": [
    "test_preds=model_cat.predict_proba(test[FTS].values)\n"
   ]
  },
  {
   "cell_type": "code",
   "execution_count": 971,
   "metadata": {},
   "outputs": [],
   "source": [
    "test_preds = (test_preds[:, 1] >0.94).astype(np.int)"
   ]
  },
  {
   "cell_type": "code",
   "execution_count": 972,
   "metadata": {},
   "outputs": [],
   "source": [
    "answer=pd.DataFrame(data=test_preds, index=test.index, columns=['is_duplicate']  )"
   ]
  },
  {
   "cell_type": "code",
   "execution_count": 973,
   "metadata": {},
   "outputs": [
    {
     "data": {
      "text/plain": [
       "0    211748\n",
       "1      1501\n",
       "Name: is_duplicate, dtype: int64"
      ]
     },
     "execution_count": 973,
     "metadata": {},
     "output_type": "execute_result"
    }
   ],
   "source": [
    "answer['is_duplicate'].value_counts()"
   ]
  },
  {
   "cell_type": "code",
   "execution_count": 975,
   "metadata": {},
   "outputs": [],
   "source": [
    "answer['name_1']=test['name_1']"
   ]
  },
  {
   "cell_type": "code",
   "execution_count": 976,
   "metadata": {},
   "outputs": [],
   "source": [
    "answer['name_2']=test['name_2']"
   ]
  },
  {
   "cell_type": "code",
   "execution_count": 979,
   "metadata": {},
   "outputs": [
    {
     "data": {
      "text/html": [
       "<div>\n",
       "<style scoped>\n",
       "    .dataframe tbody tr th:only-of-type {\n",
       "        vertical-align: middle;\n",
       "    }\n",
       "\n",
       "    .dataframe tbody tr th {\n",
       "        vertical-align: top;\n",
       "    }\n",
       "\n",
       "    .dataframe thead th {\n",
       "        text-align: right;\n",
       "    }\n",
       "</style>\n",
       "<table border=\"1\" class=\"dataframe\">\n",
       "  <thead>\n",
       "    <tr style=\"text-align: right;\">\n",
       "      <th></th>\n",
       "      <th>is_duplicate</th>\n",
       "      <th>name_1</th>\n",
       "      <th>name_2</th>\n",
       "    </tr>\n",
       "    <tr>\n",
       "      <th>pair_id</th>\n",
       "      <th></th>\n",
       "      <th></th>\n",
       "      <th></th>\n",
       "    </tr>\n",
       "  </thead>\n",
       "  <tbody>\n",
       "    <tr>\n",
       "      <th>27560</th>\n",
       "      <td>1</td>\n",
       "      <td>Polymer Molded Products Llc.</td>\n",
       "      <td>Polymer Products Imp. &amp; Exp. (Pvt) Ltd.</td>\n",
       "    </tr>\n",
       "    <tr>\n",
       "      <th>65058</th>\n",
       "      <td>1</td>\n",
       "      <td>Cauchos Vulcanizados De Colombia</td>\n",
       "      <td>Cauchos Vulcanizados Colombia Ltda</td>\n",
       "    </tr>\n",
       "    <tr>\n",
       "      <th>58808</th>\n",
       "      <td>1</td>\n",
       "      <td>Famotron Comercio De Equipmentos Te</td>\n",
       "      <td>Famotron Comercio De Equipamentos</td>\n",
       "    </tr>\n",
       "    <tr>\n",
       "      <th>176108</th>\n",
       "      <td>1</td>\n",
       "      <td>To The Order Of Modhumoti Bank</td>\n",
       "      <td>To The Order Of Kcb Bank Kenya Ltd.</td>\n",
       "    </tr>\n",
       "    <tr>\n",
       "      <th>33691</th>\n",
       "      <td>1</td>\n",
       "      <td>Ceat Kelani Radials (Pvt) Ltd.</td>\n",
       "      <td>Ceat Kelani International Tyres</td>\n",
       "    </tr>\n",
       "    <tr>\n",
       "      <th>62357</th>\n",
       "      <td>1</td>\n",
       "      <td>Rossini Do Brasil Industria E Comercio De Plas...</td>\n",
       "      <td>Fcc Industria E Comercio Ltda</td>\n",
       "    </tr>\n",
       "    <tr>\n",
       "      <th>72050</th>\n",
       "      <td>1</td>\n",
       "      <td>Clear Freight, Inc.</td>\n",
       "      <td>Harbor Freight Tools</td>\n",
       "    </tr>\n",
       "    <tr>\n",
       "      <th>120358</th>\n",
       "      <td>1</td>\n",
       "      <td>Pt Lotus Indah Textile Industries</td>\n",
       "      <td>Lotus Indah Textile Industries</td>\n",
       "    </tr>\n",
       "    <tr>\n",
       "      <th>85120</th>\n",
       "      <td>1</td>\n",
       "      <td>Sojitz (Shanghai) Co., Ltd.</td>\n",
       "      <td>Sojitz Mexicana Sa De Cv</td>\n",
       "    </tr>\n",
       "    <tr>\n",
       "      <th>52648</th>\n",
       "      <td>1</td>\n",
       "      <td>Trelleborg France</td>\n",
       "      <td>Trelleborg Vickers</td>\n",
       "    </tr>\n",
       "    <tr>\n",
       "      <th>176704</th>\n",
       "      <td>1</td>\n",
       "      <td>Polimeros Tecnicos S.A.</td>\n",
       "      <td>Industrias De Compuestos Tecnicos Sa De Cv</td>\n",
       "    </tr>\n",
       "    <tr>\n",
       "      <th>147736</th>\n",
       "      <td>1</td>\n",
       "      <td>Kia Motors Mfg. Georgia</td>\n",
       "      <td>Kia Motors America Inc.</td>\n",
       "    </tr>\n",
       "    <tr>\n",
       "      <th>167165</th>\n",
       "      <td>1</td>\n",
       "      <td>Polichemi S.L. Carretera De</td>\n",
       "      <td>Polichemi Sl</td>\n",
       "    </tr>\n",
       "    <tr>\n",
       "      <th>182008</th>\n",
       "      <td>1</td>\n",
       "      <td>Ford Motor Co.</td>\n",
       "      <td>Toyota Motor Corp Group</td>\n",
       "    </tr>\n",
       "    <tr>\n",
       "      <th>28054</th>\n",
       "      <td>1</td>\n",
       "      <td>Fcc Industries E Comercio Ltda</td>\n",
       "      <td>Betunel Industria E Comercio Ltda</td>\n",
       "    </tr>\n",
       "    <tr>\n",
       "      <th>145182</th>\n",
       "      <td>1</td>\n",
       "      <td>Rhino Rugby Italia</td>\n",
       "      <td>Rhino Rugby League</td>\n",
       "    </tr>\n",
       "    <tr>\n",
       "      <th>176066</th>\n",
       "      <td>1</td>\n",
       "      <td>Henkel Adhesive Technologies</td>\n",
       "      <td>Henkel Adhesives Technologies (Guangdong) Co.,...</td>\n",
       "    </tr>\n",
       "    <tr>\n",
       "      <th>16120</th>\n",
       "      <td>1</td>\n",
       "      <td>Alrojo Comercializadora Sa De Cv</td>\n",
       "      <td>Comercializadora Llantas Unidas International ...</td>\n",
       "    </tr>\n",
       "    <tr>\n",
       "      <th>58611</th>\n",
       "      <td>1</td>\n",
       "      <td>Guangzhou Ngai Hing Hong Plastic Ma</td>\n",
       "      <td>Ng Fung Hong Inc.</td>\n",
       "    </tr>\n",
       "    <tr>\n",
       "      <th>173761</th>\n",
       "      <td>1</td>\n",
       "      <td>Henkel Chile Limitada</td>\n",
       "      <td>Henkel Uk</td>\n",
       "    </tr>\n",
       "    <tr>\n",
       "      <th>96946</th>\n",
       "      <td>1</td>\n",
       "      <td>Goodyear Do Brasil Productos De Borracha Ltda.</td>\n",
       "      <td>Goodyear Do Brasil Produtos De Borracha Ltda</td>\n",
       "    </tr>\n",
       "    <tr>\n",
       "      <th>188730</th>\n",
       "      <td>1</td>\n",
       "      <td>The Weaver Group</td>\n",
       "      <td>Weaver Industries, Inc.</td>\n",
       "    </tr>\n",
       "    <tr>\n",
       "      <th>13535</th>\n",
       "      <td>1</td>\n",
       "      <td>Kuwait Automotive Imp. Co.</td>\n",
       "      <td>Continental Automotive Components India Pvt., ...</td>\n",
       "    </tr>\n",
       "    <tr>\n",
       "      <th>89141</th>\n",
       "      <td>1</td>\n",
       "      <td>Fairdeal Polychem Llp</td>\n",
       "      <td>Elpha Polychem</td>\n",
       "    </tr>\n",
       "    <tr>\n",
       "      <th>21231</th>\n",
       "      <td>1</td>\n",
       "      <td>To The Order Of Mercantile Bank Ltd.</td>\n",
       "      <td>To The Order...</td>\n",
       "    </tr>\n",
       "    <tr>\n",
       "      <th>145112</th>\n",
       "      <td>1</td>\n",
       "      <td>Goodyear Canada Inc.</td>\n",
       "      <td>Goodyear India Ltd.</td>\n",
       "    </tr>\n",
       "    <tr>\n",
       "      <th>163194</th>\n",
       "      <td>1</td>\n",
       "      <td>Goodyear India Ltd.</td>\n",
       "      <td>Goodyear Tire &amp; Rubber</td>\n",
       "    </tr>\n",
       "    <tr>\n",
       "      <th>75145</th>\n",
       "      <td>1</td>\n",
       "      <td>United Chemicals</td>\n",
       "      <td>United Parcel Service De Mexico Sa De Cv</td>\n",
       "    </tr>\n",
       "    <tr>\n",
       "      <th>169914</th>\n",
       "      <td>1</td>\n",
       "      <td>Shenzhen Jinyewei Imp.&amp;Exp. Co., Ltd.</td>\n",
       "      <td>Shenzhen Jiameixin Imp.&amp;Exp. Co., Ltd.</td>\n",
       "    </tr>\n",
       "    <tr>\n",
       "      <th>100777</th>\n",
       "      <td>1</td>\n",
       "      <td>M4 Steve Madden Ltd.</td>\n",
       "      <td>Steve Madden Retail Inc.</td>\n",
       "    </tr>\n",
       "  </tbody>\n",
       "</table>\n",
       "</div>"
      ],
      "text/plain": [
       "         is_duplicate                                             name_1  \\\n",
       "pair_id                                                                    \n",
       "27560               1                       Polymer Molded Products Llc.   \n",
       "65058               1                   Cauchos Vulcanizados De Colombia   \n",
       "58808               1                Famotron Comercio De Equipmentos Te   \n",
       "176108              1                     To The Order Of Modhumoti Bank   \n",
       "33691               1                     Ceat Kelani Radials (Pvt) Ltd.   \n",
       "62357               1  Rossini Do Brasil Industria E Comercio De Plas...   \n",
       "72050               1                                Clear Freight, Inc.   \n",
       "120358              1                  Pt Lotus Indah Textile Industries   \n",
       "85120               1                        Sojitz (Shanghai) Co., Ltd.   \n",
       "52648               1                                  Trelleborg France   \n",
       "176704              1                            Polimeros Tecnicos S.A.   \n",
       "147736              1                            Kia Motors Mfg. Georgia   \n",
       "167165              1                        Polichemi S.L. Carretera De   \n",
       "182008              1                                     Ford Motor Co.   \n",
       "28054               1                     Fcc Industries E Comercio Ltda   \n",
       "145182              1                                 Rhino Rugby Italia   \n",
       "176066              1                       Henkel Adhesive Technologies   \n",
       "16120               1                   Alrojo Comercializadora Sa De Cv   \n",
       "58611               1                Guangzhou Ngai Hing Hong Plastic Ma   \n",
       "173761              1                              Henkel Chile Limitada   \n",
       "96946               1     Goodyear Do Brasil Productos De Borracha Ltda.   \n",
       "188730              1                                   The Weaver Group   \n",
       "13535               1                         Kuwait Automotive Imp. Co.   \n",
       "89141               1                              Fairdeal Polychem Llp   \n",
       "21231               1               To The Order Of Mercantile Bank Ltd.   \n",
       "145112              1                               Goodyear Canada Inc.   \n",
       "163194              1                                Goodyear India Ltd.   \n",
       "75145               1                                   United Chemicals   \n",
       "169914              1              Shenzhen Jinyewei Imp.&Exp. Co., Ltd.   \n",
       "100777              1                               M4 Steve Madden Ltd.   \n",
       "\n",
       "                                                    name_2  \n",
       "pair_id                                                     \n",
       "27560              Polymer Products Imp. & Exp. (Pvt) Ltd.  \n",
       "65058                   Cauchos Vulcanizados Colombia Ltda  \n",
       "58808                    Famotron Comercio De Equipamentos  \n",
       "176108                 To The Order Of Kcb Bank Kenya Ltd.  \n",
       "33691                      Ceat Kelani International Tyres  \n",
       "62357                        Fcc Industria E Comercio Ltda  \n",
       "72050                                 Harbor Freight Tools  \n",
       "120358                      Lotus Indah Textile Industries  \n",
       "85120                             Sojitz Mexicana Sa De Cv  \n",
       "52648                                   Trelleborg Vickers  \n",
       "176704          Industrias De Compuestos Tecnicos Sa De Cv  \n",
       "147736                             Kia Motors America Inc.  \n",
       "167165                                        Polichemi Sl  \n",
       "182008                             Toyota Motor Corp Group  \n",
       "28054                    Betunel Industria E Comercio Ltda  \n",
       "145182                                  Rhino Rugby League  \n",
       "176066   Henkel Adhesives Technologies (Guangdong) Co.,...  \n",
       "16120    Comercializadora Llantas Unidas International ...  \n",
       "58611                                    Ng Fung Hong Inc.  \n",
       "173761                                           Henkel Uk  \n",
       "96946         Goodyear Do Brasil Produtos De Borracha Ltda  \n",
       "188730                             Weaver Industries, Inc.  \n",
       "13535    Continental Automotive Components India Pvt., ...  \n",
       "89141                                       Elpha Polychem  \n",
       "21231                                      To The Order...  \n",
       "145112                                 Goodyear India Ltd.  \n",
       "163194                              Goodyear Tire & Rubber  \n",
       "75145             United Parcel Service De Mexico Sa De Cv  \n",
       "169914              Shenzhen Jiameixin Imp.&Exp. Co., Ltd.  \n",
       "100777                            Steve Madden Retail Inc.  "
      ]
     },
     "execution_count": 979,
     "metadata": {},
     "output_type": "execute_result"
    }
   ],
   "source": [
    "answer[answer.is_duplicate==1].sample(30)"
   ]
  },
  {
   "cell_type": "code",
   "execution_count": 974,
   "metadata": {},
   "outputs": [],
   "source": [
    "answer.to_csv('answer.csv')"
   ]
  }
 ],
 "metadata": {
  "kernelspec": {
   "display_name": "Python 3",
   "language": "python",
   "name": "python3"
  },
  "language_info": {
   "codemirror_mode": {
    "name": "ipython",
    "version": 3
   },
   "file_extension": ".py",
   "mimetype": "text/x-python",
   "name": "python",
   "nbconvert_exporter": "python",
   "pygments_lexer": "ipython3",
   "version": "3.7.4"
  }
 },
 "nbformat": 4,
 "nbformat_minor": 2
}
