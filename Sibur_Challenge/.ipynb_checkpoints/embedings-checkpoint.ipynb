{
 "cells": [
  {
   "cell_type": "markdown",
   "metadata": {
    "id": "zKMRETMATv5u"
   },
   "source": [
    "#### Создание эмбиддингов названий с помощью fasttext, расчет расстояний между названиями. "
   ]
  },
  {
   "cell_type": "code",
   "execution_count": null,
   "metadata": {},
   "outputs": [],
   "source": [
    "import pandas as pd\n",
    "import os\n",
    "import tqdm\n",
    "import numpy as np\n",
    "import gensim\n",
    "from collections import defaultdict\n",
    "import fasttext.util\n",
    "import re\n",
    "from scipy.spatial.distance import cosine, cityblock, jaccard, canberra, euclidean, minkowski, braycurtis"
   ]
  },
  {
   "cell_type": "code",
   "execution_count": 10,
   "metadata": {
    "colab": {
     "base_uri": "https://localhost:8080/"
    },
    "id": "rzZz0-DXVewy",
    "outputId": "638ab3b2-4050-4101-d167-aa27fb78077f"
   },
   "outputs": [
    {
     "name": "stdout",
     "output_type": "stream",
     "text": [
      "Downloading https://dl.fbaipublicfiles.com/fasttext/vectors-crawl/cc.en.300.bin.gz\n"
     ]
    },
    {
     "name": "stderr",
     "output_type": "stream",
     "text": [
      "Warning : `load_model` does not return WordVectorModel or SupervisedModel any more, but a `FastText` object which is very similar.\n"
     ]
    }
   ],
   "source": [
    "fasttext.util.download_model('en', if_exists='ignore')  # English\n",
    "ft = fasttext.load_model('cc.en.300.bin')"
   ]
  },
  {
   "cell_type": "code",
   "execution_count": 96,
   "metadata": {
    "id": "Gte3lMCOT0YQ"
   },
   "outputs": [],
   "source": [
    "\n",
    "train=pd.read_csv('train_filtered.csv', index_col=0)"
   ]
  },
  {
   "cell_type": "code",
   "execution_count": 73,
   "metadata": {
    "id": "1gJms95Iazuh"
   },
   "outputs": [],
   "source": [
    "train.loc[train['name_2_filtered'].isnull(),['name_2_filtered']]=train.name_2.str.lower().replace(re.compile(r\"[^\\w\\s]\"), \"\")\n",
    "train.loc[train['name_1_filtered'].isnull(),['name_1_filtered']]=train.name_1.str.lower().replace(re.compile(r\"[^\\w\\s]\"), \"\")"
   ]
  },
  {
   "cell_type": "code",
   "execution_count": 98,
   "metadata": {
    "id": "wiqrxkKSa1Ti"
   },
   "outputs": [],
   "source": [
    "train['cosine']=train.apply(lambda r: cosine(ft.get_sentence_vector(str(r.name_1_filtered)),ft.get_sentence_vector(str(r.name_2_filtered))), axis=1)"
   ]
  },
  {
   "cell_type": "code",
   "execution_count": 99,
   "metadata": {
    "id": "-uWeTkkAfocs"
   },
   "outputs": [],
   "source": [
    "train['cityblock']=train.apply(lambda r: cityblock(ft.get_sentence_vector(str(r.name_1_filtered)),ft.get_sentence_vector(str(r.name_2_filtered))), axis=1)"
   ]
  },
  {
   "cell_type": "code",
   "execution_count": 100,
   "metadata": {
    "id": "rwymZADHfvsa"
   },
   "outputs": [],
   "source": [
    "train['jaccard']=train.apply(lambda r: jaccard(ft.get_sentence_vector(str(r.name_1_filtered)),ft.get_sentence_vector(str(r.name_2_filtered))), axis=1)"
   ]
  },
  {
   "cell_type": "code",
   "execution_count": 101,
   "metadata": {
    "id": "_5H53usJf3vi"
   },
   "outputs": [],
   "source": [
    "train['canberra']=train.apply(lambda r: canberra(ft.get_sentence_vector(str(r.name_1_filtered)),ft.get_sentence_vector(str(r.name_2_filtered))), axis=1)"
   ]
  },
  {
   "cell_type": "code",
   "execution_count": 102,
   "metadata": {
    "id": "MyoMTUJSgcjW"
   },
   "outputs": [],
   "source": [
    "train['minkowski']=train.apply(lambda r: minkowski(ft.get_sentence_vector(str(r.name_1_filtered)),ft.get_sentence_vector(str(r.name_2_filtered))), axis=1)"
   ]
  },
  {
   "cell_type": "code",
   "execution_count": 103,
   "metadata": {
    "id": "Q0i0Jv_ZgoeX"
   },
   "outputs": [],
   "source": [
    "train['braycurtis']=train.apply(lambda r: braycurtis(ft.get_sentence_vector(str(r.name_1_filtered)),ft.get_sentence_vector(str(r.name_2_filtered))), axis=1)"
   ]
  },
  {
   "cell_type": "code",
   "execution_count": 106,
   "metadata": {
    "id": "mJcA1fgycw0f"
   },
   "outputs": [],
   "source": [
    "train.to_csv('train_withgpe_distance.csv')"
   ]
  },
  {
   "cell_type": "code",
   "execution_count": 107,
   "metadata": {
    "colab": {
     "base_uri": "https://localhost:8080/",
     "height": 518
    },
    "id": "i4i5QJD4pJCw",
    "outputId": "24504ec2-b002-465d-ddb7-9179316c768a"
   },
   "outputs": [
    {
     "data": {
      "text/html": [
       "<div>\n",
       "<style scoped>\n",
       "    .dataframe tbody tr th:only-of-type {\n",
       "        vertical-align: middle;\n",
       "    }\n",
       "\n",
       "    .dataframe tbody tr th {\n",
       "        vertical-align: top;\n",
       "    }\n",
       "\n",
       "    .dataframe thead th {\n",
       "        text-align: right;\n",
       "    }\n",
       "</style>\n",
       "<table border=\"1\" class=\"dataframe\">\n",
       "  <thead>\n",
       "    <tr style=\"text-align: right;\">\n",
       "      <th></th>\n",
       "      <th>name_1</th>\n",
       "      <th>name_2</th>\n",
       "      <th>is_duplicate</th>\n",
       "      <th>name_1_filtered</th>\n",
       "      <th>name_2_filtered</th>\n",
       "      <th>cosine</th>\n",
       "      <th>cityblock</th>\n",
       "      <th>jaccard</th>\n",
       "      <th>canberra</th>\n",
       "      <th>minkowski</th>\n",
       "      <th>braycurtis</th>\n",
       "    </tr>\n",
       "    <tr>\n",
       "      <th>pair_id</th>\n",
       "      <th></th>\n",
       "      <th></th>\n",
       "      <th></th>\n",
       "      <th></th>\n",
       "      <th></th>\n",
       "      <th></th>\n",
       "      <th></th>\n",
       "      <th></th>\n",
       "      <th></th>\n",
       "      <th></th>\n",
       "      <th></th>\n",
       "    </tr>\n",
       "  </thead>\n",
       "  <tbody>\n",
       "    <tr>\n",
       "      <th>162</th>\n",
       "      <td>JX Nippon Oil &amp; Gas Exploration (Brasil) Ltda</td>\n",
       "      <td>JX Nippon Oil &amp; Gas Exploration Technical Serv...</td>\n",
       "      <td>1</td>\n",
       "      <td>jx nippon oil  gas</td>\n",
       "      <td>jx nippon oil  gas   technical</td>\n",
       "      <td>0.066388</td>\n",
       "      <td>3.120984</td>\n",
       "      <td>1.0</td>\n",
       "      <td>100.445810</td>\n",
       "      <td>0.227816</td>\n",
       "      <td>0.197615</td>\n",
       "    </tr>\n",
       "    <tr>\n",
       "      <th>548</th>\n",
       "      <td>The Order</td>\n",
       "      <td>To The Order (Emirates Nbd S.A.E)</td>\n",
       "      <td>0</td>\n",
       "      <td>the order</td>\n",
       "      <td>to the order</td>\n",
       "      <td>0.077218</td>\n",
       "      <td>4.011360</td>\n",
       "      <td>1.0</td>\n",
       "      <td>99.808606</td>\n",
       "      <td>0.312296</td>\n",
       "      <td>0.222131</td>\n",
       "    </tr>\n",
       "    <tr>\n",
       "      <th>759</th>\n",
       "      <td>Customer Code : 24000014</td>\n",
       "      <td>Customer Code : 24000056</td>\n",
       "      <td>0</td>\n",
       "      <td>customer code  24000014</td>\n",
       "      <td>customer code  24000056</td>\n",
       "      <td>0.085318</td>\n",
       "      <td>3.607433</td>\n",
       "      <td>1.0</td>\n",
       "      <td>97.524325</td>\n",
       "      <td>0.263521</td>\n",
       "      <td>0.206194</td>\n",
       "    </tr>\n",
       "    <tr>\n",
       "      <th>836</th>\n",
       "      <td>Brenntag Australia (Pty) Ltd.</td>\n",
       "      <td>Brenntag Group</td>\n",
       "      <td>1</td>\n",
       "      <td>brenntag</td>\n",
       "      <td>brenntag</td>\n",
       "      <td>0.000000</td>\n",
       "      <td>0.000000</td>\n",
       "      <td>0.0</td>\n",
       "      <td>0.000000</td>\n",
       "      <td>0.000000</td>\n",
       "      <td>0.000000</td>\n",
       "    </tr>\n",
       "    <tr>\n",
       "      <th>1110</th>\n",
       "      <td>Consigned To The Order Of Southeast</td>\n",
       "      <td>To The Order Of National Bank</td>\n",
       "      <td>0</td>\n",
       "      <td>consigned to the order of southeast</td>\n",
       "      <td>to the order of national</td>\n",
       "      <td>0.106688</td>\n",
       "      <td>4.011404</td>\n",
       "      <td>1.0</td>\n",
       "      <td>145.635836</td>\n",
       "      <td>0.292275</td>\n",
       "      <td>0.318127</td>\n",
       "    </tr>\n",
       "    <tr>\n",
       "      <th>...</th>\n",
       "      <td>...</td>\n",
       "      <td>...</td>\n",
       "      <td>...</td>\n",
       "      <td>...</td>\n",
       "      <td>...</td>\n",
       "      <td>...</td>\n",
       "      <td>...</td>\n",
       "      <td>...</td>\n",
       "      <td>...</td>\n",
       "      <td>...</td>\n",
       "      <td>...</td>\n",
       "    </tr>\n",
       "    <tr>\n",
       "      <th>496371</th>\n",
       "      <td>Ic Servicios Logisticos Sac</td>\n",
       "      <td>Industrias En Servicios Plasticos</td>\n",
       "      <td>0</td>\n",
       "      <td>ic servicios logisticos</td>\n",
       "      <td>servicios plasticos</td>\n",
       "      <td>0.191634</td>\n",
       "      <td>6.172365</td>\n",
       "      <td>1.0</td>\n",
       "      <td>137.741204</td>\n",
       "      <td>0.441056</td>\n",
       "      <td>0.347786</td>\n",
       "    </tr>\n",
       "    <tr>\n",
       "      <th>496469</th>\n",
       "      <td>Quimica Comercial S.A.</td>\n",
       "      <td>Delquimica Comercial Ltda</td>\n",
       "      <td>0</td>\n",
       "      <td>quimica comercial</td>\n",
       "      <td>delquimica comercial</td>\n",
       "      <td>0.126404</td>\n",
       "      <td>5.267496</td>\n",
       "      <td>1.0</td>\n",
       "      <td>118.770284</td>\n",
       "      <td>0.378852</td>\n",
       "      <td>0.261626</td>\n",
       "    </tr>\n",
       "    <tr>\n",
       "      <th>496761</th>\n",
       "      <td>Arlanxeo International Group</td>\n",
       "      <td>Arlanxeo Corp.</td>\n",
       "      <td>1</td>\n",
       "      <td>arlanxeo</td>\n",
       "      <td>arlanxeo</td>\n",
       "      <td>0.000000</td>\n",
       "      <td>0.000000</td>\n",
       "      <td>0.0</td>\n",
       "      <td>0.000000</td>\n",
       "      <td>0.000000</td>\n",
       "      <td>0.000000</td>\n",
       "    </tr>\n",
       "    <tr>\n",
       "      <th>496781</th>\n",
       "      <td>Steve Madden Canada</td>\n",
       "      <td>M4 Steve Madden Ltd.</td>\n",
       "      <td>0</td>\n",
       "      <td>steve madden</td>\n",
       "      <td>m4 steve madden</td>\n",
       "      <td>0.102991</td>\n",
       "      <td>4.866765</td>\n",
       "      <td>1.0</td>\n",
       "      <td>112.641665</td>\n",
       "      <td>0.371939</td>\n",
       "      <td>0.240549</td>\n",
       "    </tr>\n",
       "    <tr>\n",
       "      <th>497176</th>\n",
       "      <td>Ctbc Bank Co., Ltd. Ho Chi Minh City</td>\n",
       "      <td>Ctbc Bank Co., Ltd. Ho Chi Minh City B</td>\n",
       "      <td>0</td>\n",
       "      <td>ctbc       ho chi minh city</td>\n",
       "      <td>ctbc       ho chi minh city b</td>\n",
       "      <td>0.041308</td>\n",
       "      <td>2.371189</td>\n",
       "      <td>1.0</td>\n",
       "      <td>89.175103</td>\n",
       "      <td>0.174208</td>\n",
       "      <td>0.160893</td>\n",
       "    </tr>\n",
       "  </tbody>\n",
       "</table>\n",
       "<p>2412 rows × 11 columns</p>\n",
       "</div>"
      ],
      "text/plain": [
       "                                                name_1  ... braycurtis\n",
       "pair_id                                                 ...           \n",
       "162      JX Nippon Oil & Gas Exploration (Brasil) Ltda  ...   0.197615\n",
       "548                                          The Order  ...   0.222131\n",
       "759                           Customer Code : 24000014  ...   0.206194\n",
       "836                      Brenntag Australia (Pty) Ltd.  ...   0.000000\n",
       "1110               Consigned To The Order Of Southeast  ...   0.318127\n",
       "...                                                ...  ...        ...\n",
       "496371                     Ic Servicios Logisticos Sac  ...   0.347786\n",
       "496469                          Quimica Comercial S.A.  ...   0.261626\n",
       "496761                    Arlanxeo International Group  ...   0.000000\n",
       "496781                             Steve Madden Canada  ...   0.240549\n",
       "497176            Ctbc Bank Co., Ltd. Ho Chi Minh City  ...   0.160893\n",
       "\n",
       "[2412 rows x 11 columns]"
      ]
     },
     "execution_count": 107,
     "metadata": {
      "tags": []
     },
     "output_type": "execute_result"
    }
   ],
   "source": [
    "train[train.cosine<0.2]"
   ]
  },
  {
   "cell_type": "code",
   "execution_count": 108,
   "metadata": {
    "id": "M07EiwhwENp4"
   },
   "outputs": [],
   "source": [
    "test=pd.read_csv('test_filtered.csv', index_col=0)"
   ]
  },
  {
   "cell_type": "code",
   "execution_count": 111,
   "metadata": {
    "id": "9lZiGVODEawI"
   },
   "outputs": [],
   "source": [
    "test['cosine']=test.apply(lambda r: cosine(ft.get_sentence_vector(str(r.name_1_filtered)),ft.get_sentence_vector(str(r.name_2_filtered))), axis=1)"
   ]
  },
  {
   "cell_type": "code",
   "execution_count": 112,
   "metadata": {
    "id": "1HWkw3k5EawQ"
   },
   "outputs": [],
   "source": [
    "test['cityblock']=test.apply(lambda r: cityblock(ft.get_sentence_vector(str(r.name_1_filtered)),ft.get_sentence_vector(str(r.name_2_filtered))), axis=1)"
   ]
  },
  {
   "cell_type": "code",
   "execution_count": 113,
   "metadata": {
    "id": "6EyC1hYIEawR"
   },
   "outputs": [],
   "source": [
    "test['jaccard']=test.apply(lambda r: jaccard(ft.get_sentence_vector(str(r.name_1_filtered)),ft.get_sentence_vector(str(r.name_2_filtered))), axis=1)"
   ]
  },
  {
   "cell_type": "code",
   "execution_count": 114,
   "metadata": {
    "id": "GIBNYqMAEawR"
   },
   "outputs": [],
   "source": [
    "test['canberra']=test.apply(lambda r: canberra(ft.get_sentence_vector(str(r.name_1_filtered)),ft.get_sentence_vector(str(r.name_2_filtered))), axis=1)"
   ]
  },
  {
   "cell_type": "code",
   "execution_count": 115,
   "metadata": {
    "id": "y4v1YKDUEawR"
   },
   "outputs": [],
   "source": [
    "test['minkowski']=test.apply(lambda r: minkowski(ft.get_sentence_vector(str(r.name_1_filtered)),ft.get_sentence_vector(str(r.name_2_filtered))), axis=1)"
   ]
  },
  {
   "cell_type": "code",
   "execution_count": 116,
   "metadata": {
    "id": "nLg_G2n4EawS"
   },
   "outputs": [],
   "source": [
    "test['braycurtis']=test.apply(lambda r: braycurtis(ft.get_sentence_vector(str(r.name_1_filtered)),ft.get_sentence_vector(str(r.name_2_filtered))), axis=1)"
   ]
  },
  {
   "cell_type": "code",
   "execution_count": 119,
   "metadata": {
    "id": "KAVlUAjpEl2I"
   },
   "outputs": [],
   "source": [
    "test.to_csv('test_distance.csv')"
   ]
  }
 ],
 "metadata": {
  "colab": {
   "name": "embedings.ipynb",
   "provenance": []
  },
  "kernelspec": {
   "display_name": "Python 3",
   "language": "python",
   "name": "python3"
  },
  "language_info": {
   "codemirror_mode": {
    "name": "ipython",
    "version": 3
   },
   "file_extension": ".py",
   "mimetype": "text/x-python",
   "name": "python",
   "nbconvert_exporter": "python",
   "pygments_lexer": "ipython3",
   "version": "3.7.4"
  }
 },
 "nbformat": 4,
 "nbformat_minor": 1
}
