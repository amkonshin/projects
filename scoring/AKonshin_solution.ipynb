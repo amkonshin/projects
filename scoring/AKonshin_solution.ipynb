{
 "cells": [
  {
   "cell_type": "code",
   "execution_count": 1,
   "metadata": {},
   "outputs": [],
   "source": [
    "import pandas as pd\n",
    "import matplotlib.pyplot as plt\n",
    "import matplotlib\n",
    "\n",
    "import random\n",
    "\n",
    "from sklearn.preprocessing import StandardScaler, MinMaxScaler\n",
    "from sklearn.model_selection import train_test_split, ShuffleSplit, cross_val_score, learning_curve\n",
    "from sklearn.model_selection import KFold, GridSearchCV, RandomizedSearchCV\n",
    "from sklearn.metrics import classification_report, f1_score, precision_score, recall_score\n",
    "\n",
    "from sklearn.linear_model import LogisticRegression\n",
    "from sklearn.neighbors import KNeighborsClassifier\n",
    "import lightgbm as lgbm, catboost as catb\n",
    "\n",
    "from sklearn.experimental import enable_iterative_imputer\n",
    "from sklearn.impute import IterativeImputer\n",
    "from sklearn.ensemble import ExtraTreesRegressor\n",
    "from sklearn.linear_model import BayesianRidge\n",
    "from sklearn.tree import DecisionTreeRegressor\n",
    "from sklearn.ensemble import ExtraTreesRegressor\n",
    "from sklearn.neighbors import KNeighborsRegressor\n",
    "\n",
    "from sklearn.preprocessing import StandardScaler, MinMaxScaler\n",
    "from sklearn.model_selection import train_test_split\n",
    "from sklearn.utils import resample\n",
    "\n",
    "\n",
    "import seaborn as sns\n",
    "from matplotlib import pyplot as plt\n",
    "%matplotlib inline\n",
    "import numpy as np"
   ]
  },
  {
   "cell_type": "code",
   "execution_count": 2,
   "metadata": {},
   "outputs": [],
   "source": [
    "pd.set_option('display.float_format', lambda x: '%.2f' % x)"
   ]
  },
  {
   "cell_type": "markdown",
   "metadata": {},
   "source": [
    "**Построение модели классификации**\n",
    "1. Обзор обучающего датасета\n",
    "2. Обработка выбросов\n",
    "3. Обработка пропусков\n",
    "4. Анализ данных\n",
    "5. Отбор признаков\n",
    "6. Балансировка классов\n",
    "7. Подбор моделей, получение бейзлана\n",
    "8. Выбор наилучшей модели, настройка гиперпараметров\n",
    "9. Проверка качества, борьба с переобучением\n",
    "10. Интерпретация результатов\n",
    "\n",
    "**Прогнозирование на тестовом датасете**\n",
    "1. Выполнить для тестового датасета те же этапы обработки и постронияния признаков\n",
    "2. Спрогнозировать целевую переменную, используя модель, построенную на обучающем датасете\n",
    "3. Прогнозы должны быть для всех примеров из тестового датасета (для всех строк)\n",
    "4. Соблюдать исходный порядок примеров из тестового датасета"
   ]
  },
  {
   "cell_type": "markdown",
   "metadata": {},
   "source": [
    "**Описание датасета**\n",
    "\n",
    "* **Home Ownership** - домовладение\n",
    "* **Annual Income** - годовой доход\n",
    "* **Years in current job** - количество лет на текущем месте работы\n",
    "* **Tax Liens** - налоговые обременения\n",
    "* **Number of Open Accounts** - количество открытых счетов\n",
    "* **Years of Credit History** - количество лет кредитной истории\n",
    "* **Maximum Open Credit** - наибольший открытый кредит\n",
    "* **Number of Credit Problems** - количество проблем с кредитом\n",
    "* **Months since last delinquent** - количество месяцев с последней просрочки платежа\n",
    "* **Bankruptcies** - банкротства\n",
    "* **Purpose** - цель кредита\n",
    "* **Term** - срок кредита\n",
    "* **Current Loan Amount** - текущая сумма кредита\n",
    "* **Current Credit Balance** - текущий кредитный баланс\n",
    "* **Monthly Debt** - ежемесячный долг\n",
    "* **Credit Default** - факт невыполнения кредитных обязательств (0 - погашен вовремя, 1 - просрочка)"
   ]
  },
  {
   "cell_type": "code",
   "execution_count": 3,
   "metadata": {},
   "outputs": [],
   "source": [
    "train=pd.read_csv('course_project_train.csv')\n",
    "test=pd.read_csv('course_project_test.csv')"
   ]
  },
  {
   "cell_type": "code",
   "execution_count": 4,
   "metadata": {},
   "outputs": [
    {
     "data": {
      "text/html": [
       "<div>\n",
       "<style scoped>\n",
       "    .dataframe tbody tr th:only-of-type {\n",
       "        vertical-align: middle;\n",
       "    }\n",
       "\n",
       "    .dataframe tbody tr th {\n",
       "        vertical-align: top;\n",
       "    }\n",
       "\n",
       "    .dataframe thead th {\n",
       "        text-align: right;\n",
       "    }\n",
       "</style>\n",
       "<table border=\"1\" class=\"dataframe\">\n",
       "  <thead>\n",
       "    <tr style=\"text-align: right;\">\n",
       "      <th></th>\n",
       "      <th>Home Ownership</th>\n",
       "      <th>Annual Income</th>\n",
       "      <th>Years in current job</th>\n",
       "      <th>Tax Liens</th>\n",
       "      <th>Number of Open Accounts</th>\n",
       "      <th>Years of Credit History</th>\n",
       "      <th>Maximum Open Credit</th>\n",
       "      <th>Number of Credit Problems</th>\n",
       "      <th>Months since last delinquent</th>\n",
       "      <th>Bankruptcies</th>\n",
       "      <th>Purpose</th>\n",
       "      <th>Term</th>\n",
       "      <th>Current Loan Amount</th>\n",
       "      <th>Current Credit Balance</th>\n",
       "      <th>Monthly Debt</th>\n",
       "      <th>Credit Score</th>\n",
       "      <th>Credit Default</th>\n",
       "    </tr>\n",
       "  </thead>\n",
       "  <tbody>\n",
       "    <tr>\n",
       "      <th>0</th>\n",
       "      <td>Own Home</td>\n",
       "      <td>482087.00</td>\n",
       "      <td>NaN</td>\n",
       "      <td>0.00</td>\n",
       "      <td>11.00</td>\n",
       "      <td>26.30</td>\n",
       "      <td>685960.00</td>\n",
       "      <td>1.00</td>\n",
       "      <td>nan</td>\n",
       "      <td>1.00</td>\n",
       "      <td>debt consolidation</td>\n",
       "      <td>Short Term</td>\n",
       "      <td>99999999.00</td>\n",
       "      <td>47386.00</td>\n",
       "      <td>7914.00</td>\n",
       "      <td>749.00</td>\n",
       "      <td>0</td>\n",
       "    </tr>\n",
       "    <tr>\n",
       "      <th>1</th>\n",
       "      <td>Own Home</td>\n",
       "      <td>1025487.00</td>\n",
       "      <td>10+ years</td>\n",
       "      <td>0.00</td>\n",
       "      <td>15.00</td>\n",
       "      <td>15.30</td>\n",
       "      <td>1181730.00</td>\n",
       "      <td>0.00</td>\n",
       "      <td>nan</td>\n",
       "      <td>0.00</td>\n",
       "      <td>debt consolidation</td>\n",
       "      <td>Long Term</td>\n",
       "      <td>264968.00</td>\n",
       "      <td>394972.00</td>\n",
       "      <td>18373.00</td>\n",
       "      <td>737.00</td>\n",
       "      <td>1</td>\n",
       "    </tr>\n",
       "    <tr>\n",
       "      <th>2</th>\n",
       "      <td>Home Mortgage</td>\n",
       "      <td>751412.00</td>\n",
       "      <td>8 years</td>\n",
       "      <td>0.00</td>\n",
       "      <td>11.00</td>\n",
       "      <td>35.00</td>\n",
       "      <td>1182434.00</td>\n",
       "      <td>0.00</td>\n",
       "      <td>nan</td>\n",
       "      <td>0.00</td>\n",
       "      <td>debt consolidation</td>\n",
       "      <td>Short Term</td>\n",
       "      <td>99999999.00</td>\n",
       "      <td>308389.00</td>\n",
       "      <td>13651.00</td>\n",
       "      <td>742.00</td>\n",
       "      <td>0</td>\n",
       "    </tr>\n",
       "    <tr>\n",
       "      <th>3</th>\n",
       "      <td>Own Home</td>\n",
       "      <td>805068.00</td>\n",
       "      <td>6 years</td>\n",
       "      <td>0.00</td>\n",
       "      <td>8.00</td>\n",
       "      <td>22.50</td>\n",
       "      <td>147400.00</td>\n",
       "      <td>1.00</td>\n",
       "      <td>nan</td>\n",
       "      <td>1.00</td>\n",
       "      <td>debt consolidation</td>\n",
       "      <td>Short Term</td>\n",
       "      <td>121396.00</td>\n",
       "      <td>95855.00</td>\n",
       "      <td>11338.00</td>\n",
       "      <td>694.00</td>\n",
       "      <td>0</td>\n",
       "    </tr>\n",
       "    <tr>\n",
       "      <th>4</th>\n",
       "      <td>Rent</td>\n",
       "      <td>776264.00</td>\n",
       "      <td>8 years</td>\n",
       "      <td>0.00</td>\n",
       "      <td>13.00</td>\n",
       "      <td>13.60</td>\n",
       "      <td>385836.00</td>\n",
       "      <td>1.00</td>\n",
       "      <td>nan</td>\n",
       "      <td>0.00</td>\n",
       "      <td>debt consolidation</td>\n",
       "      <td>Short Term</td>\n",
       "      <td>125840.00</td>\n",
       "      <td>93309.00</td>\n",
       "      <td>7180.00</td>\n",
       "      <td>719.00</td>\n",
       "      <td>0</td>\n",
       "    </tr>\n",
       "  </tbody>\n",
       "</table>\n",
       "</div>"
      ],
      "text/plain": [
       "  Home Ownership  Annual Income Years in current job  Tax Liens  \\\n",
       "0       Own Home      482087.00                  NaN       0.00   \n",
       "1       Own Home     1025487.00            10+ years       0.00   \n",
       "2  Home Mortgage      751412.00              8 years       0.00   \n",
       "3       Own Home      805068.00              6 years       0.00   \n",
       "4           Rent      776264.00              8 years       0.00   \n",
       "\n",
       "   Number of Open Accounts  Years of Credit History  Maximum Open Credit  \\\n",
       "0                    11.00                    26.30            685960.00   \n",
       "1                    15.00                    15.30           1181730.00   \n",
       "2                    11.00                    35.00           1182434.00   \n",
       "3                     8.00                    22.50            147400.00   \n",
       "4                    13.00                    13.60            385836.00   \n",
       "\n",
       "   Number of Credit Problems  Months since last delinquent  Bankruptcies  \\\n",
       "0                       1.00                           nan          1.00   \n",
       "1                       0.00                           nan          0.00   \n",
       "2                       0.00                           nan          0.00   \n",
       "3                       1.00                           nan          1.00   \n",
       "4                       1.00                           nan          0.00   \n",
       "\n",
       "              Purpose        Term  Current Loan Amount  \\\n",
       "0  debt consolidation  Short Term          99999999.00   \n",
       "1  debt consolidation   Long Term            264968.00   \n",
       "2  debt consolidation  Short Term          99999999.00   \n",
       "3  debt consolidation  Short Term            121396.00   \n",
       "4  debt consolidation  Short Term            125840.00   \n",
       "\n",
       "   Current Credit Balance  Monthly Debt  Credit Score  Credit Default  \n",
       "0                47386.00       7914.00        749.00               0  \n",
       "1               394972.00      18373.00        737.00               1  \n",
       "2               308389.00      13651.00        742.00               0  \n",
       "3                95855.00      11338.00        694.00               0  \n",
       "4                93309.00       7180.00        719.00               0  "
      ]
     },
     "execution_count": 4,
     "metadata": {},
     "output_type": "execute_result"
    }
   ],
   "source": [
    "train.head()"
   ]
  },
  {
   "cell_type": "code",
   "execution_count": 5,
   "metadata": {},
   "outputs": [
    {
     "data": {
      "text/html": [
       "<div>\n",
       "<style scoped>\n",
       "    .dataframe tbody tr th:only-of-type {\n",
       "        vertical-align: middle;\n",
       "    }\n",
       "\n",
       "    .dataframe tbody tr th {\n",
       "        vertical-align: top;\n",
       "    }\n",
       "\n",
       "    .dataframe thead th {\n",
       "        text-align: right;\n",
       "    }\n",
       "</style>\n",
       "<table border=\"1\" class=\"dataframe\">\n",
       "  <thead>\n",
       "    <tr style=\"text-align: right;\">\n",
       "      <th></th>\n",
       "      <th>Home Ownership</th>\n",
       "      <th>Annual Income</th>\n",
       "      <th>Years in current job</th>\n",
       "      <th>Tax Liens</th>\n",
       "      <th>Number of Open Accounts</th>\n",
       "      <th>Years of Credit History</th>\n",
       "      <th>Maximum Open Credit</th>\n",
       "      <th>Number of Credit Problems</th>\n",
       "      <th>Months since last delinquent</th>\n",
       "      <th>Bankruptcies</th>\n",
       "      <th>Purpose</th>\n",
       "      <th>Term</th>\n",
       "      <th>Current Loan Amount</th>\n",
       "      <th>Current Credit Balance</th>\n",
       "      <th>Monthly Debt</th>\n",
       "      <th>Credit Score</th>\n",
       "    </tr>\n",
       "  </thead>\n",
       "  <tbody>\n",
       "    <tr>\n",
       "      <th>0</th>\n",
       "      <td>Rent</td>\n",
       "      <td>nan</td>\n",
       "      <td>4 years</td>\n",
       "      <td>0.00</td>\n",
       "      <td>9.00</td>\n",
       "      <td>12.50</td>\n",
       "      <td>220968.00</td>\n",
       "      <td>0.00</td>\n",
       "      <td>70.00</td>\n",
       "      <td>0.00</td>\n",
       "      <td>debt consolidation</td>\n",
       "      <td>Short Term</td>\n",
       "      <td>162470.00</td>\n",
       "      <td>105906.00</td>\n",
       "      <td>6813.00</td>\n",
       "      <td>nan</td>\n",
       "    </tr>\n",
       "    <tr>\n",
       "      <th>1</th>\n",
       "      <td>Rent</td>\n",
       "      <td>231838.00</td>\n",
       "      <td>1 year</td>\n",
       "      <td>0.00</td>\n",
       "      <td>6.00</td>\n",
       "      <td>32.70</td>\n",
       "      <td>55946.00</td>\n",
       "      <td>0.00</td>\n",
       "      <td>8.00</td>\n",
       "      <td>0.00</td>\n",
       "      <td>educational expenses</td>\n",
       "      <td>Short Term</td>\n",
       "      <td>78298.00</td>\n",
       "      <td>46037.00</td>\n",
       "      <td>2318.00</td>\n",
       "      <td>699.00</td>\n",
       "    </tr>\n",
       "    <tr>\n",
       "      <th>2</th>\n",
       "      <td>Home Mortgage</td>\n",
       "      <td>1152540.00</td>\n",
       "      <td>3 years</td>\n",
       "      <td>0.00</td>\n",
       "      <td>10.00</td>\n",
       "      <td>13.70</td>\n",
       "      <td>204600.00</td>\n",
       "      <td>0.00</td>\n",
       "      <td>nan</td>\n",
       "      <td>0.00</td>\n",
       "      <td>debt consolidation</td>\n",
       "      <td>Short Term</td>\n",
       "      <td>200178.00</td>\n",
       "      <td>146490.00</td>\n",
       "      <td>18729.00</td>\n",
       "      <td>7260.00</td>\n",
       "    </tr>\n",
       "    <tr>\n",
       "      <th>3</th>\n",
       "      <td>Home Mortgage</td>\n",
       "      <td>1220313.00</td>\n",
       "      <td>10+ years</td>\n",
       "      <td>0.00</td>\n",
       "      <td>16.00</td>\n",
       "      <td>17.00</td>\n",
       "      <td>456302.00</td>\n",
       "      <td>0.00</td>\n",
       "      <td>70.00</td>\n",
       "      <td>0.00</td>\n",
       "      <td>debt consolidation</td>\n",
       "      <td>Short Term</td>\n",
       "      <td>217382.00</td>\n",
       "      <td>213199.00</td>\n",
       "      <td>27559.00</td>\n",
       "      <td>739.00</td>\n",
       "    </tr>\n",
       "    <tr>\n",
       "      <th>4</th>\n",
       "      <td>Home Mortgage</td>\n",
       "      <td>2340952.00</td>\n",
       "      <td>6 years</td>\n",
       "      <td>0.00</td>\n",
       "      <td>11.00</td>\n",
       "      <td>23.60</td>\n",
       "      <td>1207272.00</td>\n",
       "      <td>0.00</td>\n",
       "      <td>nan</td>\n",
       "      <td>0.00</td>\n",
       "      <td>debt consolidation</td>\n",
       "      <td>Long Term</td>\n",
       "      <td>777634.00</td>\n",
       "      <td>425391.00</td>\n",
       "      <td>42605.00</td>\n",
       "      <td>706.00</td>\n",
       "    </tr>\n",
       "  </tbody>\n",
       "</table>\n",
       "</div>"
      ],
      "text/plain": [
       "  Home Ownership  Annual Income Years in current job  Tax Liens  \\\n",
       "0           Rent            nan              4 years       0.00   \n",
       "1           Rent      231838.00               1 year       0.00   \n",
       "2  Home Mortgage     1152540.00              3 years       0.00   \n",
       "3  Home Mortgage     1220313.00            10+ years       0.00   \n",
       "4  Home Mortgage     2340952.00              6 years       0.00   \n",
       "\n",
       "   Number of Open Accounts  Years of Credit History  Maximum Open Credit  \\\n",
       "0                     9.00                    12.50            220968.00   \n",
       "1                     6.00                    32.70             55946.00   \n",
       "2                    10.00                    13.70            204600.00   \n",
       "3                    16.00                    17.00            456302.00   \n",
       "4                    11.00                    23.60           1207272.00   \n",
       "\n",
       "   Number of Credit Problems  Months since last delinquent  Bankruptcies  \\\n",
       "0                       0.00                         70.00          0.00   \n",
       "1                       0.00                          8.00          0.00   \n",
       "2                       0.00                           nan          0.00   \n",
       "3                       0.00                         70.00          0.00   \n",
       "4                       0.00                           nan          0.00   \n",
       "\n",
       "                Purpose        Term  Current Loan Amount  \\\n",
       "0    debt consolidation  Short Term            162470.00   \n",
       "1  educational expenses  Short Term             78298.00   \n",
       "2    debt consolidation  Short Term            200178.00   \n",
       "3    debt consolidation  Short Term            217382.00   \n",
       "4    debt consolidation   Long Term            777634.00   \n",
       "\n",
       "   Current Credit Balance  Monthly Debt  Credit Score  \n",
       "0               105906.00       6813.00           nan  \n",
       "1                46037.00       2318.00        699.00  \n",
       "2               146490.00      18729.00       7260.00  \n",
       "3               213199.00      27559.00        739.00  \n",
       "4               425391.00      42605.00        706.00  "
      ]
     },
     "execution_count": 5,
     "metadata": {},
     "output_type": "execute_result"
    }
   ],
   "source": [
    "test.head()"
   ]
  },
  {
   "cell_type": "code",
   "execution_count": 6,
   "metadata": {},
   "outputs": [
    {
     "data": {
      "text/html": [
       "<div>\n",
       "<style scoped>\n",
       "    .dataframe tbody tr th:only-of-type {\n",
       "        vertical-align: middle;\n",
       "    }\n",
       "\n",
       "    .dataframe tbody tr th {\n",
       "        vertical-align: top;\n",
       "    }\n",
       "\n",
       "    .dataframe thead th {\n",
       "        text-align: right;\n",
       "    }\n",
       "</style>\n",
       "<table border=\"1\" class=\"dataframe\">\n",
       "  <thead>\n",
       "    <tr style=\"text-align: right;\">\n",
       "      <th></th>\n",
       "      <th>Annual Income</th>\n",
       "      <th>Tax Liens</th>\n",
       "      <th>Number of Open Accounts</th>\n",
       "      <th>Years of Credit History</th>\n",
       "      <th>Maximum Open Credit</th>\n",
       "      <th>Number of Credit Problems</th>\n",
       "      <th>Months since last delinquent</th>\n",
       "      <th>Bankruptcies</th>\n",
       "      <th>Current Loan Amount</th>\n",
       "      <th>Current Credit Balance</th>\n",
       "      <th>Monthly Debt</th>\n",
       "      <th>Credit Score</th>\n",
       "      <th>Credit Default</th>\n",
       "    </tr>\n",
       "  </thead>\n",
       "  <tbody>\n",
       "    <tr>\n",
       "      <th>count</th>\n",
       "      <td>5943.00</td>\n",
       "      <td>7500.00</td>\n",
       "      <td>7500.00</td>\n",
       "      <td>7500.00</td>\n",
       "      <td>7500.00</td>\n",
       "      <td>7500.00</td>\n",
       "      <td>3419.00</td>\n",
       "      <td>7486.00</td>\n",
       "      <td>7500.00</td>\n",
       "      <td>7500.00</td>\n",
       "      <td>7500.00</td>\n",
       "      <td>5943.00</td>\n",
       "      <td>7500.00</td>\n",
       "    </tr>\n",
       "    <tr>\n",
       "      <th>mean</th>\n",
       "      <td>1366391.72</td>\n",
       "      <td>0.03</td>\n",
       "      <td>11.13</td>\n",
       "      <td>18.32</td>\n",
       "      <td>945153.73</td>\n",
       "      <td>0.17</td>\n",
       "      <td>34.69</td>\n",
       "      <td>0.12</td>\n",
       "      <td>11873177.45</td>\n",
       "      <td>289833.24</td>\n",
       "      <td>18314.45</td>\n",
       "      <td>1151.09</td>\n",
       "      <td>0.28</td>\n",
       "    </tr>\n",
       "    <tr>\n",
       "      <th>std</th>\n",
       "      <td>845339.20</td>\n",
       "      <td>0.27</td>\n",
       "      <td>4.91</td>\n",
       "      <td>7.04</td>\n",
       "      <td>16026216.67</td>\n",
       "      <td>0.50</td>\n",
       "      <td>21.69</td>\n",
       "      <td>0.35</td>\n",
       "      <td>31926122.97</td>\n",
       "      <td>317871.38</td>\n",
       "      <td>11926.76</td>\n",
       "      <td>1604.45</td>\n",
       "      <td>0.45</td>\n",
       "    </tr>\n",
       "    <tr>\n",
       "      <th>min</th>\n",
       "      <td>164597.00</td>\n",
       "      <td>0.00</td>\n",
       "      <td>2.00</td>\n",
       "      <td>4.00</td>\n",
       "      <td>0.00</td>\n",
       "      <td>0.00</td>\n",
       "      <td>0.00</td>\n",
       "      <td>0.00</td>\n",
       "      <td>11242.00</td>\n",
       "      <td>0.00</td>\n",
       "      <td>0.00</td>\n",
       "      <td>585.00</td>\n",
       "      <td>0.00</td>\n",
       "    </tr>\n",
       "    <tr>\n",
       "      <th>25%</th>\n",
       "      <td>844341.00</td>\n",
       "      <td>0.00</td>\n",
       "      <td>8.00</td>\n",
       "      <td>13.50</td>\n",
       "      <td>279229.50</td>\n",
       "      <td>0.00</td>\n",
       "      <td>16.00</td>\n",
       "      <td>0.00</td>\n",
       "      <td>180169.00</td>\n",
       "      <td>114256.50</td>\n",
       "      <td>10067.50</td>\n",
       "      <td>711.00</td>\n",
       "      <td>0.00</td>\n",
       "    </tr>\n",
       "    <tr>\n",
       "      <th>50%</th>\n",
       "      <td>1168386.00</td>\n",
       "      <td>0.00</td>\n",
       "      <td>10.00</td>\n",
       "      <td>17.00</td>\n",
       "      <td>478159.00</td>\n",
       "      <td>0.00</td>\n",
       "      <td>32.00</td>\n",
       "      <td>0.00</td>\n",
       "      <td>309573.00</td>\n",
       "      <td>209323.00</td>\n",
       "      <td>16076.50</td>\n",
       "      <td>731.00</td>\n",
       "      <td>0.00</td>\n",
       "    </tr>\n",
       "    <tr>\n",
       "      <th>75%</th>\n",
       "      <td>1640137.00</td>\n",
       "      <td>0.00</td>\n",
       "      <td>14.00</td>\n",
       "      <td>21.80</td>\n",
       "      <td>793501.50</td>\n",
       "      <td>0.00</td>\n",
       "      <td>50.00</td>\n",
       "      <td>0.00</td>\n",
       "      <td>519882.00</td>\n",
       "      <td>360406.25</td>\n",
       "      <td>23818.00</td>\n",
       "      <td>743.00</td>\n",
       "      <td>1.00</td>\n",
       "    </tr>\n",
       "    <tr>\n",
       "      <th>max</th>\n",
       "      <td>10149344.00</td>\n",
       "      <td>7.00</td>\n",
       "      <td>43.00</td>\n",
       "      <td>57.70</td>\n",
       "      <td>1304726170.00</td>\n",
       "      <td>7.00</td>\n",
       "      <td>118.00</td>\n",
       "      <td>4.00</td>\n",
       "      <td>99999999.00</td>\n",
       "      <td>6506797.00</td>\n",
       "      <td>136679.00</td>\n",
       "      <td>7510.00</td>\n",
       "      <td>1.00</td>\n",
       "    </tr>\n",
       "  </tbody>\n",
       "</table>\n",
       "</div>"
      ],
      "text/plain": [
       "       Annual Income  Tax Liens  Number of Open Accounts  \\\n",
       "count        5943.00    7500.00                  7500.00   \n",
       "mean      1366391.72       0.03                    11.13   \n",
       "std        845339.20       0.27                     4.91   \n",
       "min        164597.00       0.00                     2.00   \n",
       "25%        844341.00       0.00                     8.00   \n",
       "50%       1168386.00       0.00                    10.00   \n",
       "75%       1640137.00       0.00                    14.00   \n",
       "max      10149344.00       7.00                    43.00   \n",
       "\n",
       "       Years of Credit History  Maximum Open Credit  \\\n",
       "count                  7500.00              7500.00   \n",
       "mean                     18.32            945153.73   \n",
       "std                       7.04          16026216.67   \n",
       "min                       4.00                 0.00   \n",
       "25%                      13.50            279229.50   \n",
       "50%                      17.00            478159.00   \n",
       "75%                      21.80            793501.50   \n",
       "max                      57.70        1304726170.00   \n",
       "\n",
       "       Number of Credit Problems  Months since last delinquent  Bankruptcies  \\\n",
       "count                    7500.00                       3419.00       7486.00   \n",
       "mean                        0.17                         34.69          0.12   \n",
       "std                         0.50                         21.69          0.35   \n",
       "min                         0.00                          0.00          0.00   \n",
       "25%                         0.00                         16.00          0.00   \n",
       "50%                         0.00                         32.00          0.00   \n",
       "75%                         0.00                         50.00          0.00   \n",
       "max                         7.00                        118.00          4.00   \n",
       "\n",
       "       Current Loan Amount  Current Credit Balance  Monthly Debt  \\\n",
       "count              7500.00                 7500.00       7500.00   \n",
       "mean           11873177.45               289833.24      18314.45   \n",
       "std            31926122.97               317871.38      11926.76   \n",
       "min               11242.00                    0.00          0.00   \n",
       "25%              180169.00               114256.50      10067.50   \n",
       "50%              309573.00               209323.00      16076.50   \n",
       "75%              519882.00               360406.25      23818.00   \n",
       "max            99999999.00              6506797.00     136679.00   \n",
       "\n",
       "       Credit Score  Credit Default  \n",
       "count       5943.00         7500.00  \n",
       "mean        1151.09            0.28  \n",
       "std         1604.45            0.45  \n",
       "min          585.00            0.00  \n",
       "25%          711.00            0.00  \n",
       "50%          731.00            0.00  \n",
       "75%          743.00            1.00  \n",
       "max         7510.00            1.00  "
      ]
     },
     "execution_count": 6,
     "metadata": {},
     "output_type": "execute_result"
    }
   ],
   "source": [
    "train.describe()"
   ]
  },
  {
   "cell_type": "code",
   "execution_count": 7,
   "metadata": {},
   "outputs": [
    {
     "data": {
      "text/html": [
       "<div>\n",
       "<style scoped>\n",
       "    .dataframe tbody tr th:only-of-type {\n",
       "        vertical-align: middle;\n",
       "    }\n",
       "\n",
       "    .dataframe tbody tr th {\n",
       "        vertical-align: top;\n",
       "    }\n",
       "\n",
       "    .dataframe thead th {\n",
       "        text-align: right;\n",
       "    }\n",
       "</style>\n",
       "<table border=\"1\" class=\"dataframe\">\n",
       "  <thead>\n",
       "    <tr style=\"text-align: right;\">\n",
       "      <th></th>\n",
       "      <th>Annual Income</th>\n",
       "      <th>Tax Liens</th>\n",
       "      <th>Number of Open Accounts</th>\n",
       "      <th>Years of Credit History</th>\n",
       "      <th>Maximum Open Credit</th>\n",
       "      <th>Number of Credit Problems</th>\n",
       "      <th>Months since last delinquent</th>\n",
       "      <th>Bankruptcies</th>\n",
       "      <th>Current Loan Amount</th>\n",
       "      <th>Current Credit Balance</th>\n",
       "      <th>Monthly Debt</th>\n",
       "      <th>Credit Score</th>\n",
       "    </tr>\n",
       "  </thead>\n",
       "  <tbody>\n",
       "    <tr>\n",
       "      <th>count</th>\n",
       "      <td>1987.00</td>\n",
       "      <td>2500.00</td>\n",
       "      <td>2500.00</td>\n",
       "      <td>2500.00</td>\n",
       "      <td>2500.00</td>\n",
       "      <td>2500.00</td>\n",
       "      <td>1142.00</td>\n",
       "      <td>2497.00</td>\n",
       "      <td>2500.00</td>\n",
       "      <td>2500.00</td>\n",
       "      <td>2500.00</td>\n",
       "      <td>1987.00</td>\n",
       "    </tr>\n",
       "    <tr>\n",
       "      <th>mean</th>\n",
       "      <td>1366921.68</td>\n",
       "      <td>0.04</td>\n",
       "      <td>11.18</td>\n",
       "      <td>18.33</td>\n",
       "      <td>710570.41</td>\n",
       "      <td>0.16</td>\n",
       "      <td>34.18</td>\n",
       "      <td>0.11</td>\n",
       "      <td>12155719.63</td>\n",
       "      <td>296396.65</td>\n",
       "      <td>18271.34</td>\n",
       "      <td>1234.52</td>\n",
       "    </tr>\n",
       "    <tr>\n",
       "      <th>std</th>\n",
       "      <td>917125.15</td>\n",
       "      <td>0.39</td>\n",
       "      <td>4.85</td>\n",
       "      <td>7.25</td>\n",
       "      <td>1511983.48</td>\n",
       "      <td>0.56</td>\n",
       "      <td>22.02</td>\n",
       "      <td>0.36</td>\n",
       "      <td>32260973.72</td>\n",
       "      <td>378301.97</td>\n",
       "      <td>11543.88</td>\n",
       "      <td>1740.22</td>\n",
       "    </tr>\n",
       "    <tr>\n",
       "      <th>min</th>\n",
       "      <td>106533.00</td>\n",
       "      <td>0.00</td>\n",
       "      <td>1.00</td>\n",
       "      <td>3.90</td>\n",
       "      <td>0.00</td>\n",
       "      <td>0.00</td>\n",
       "      <td>0.00</td>\n",
       "      <td>0.00</td>\n",
       "      <td>15422.00</td>\n",
       "      <td>0.00</td>\n",
       "      <td>93.00</td>\n",
       "      <td>585.00</td>\n",
       "    </tr>\n",
       "    <tr>\n",
       "      <th>25%</th>\n",
       "      <td>852311.50</td>\n",
       "      <td>0.00</td>\n",
       "      <td>8.00</td>\n",
       "      <td>13.40</td>\n",
       "      <td>278586.00</td>\n",
       "      <td>0.00</td>\n",
       "      <td>16.00</td>\n",
       "      <td>0.00</td>\n",
       "      <td>187126.50</td>\n",
       "      <td>110114.50</td>\n",
       "      <td>10024.75</td>\n",
       "      <td>710.00</td>\n",
       "    </tr>\n",
       "    <tr>\n",
       "      <th>50%</th>\n",
       "      <td>1178475.00</td>\n",
       "      <td>0.00</td>\n",
       "      <td>10.00</td>\n",
       "      <td>17.00</td>\n",
       "      <td>478676.00</td>\n",
       "      <td>0.00</td>\n",
       "      <td>30.00</td>\n",
       "      <td>0.00</td>\n",
       "      <td>322366.00</td>\n",
       "      <td>207385.00</td>\n",
       "      <td>16642.50</td>\n",
       "      <td>731.00</td>\n",
       "    </tr>\n",
       "    <tr>\n",
       "      <th>75%</th>\n",
       "      <td>1629734.50</td>\n",
       "      <td>0.00</td>\n",
       "      <td>14.00</td>\n",
       "      <td>22.10</td>\n",
       "      <td>802598.50</td>\n",
       "      <td>0.00</td>\n",
       "      <td>50.00</td>\n",
       "      <td>0.00</td>\n",
       "      <td>522582.50</td>\n",
       "      <td>366348.50</td>\n",
       "      <td>24146.00</td>\n",
       "      <td>743.00</td>\n",
       "    </tr>\n",
       "    <tr>\n",
       "      <th>max</th>\n",
       "      <td>14975610.00</td>\n",
       "      <td>15.00</td>\n",
       "      <td>48.00</td>\n",
       "      <td>53.40</td>\n",
       "      <td>54484386.00</td>\n",
       "      <td>15.00</td>\n",
       "      <td>82.00</td>\n",
       "      <td>5.00</td>\n",
       "      <td>99999999.00</td>\n",
       "      <td>6030087.00</td>\n",
       "      <td>93555.00</td>\n",
       "      <td>7480.00</td>\n",
       "    </tr>\n",
       "  </tbody>\n",
       "</table>\n",
       "</div>"
      ],
      "text/plain": [
       "       Annual Income  Tax Liens  Number of Open Accounts  \\\n",
       "count        1987.00    2500.00                  2500.00   \n",
       "mean      1366921.68       0.04                    11.18   \n",
       "std        917125.15       0.39                     4.85   \n",
       "min        106533.00       0.00                     1.00   \n",
       "25%        852311.50       0.00                     8.00   \n",
       "50%       1178475.00       0.00                    10.00   \n",
       "75%       1629734.50       0.00                    14.00   \n",
       "max      14975610.00      15.00                    48.00   \n",
       "\n",
       "       Years of Credit History  Maximum Open Credit  \\\n",
       "count                  2500.00              2500.00   \n",
       "mean                     18.33            710570.41   \n",
       "std                       7.25           1511983.48   \n",
       "min                       3.90                 0.00   \n",
       "25%                      13.40            278586.00   \n",
       "50%                      17.00            478676.00   \n",
       "75%                      22.10            802598.50   \n",
       "max                      53.40          54484386.00   \n",
       "\n",
       "       Number of Credit Problems  Months since last delinquent  Bankruptcies  \\\n",
       "count                    2500.00                       1142.00       2497.00   \n",
       "mean                        0.16                         34.18          0.11   \n",
       "std                         0.56                         22.02          0.36   \n",
       "min                         0.00                          0.00          0.00   \n",
       "25%                         0.00                         16.00          0.00   \n",
       "50%                         0.00                         30.00          0.00   \n",
       "75%                         0.00                         50.00          0.00   \n",
       "max                        15.00                         82.00          5.00   \n",
       "\n",
       "       Current Loan Amount  Current Credit Balance  Monthly Debt  Credit Score  \n",
       "count              2500.00                 2500.00       2500.00       1987.00  \n",
       "mean           12155719.63               296396.65      18271.34       1234.52  \n",
       "std            32260973.72               378301.97      11543.88       1740.22  \n",
       "min               15422.00                    0.00         93.00        585.00  \n",
       "25%              187126.50               110114.50      10024.75        710.00  \n",
       "50%              322366.00               207385.00      16642.50        731.00  \n",
       "75%              522582.50               366348.50      24146.00        743.00  \n",
       "max            99999999.00              6030087.00      93555.00       7480.00  "
      ]
     },
     "execution_count": 7,
     "metadata": {},
     "output_type": "execute_result"
    }
   ],
   "source": [
    "test.describe()"
   ]
  },
  {
   "cell_type": "markdown",
   "metadata": {},
   "source": [
    "### Обработка признаков"
   ]
  },
  {
   "cell_type": "markdown",
   "metadata": {},
   "source": [
    "#### Home Ownership"
   ]
  },
  {
   "cell_type": "code",
   "execution_count": 8,
   "metadata": {},
   "outputs": [],
   "source": [
    "train.loc[train['Home Ownership']=='Have Mortgage','Home Ownership']='Home Mortgage'"
   ]
  },
  {
   "cell_type": "code",
   "execution_count": 9,
   "metadata": {},
   "outputs": [],
   "source": [
    "test.loc[test['Home Ownership']=='Have Mortgage','Home Ownership']='Home Mortgage'"
   ]
  },
  {
   "cell_type": "markdown",
   "metadata": {},
   "source": [
    "Пропусков нет, необходимо создать dummies."
   ]
  },
  {
   "cell_type": "code",
   "execution_count": 10,
   "metadata": {},
   "outputs": [],
   "source": [
    "\n",
    "train = pd.concat([train, pd.get_dummies(train['Home Ownership'], prefix='Home Ownership')], axis=1)"
   ]
  },
  {
   "cell_type": "code",
   "execution_count": 11,
   "metadata": {},
   "outputs": [],
   "source": [
    "train.drop('Home Ownership', inplace=True, axis=1)"
   ]
  },
  {
   "cell_type": "code",
   "execution_count": 12,
   "metadata": {},
   "outputs": [],
   "source": [
    "\n",
    "test = pd.concat([test, pd.get_dummies(test['Home Ownership'], prefix='Home Ownership')], axis=1)"
   ]
  },
  {
   "cell_type": "code",
   "execution_count": 13,
   "metadata": {},
   "outputs": [],
   "source": [
    "test.drop('Home Ownership', inplace=True, axis=1)"
   ]
  },
  {
   "cell_type": "markdown",
   "metadata": {},
   "source": [
    "#### Years in current job"
   ]
  },
  {
   "cell_type": "markdown",
   "metadata": {},
   "source": [
    "Необходимо преобразовать тип даных и заполнить пропуски."
   ]
  },
  {
   "cell_type": "code",
   "execution_count": 14,
   "metadata": {},
   "outputs": [],
   "source": [
    "years_dict={'10+ years':13,'2 years':2,'3 years':3,\n",
    "            '< 1 year':0.5,'5 years':5, '1 year':1,\n",
    "            '4 years':4,'6 years':6, '7 years':7, \n",
    "            '8 years':8, '9 years':9}"
   ]
  },
  {
   "cell_type": "code",
   "execution_count": 15,
   "metadata": {},
   "outputs": [],
   "source": [
    "for year in years_dict:\n",
    "    train.loc[train['Years in current job']==year, 'Years in current job']=years_dict[year]\n",
    "    test.loc[test['Years in current job']==year, 'Years in current job']=years_dict[year]"
   ]
  },
  {
   "cell_type": "code",
   "execution_count": 16,
   "metadata": {},
   "outputs": [
    {
     "data": {
      "text/plain": [
       "13"
      ]
     },
     "execution_count": 16,
     "metadata": {},
     "output_type": "execute_result"
    }
   ],
   "source": [
    "mean=int(train['Years in current job'].mode())\n",
    "mean"
   ]
  },
  {
   "cell_type": "code",
   "execution_count": 17,
   "metadata": {},
   "outputs": [],
   "source": [
    "train['Years in current job'].fillna(value=mean,inplace=True)\n",
    "test['Years in current job'].fillna(value=mean,inplace=True)"
   ]
  },
  {
   "cell_type": "markdown",
   "metadata": {},
   "source": [
    "#### Tax Liens"
   ]
  },
  {
   "cell_type": "code",
   "execution_count": 18,
   "metadata": {},
   "outputs": [],
   "source": [
    "test.loc[test['Tax Liens']==15, 'Tax Liens']=7"
   ]
  },
  {
   "cell_type": "code",
   "execution_count": null,
   "metadata": {},
   "outputs": [],
   "source": []
  },
  {
   "cell_type": "markdown",
   "metadata": {},
   "source": [
    "#### Number of Open Accounts"
   ]
  },
  {
   "cell_type": "code",
   "execution_count": 19,
   "metadata": {},
   "outputs": [],
   "source": [
    "### Ничего не меняем, данные выглядят нормально. Большие  значения скорее всего не являются выбросами."
   ]
  },
  {
   "cell_type": "markdown",
   "metadata": {},
   "source": [
    "#### Years of Credit History"
   ]
  },
  {
   "cell_type": "code",
   "execution_count": 20,
   "metadata": {},
   "outputs": [],
   "source": [
    "# Пропусков нет, большие значения скорее всего не являются выбросами."
   ]
  },
  {
   "cell_type": "markdown",
   "metadata": {},
   "source": [
    "#### Maximum Open Credit"
   ]
  },
  {
   "cell_type": "code",
   "execution_count": 21,
   "metadata": {},
   "outputs": [],
   "source": [
    "### Необходимо убрать нулевые значения, заменил на сумму текущего кредита, умноженную на коэффициент"
   ]
  },
  {
   "cell_type": "code",
   "execution_count": 22,
   "metadata": {},
   "outputs": [],
   "source": [
    "koef=(train['Maximum Open Credit']/train['Current Loan Amount']).median()\n"
   ]
  },
  {
   "cell_type": "code",
   "execution_count": 23,
   "metadata": {},
   "outputs": [],
   "source": [
    "train.loc[(train['Maximum Open Credit']==0),'Maximum Open Credit']=koef*train['Current Loan Amount']"
   ]
  },
  {
   "cell_type": "code",
   "execution_count": 24,
   "metadata": {},
   "outputs": [],
   "source": [
    "test.loc[(test['Maximum Open Credit']==0),'Maximum Open Credit']=koef*test['Current Loan Amount']"
   ]
  },
  {
   "cell_type": "markdown",
   "metadata": {},
   "source": [
    "#### Number of Credit Problems"
   ]
  },
  {
   "cell_type": "code",
   "execution_count": 25,
   "metadata": {},
   "outputs": [],
   "source": [
    "#### Пропусков нет, максимальные значения либо не являются выбросами, либо не окажут существенного влияния на модель."
   ]
  },
  {
   "cell_type": "markdown",
   "metadata": {},
   "source": [
    "#### Bankruptcies"
   ]
  },
  {
   "cell_type": "code",
   "execution_count": 26,
   "metadata": {},
   "outputs": [],
   "source": [
    "# Пропусков очень мало, просто заполнил их самыми частыми значениями"
   ]
  },
  {
   "cell_type": "code",
   "execution_count": 27,
   "metadata": {},
   "outputs": [],
   "source": [
    "train['Bankruptcies'].fillna(inplace=True, value=0)"
   ]
  },
  {
   "cell_type": "code",
   "execution_count": 28,
   "metadata": {},
   "outputs": [],
   "source": [
    "test['Bankruptcies'].fillna(inplace=True, value=0)"
   ]
  },
  {
   "cell_type": "markdown",
   "metadata": {},
   "source": [
    "#### Months since last delinquent"
   ]
  },
  {
   "cell_type": "markdown",
   "metadata": {},
   "source": [
    "Очень много пропусков. Выявлено две проблемы.\n",
    "1. Очень много пропусков. Заполнить их тяжело, строка слабо коррелирует с похожими показателями. \n",
    "К примеру, отсутствие проблем с кредитом не означает, что у человека не было просроченных платежей. Примерно в 3000 записей с отсутсвием Number of Credit Problems содержат просрочки по Months since last delinquent, что  не позволяет заполнить пропуски, опираясь на Number of Credit Problems. Так же в половине записей с банкротсвами отутствует показатель Months since last delinquent, что очень странно и не позволяет заполнить Months since last delinquent на основании информации о банкротсвах.\n",
    "2. Если допустить, что если значение не указано, то не было просрочки по платежу, то возникат вопрос, чем заполнять пропуски. Ведь значение 0 не будет сответствовать смыслу показателя, ведь чем дольше человек не задерживал свои платежи, тем лучше. ТАким образом, надо придумывать что-то из разряда замены на большое число (200) или на кол-во лет кредитной истории*12 мес.\n",
    "На данном этапе принято решение об удалении данного критерия. \n",
    "Стоит так же попробовать дамми, где будет столбец, отвечающий за отсутствие задолженности, и столбец, отвечающий за ее срок."
   ]
  },
  {
   "cell_type": "markdown",
   "metadata": {},
   "source": [
    "После ряда экспериментов, ввел три признака, которые отвечают за наличие краткосрочной, среднесрочной и долгосрочной просрочки."
   ]
  },
  {
   "cell_type": "code",
   "execution_count": 29,
   "metadata": {},
   "outputs": [],
   "source": [
    "train['Months since last delinquent'].fillna(value=-1, inplace=True)\n",
    "train['Short time delinquent']=0\n",
    "train['Mid time delinquent']=0\n",
    "train['Long time delinquent']=0\n",
    "train.loc[train['Months since last delinquent']>=18,'Long time delinquent']=1\n",
    "train.loc[(train['Months since last delinquent']>=0)&(train['Months since last delinquent']<6),'Short time delinquent']=1\n",
    "train.loc[(train['Months since last delinquent']>=6)&(train['Months since last delinquent']<18),'Mid time delinquent']=1\n",
    "train.drop('Months since last delinquent', inplace=True, axis=1)"
   ]
  },
  {
   "cell_type": "code",
   "execution_count": 30,
   "metadata": {},
   "outputs": [],
   "source": [
    "test['Months since last delinquent'].fillna(value=-1, inplace=True)\n",
    "test['Short time delinquent']=0\n",
    "test['Mid time delinquent']=0\n",
    "test['Long time delinquent']=0\n",
    "test.loc[test['Months since last delinquent']>=18,'Long time delinquent']=1\n",
    "test.loc[(test['Months since last delinquent']>=0)&(test['Months since last delinquent']<6),'Short time delinquent']=1\n",
    "test.loc[(test['Months since last delinquent']>=6)&(test['Months since last delinquent']<18),'Mid time delinquent']=1\n",
    "test.drop('Months since last delinquent', inplace=True, axis=1)\n"
   ]
  },
  {
   "cell_type": "markdown",
   "metadata": {},
   "source": [
    "#### Purpose"
   ]
  },
  {
   "cell_type": "markdown",
   "metadata": {},
   "source": [
    "Уменьшил кол-во категорий, объединив похожие либо отнеся мелкие категории к прочим."
   ]
  },
  {
   "cell_type": "code",
   "execution_count": 31,
   "metadata": {},
   "outputs": [],
   "source": [
    "train.loc[train['Purpose']=='renewable energy','Purpose']='business loan'\n",
    "\n",
    "\n",
    "test.loc[test['Purpose']=='renewable energy','Purpose']='business loan'\n"
   ]
  },
  {
   "cell_type": "code",
   "execution_count": 32,
   "metadata": {},
   "outputs": [],
   "source": [
    "train.loc[train['Purpose']=='buy a car','Purpose']='major purchase'\n",
    "test.loc[test['Purpose']=='buy a car','Purpose']='major purchase'"
   ]
  },
  {
   "cell_type": "code",
   "execution_count": 33,
   "metadata": {},
   "outputs": [],
   "source": [
    "train.loc[train['Purpose']=='buy house','Purpose']='home improvements'\n",
    "test.loc[test['Purpose']=='buy house','Purpose']='home improvements'"
   ]
  },
  {
   "cell_type": "code",
   "execution_count": 34,
   "metadata": {},
   "outputs": [],
   "source": [
    "train.loc[(train['Purpose']=='vacation'),'Purpose']='other'\n",
    "train.loc[(train['Purpose']=='educational expenses'),'Purpose']='other'\n",
    "train.loc[(train['Purpose']=='moving'),'Purpose']='other'\n",
    "train.loc[(train['Purpose']=='wedding'),'Purpose']='other'\n",
    "train.loc[(train['Purpose']=='take a trip'),'Purpose']='other'\n",
    "\n",
    "\n",
    "test.loc[(test['Purpose']=='vacation'),'Purpose']='other'\n",
    "test.loc[(test['Purpose']=='educational expenses'),'Purpose']='other'\n",
    "test.loc[(test['Purpose']=='moving'),'Purpose']='other'\n",
    "test.loc[(test['Purpose']=='wedding'),'Purpose']='other'\n",
    "test.loc[(test['Purpose']=='take a trip'),'Purpose']='other'\n"
   ]
  },
  {
   "cell_type": "markdown",
   "metadata": {},
   "source": [
    "Создал дамми"
   ]
  },
  {
   "cell_type": "code",
   "execution_count": 35,
   "metadata": {},
   "outputs": [],
   "source": [
    "train = pd.concat([train, pd.get_dummies(train['Purpose'], prefix='Purpose')], axis=1)"
   ]
  },
  {
   "cell_type": "code",
   "execution_count": 36,
   "metadata": {},
   "outputs": [],
   "source": [
    "train.drop('Purpose',inplace=True,axis=1)"
   ]
  },
  {
   "cell_type": "code",
   "execution_count": 37,
   "metadata": {},
   "outputs": [],
   "source": [
    "test = pd.concat([test, pd.get_dummies(test['Purpose'], prefix='Purpose')], axis=1)"
   ]
  },
  {
   "cell_type": "code",
   "execution_count": 38,
   "metadata": {},
   "outputs": [],
   "source": [
    "test.drop('Purpose',inplace=True,axis=1)"
   ]
  },
  {
   "cell_type": "markdown",
   "metadata": {},
   "source": [
    "#### Term"
   ]
  },
  {
   "cell_type": "markdown",
   "metadata": {},
   "source": [
    "Преобразуем тип данных"
   ]
  },
  {
   "cell_type": "code",
   "execution_count": 39,
   "metadata": {},
   "outputs": [],
   "source": [
    "train['Term'] = train['Term'].map({'Short Term':'0', 'Long Term':'1'}).astype(int)\n",
    "test['Term'] = test['Term'].map({'Short Term':'0', 'Long Term':'1'}).astype(int)"
   ]
  },
  {
   "cell_type": "markdown",
   "metadata": {},
   "source": [
    "#### Monthly Debt"
   ]
  },
  {
   "cell_type": "code",
   "execution_count": 40,
   "metadata": {},
   "outputs": [],
   "source": [
    "zeros=train[train['Monthly Debt']==0].index"
   ]
  },
  {
   "cell_type": "code",
   "execution_count": 41,
   "metadata": {},
   "outputs": [],
   "source": [
    "train=train.drop(zeros)"
   ]
  },
  {
   "cell_type": "markdown",
   "metadata": {},
   "source": [
    "Удалил строки с нулевыми значениями. Считаю, что это приведет к улудшению модели, так как эти строки были с пустыми значениями и по другим признакам. В остальном данные хорошие, в тестовом датасете нет 0 значений."
   ]
  },
  {
   "cell_type": "markdown",
   "metadata": {},
   "source": [
    "#### Credit Score"
   ]
  },
  {
   "cell_type": "markdown",
   "metadata": {},
   "source": [
    "Скорее всего при заполнении БД были допущены ошибки ввода, и значения кредитного балла 6820.00 скорее всего равняются 682.00 итд."
   ]
  },
  {
   "cell_type": "code",
   "execution_count": 42,
   "metadata": {},
   "outputs": [],
   "source": [
    "train.loc[(train['Credit Score']>1000),'Credit Score']=train['Credit Score']/10"
   ]
  },
  {
   "cell_type": "code",
   "execution_count": 43,
   "metadata": {},
   "outputs": [],
   "source": [
    "test.loc[(test['Credit Score']>1000),'Credit Score']=test['Credit Score']/10"
   ]
  },
  {
   "cell_type": "markdown",
   "metadata": {},
   "source": [
    "#### Current Loan Amount"
   ]
  },
  {
   "cell_type": "markdown",
   "metadata": {},
   "source": [
    "Эксперименты показали, что лучше всего заполнить выбросы средними значениями, чем сделать их пустыми и передать в inputer"
   ]
  },
  {
   "cell_type": "code",
   "execution_count": 44,
   "metadata": {},
   "outputs": [],
   "source": [
    "train.loc[train['Current Loan Amount']>9000000, 'Current Loan Amount']=train['Current Loan Amount'].mean()"
   ]
  },
  {
   "cell_type": "code",
   "execution_count": 45,
   "metadata": {},
   "outputs": [],
   "source": [
    "test.loc[test['Current Loan Amount']>9000000, 'Current Loan Amount']=test['Current Loan Amount'].mean()"
   ]
  },
  {
   "cell_type": "markdown",
   "metadata": {},
   "source": [
    "#### Impute"
   ]
  },
  {
   "cell_type": "markdown",
   "metadata": {},
   "source": [
    "Заполняем пустые значения"
   ]
  },
  {
   "cell_type": "code",
   "execution_count": 46,
   "metadata": {},
   "outputs": [],
   "source": [
    "y_train=train['Credit Default']"
   ]
  },
  {
   "cell_type": "code",
   "execution_count": 47,
   "metadata": {},
   "outputs": [],
   "source": [
    "train.drop('Credit Default', inplace=True, axis=1)"
   ]
  },
  {
   "cell_type": "code",
   "execution_count": 48,
   "metadata": {},
   "outputs": [],
   "source": [
    "Y_train=y_train.copy()"
   ]
  },
  {
   "cell_type": "code",
   "execution_count": 49,
   "metadata": {},
   "outputs": [],
   "source": [
    "# Imputation\n",
    "my_imputer = IterativeImputer(random_state=0, estimator=ExtraTreesRegressor(n_estimators=20, random_state=0))\n",
    "\n",
    "#my_imputer = IterativeImputer(random_state=0, estimator=KNeighborsRegressor())"
   ]
  },
  {
   "cell_type": "code",
   "execution_count": 50,
   "metadata": {},
   "outputs": [],
   "source": [
    "\n",
    "X_train = pd.DataFrame(my_imputer.fit_transform(train))\n",
    "X_test = pd.DataFrame(my_imputer.transform(test))\n",
    "\n",
    "# Imputation removed column names; put them back\n",
    "X_train.columns = train.columns\n",
    "X_test.columns = test.columns"
   ]
  },
  {
   "cell_type": "markdown",
   "metadata": {},
   "source": [
    "#### Current Credit Balance"
   ]
  },
  {
   "cell_type": "code",
   "execution_count": 51,
   "metadata": {},
   "outputs": [],
   "source": [
    "# Замена нулевых значений привела к ухудшению модели, оставляем без изменений"
   ]
  },
  {
   "cell_type": "markdown",
   "metadata": {},
   "source": [
    "### Датасет"
   ]
  },
  {
   "cell_type": "markdown",
   "metadata": {},
   "source": [
    "Нормализация"
   ]
  },
  {
   "cell_type": "code",
   "execution_count": 52,
   "metadata": {},
   "outputs": [],
   "source": [
    "scaler = MinMaxScaler()\n",
    "\n",
    "X_train_scaled = pd.DataFrame(scaler.fit_transform(X_train), columns=X_train.columns)\n",
    "\n",
    "X_test_scaled = pd.DataFrame(scaler.transform(X_test), columns=X_test.columns)"
   ]
  },
  {
   "cell_type": "code",
   "execution_count": 53,
   "metadata": {},
   "outputs": [],
   "source": [
    "Y_train.index=X_train_scaled.index"
   ]
  },
  {
   "cell_type": "code",
   "execution_count": 54,
   "metadata": {},
   "outputs": [],
   "source": [
    "x_train, x_valid, y_train, y_valid = train_test_split(X_train_scaled, Y_train, test_size=0.2, random_state=3)"
   ]
  },
  {
   "cell_type": "markdown",
   "metadata": {},
   "source": [
    "#### Балансировака датасета"
   ]
  },
  {
   "cell_type": "code",
   "execution_count": 55,
   "metadata": {},
   "outputs": [],
   "source": [
    "\n",
    "def balance_df_by_target(df, target_name):\n",
    "\n",
    "  \n",
    "    df_majority = df[df['Credit Default']==0]\n",
    "    df_minority = df[df['Credit Default']==1]\n",
    " \n",
    "    # Upsample minority class\n",
    "    df_minority_upsampled = resample(df_minority, \n",
    "                                     replace=True,     # sample with replacement\n",
    "                                     n_samples=df_majority.shape[0],    # to match majority class\n",
    "                                     random_state=123) # reproducible results\n",
    "\n",
    "    # Combine majority class with upsampled minority class\n",
    "    df_upsampled = pd.concat([df_majority, df_minority_upsampled])\n",
    "    return df_upsampled"
   ]
  },
  {
   "cell_type": "code",
   "execution_count": 56,
   "metadata": {},
   "outputs": [
    {
     "data": {
      "text/plain": [
       "1    4312\n",
       "0    4312\n",
       "Name: Credit Default, dtype: int64"
      ]
     },
     "execution_count": 56,
     "metadata": {},
     "output_type": "execute_result"
    }
   ],
   "source": [
    "df_for_balancing = pd.concat([x_train, y_train], axis=1)\n",
    "df_balanced = balance_df_by_target(df_for_balancing, 'Credit Default')\n",
    "    \n",
    "df_balanced['Credit Default'].value_counts()"
   ]
  },
  {
   "cell_type": "code",
   "execution_count": 57,
   "metadata": {},
   "outputs": [],
   "source": [
    "TARGET_NAME='Credit Default'\n",
    "x_train = df_balanced.drop(columns=TARGET_NAME)\n",
    "y_train = df_balanced[TARGET_NAME]"
   ]
  },
  {
   "cell_type": "markdown",
   "metadata": {},
   "source": [
    "#### Базовые модели"
   ]
  },
  {
   "cell_type": "code",
   "execution_count": 58,
   "metadata": {},
   "outputs": [],
   "source": [
    "def get_classification_report(y_train_true, y_train_pred, y_test_true, y_test_pred):\n",
    "    print('TRAIN\\n\\n' + classification_report(y_train_true, y_train_pred))\n",
    "    print('TEST\\n\\n' + classification_report(y_test_true, y_test_pred))\n",
    "    print('CONFUSION MATRIX\\n')\n",
    "    print(pd.crosstab(y_test_true, y_test_pred))"
   ]
  },
  {
   "cell_type": "code",
   "execution_count": 59,
   "metadata": {},
   "outputs": [
    {
     "name": "stdout",
     "output_type": "stream",
     "text": [
      "TRAIN\n",
      "\n",
      "              precision    recall  f1-score   support\n",
      "\n",
      "           0       0.66      0.57      0.61      4312\n",
      "           1       0.62      0.71      0.66      4312\n",
      "\n",
      "    accuracy                           0.64      8624\n",
      "   macro avg       0.64      0.64      0.64      8624\n",
      "weighted avg       0.64      0.64      0.64      8624\n",
      "\n",
      "TEST\n",
      "\n",
      "              precision    recall  f1-score   support\n",
      "\n",
      "           0       0.82      0.57      0.68      1070\n",
      "           1       0.39      0.69      0.50       429\n",
      "\n",
      "    accuracy                           0.61      1499\n",
      "   macro avg       0.61      0.63      0.59      1499\n",
      "weighted avg       0.70      0.61      0.63      1499\n",
      "\n",
      "CONFUSION MATRIX\n",
      "\n",
      "col_0             0    1\n",
      "Credit Default          \n",
      "0               613  457\n",
      "1               132  297\n"
     ]
    },
    {
     "name": "stderr",
     "output_type": "stream",
     "text": [
      "C:\\Users\\erbya\\anaconda3\\lib\\site-packages\\sklearn\\linear_model\\_logistic.py:762: ConvergenceWarning: lbfgs failed to converge (status=1):\n",
      "STOP: TOTAL NO. of ITERATIONS REACHED LIMIT.\n",
      "\n",
      "Increase the number of iterations (max_iter) or scale the data as shown in:\n",
      "    https://scikit-learn.org/stable/modules/preprocessing.html\n",
      "Please also refer to the documentation for alternative solver options:\n",
      "    https://scikit-learn.org/stable/modules/linear_model.html#logistic-regression\n",
      "  n_iter_i = _check_optimize_result(\n"
     ]
    }
   ],
   "source": [
    "\n",
    "model_lr = LogisticRegression()\n",
    "model_lr.fit(x_train, y_train)\n",
    "\n",
    "y_train_pred = model_lr.predict(x_train)\n",
    "y_valid_pred = model_lr.predict(x_valid)\n",
    "\n",
    "get_classification_report(y_train, y_train_pred, y_valid, y_valid_pred)"
   ]
  },
  {
   "cell_type": "code",
   "execution_count": 60,
   "metadata": {},
   "outputs": [
    {
     "name": "stdout",
     "output_type": "stream",
     "text": [
      "TRAIN\n",
      "\n",
      "              precision    recall  f1-score   support\n",
      "\n",
      "           0       0.88      0.69      0.78      4312\n",
      "           1       0.75      0.91      0.82      4312\n",
      "\n",
      "    accuracy                           0.80      8624\n",
      "   macro avg       0.82      0.80      0.80      8624\n",
      "weighted avg       0.82      0.80      0.80      8624\n",
      "\n",
      "TEST\n",
      "\n",
      "              precision    recall  f1-score   support\n",
      "\n",
      "           0       0.76      0.57      0.65      1070\n",
      "           1       0.34      0.55      0.42       429\n",
      "\n",
      "    accuracy                           0.57      1499\n",
      "   macro avg       0.55      0.56      0.54      1499\n",
      "weighted avg       0.64      0.57      0.59      1499\n",
      "\n",
      "CONFUSION MATRIX\n",
      "\n",
      "col_0             0    1\n",
      "Credit Default          \n",
      "0               610  460\n",
      "1               192  237\n"
     ]
    }
   ],
   "source": [
    "model_knn = KNeighborsClassifier()\n",
    "model_knn.fit(x_train, y_train)\n",
    "\n",
    "y_train_pred = model_knn.predict(x_train)\n",
    "y_valid_pred = model_knn.predict(x_valid)\n",
    "\n",
    "get_classification_report(y_train, y_train_pred, y_valid, y_valid_pred)"
   ]
  },
  {
   "cell_type": "code",
   "execution_count": 61,
   "metadata": {},
   "outputs": [
    {
     "name": "stdout",
     "output_type": "stream",
     "text": [
      "TRAIN\n",
      "\n",
      "              precision    recall  f1-score   support\n",
      "\n",
      "           0       0.95      0.87      0.90      4312\n",
      "           1       0.88      0.95      0.91      4312\n",
      "\n",
      "    accuracy                           0.91      8624\n",
      "   macro avg       0.91      0.91      0.91      8624\n",
      "weighted avg       0.91      0.91      0.91      8624\n",
      "\n",
      "TEST\n",
      "\n",
      "              precision    recall  f1-score   support\n",
      "\n",
      "           0       0.78      0.69      0.73      1070\n",
      "           1       0.40      0.52      0.46       429\n",
      "\n",
      "    accuracy                           0.64      1499\n",
      "   macro avg       0.59      0.61      0.60      1499\n",
      "weighted avg       0.68      0.64      0.65      1499\n",
      "\n",
      "CONFUSION MATRIX\n",
      "\n",
      "col_0             0    1\n",
      "Credit Default          \n",
      "0               739  331\n",
      "1               204  225\n"
     ]
    }
   ],
   "source": [
    "model_lgbm = lgbm.LGBMClassifier(random_state=21)\n",
    "model_lgbm.fit(x_train, y_train)\n",
    "\n",
    "y_train_pred = model_lgbm.predict(x_train)\n",
    "\n",
    "y_valid_pred = model_lgbm.predict(x_valid)\n",
    "\n",
    "get_classification_report(y_train, y_train_pred, y_valid, y_valid_pred)"
   ]
  },
  {
   "cell_type": "code",
   "execution_count": 62,
   "metadata": {},
   "outputs": [
    {
     "name": "stdout",
     "output_type": "stream",
     "text": [
      "TRAIN\n",
      "\n",
      "              precision    recall  f1-score   support\n",
      "\n",
      "           0       0.94      0.88      0.91      4312\n",
      "           1       0.88      0.94      0.91      4312\n",
      "\n",
      "    accuracy                           0.91      8624\n",
      "   macro avg       0.91      0.91      0.91      8624\n",
      "weighted avg       0.91      0.91      0.91      8624\n",
      "\n",
      "TEST\n",
      "\n",
      "              precision    recall  f1-score   support\n",
      "\n",
      "           0       0.79      0.72      0.75      1070\n",
      "           1       0.43      0.53      0.47       429\n",
      "\n",
      "    accuracy                           0.66      1499\n",
      "   macro avg       0.61      0.62      0.61      1499\n",
      "weighted avg       0.69      0.66      0.67      1499\n",
      "\n",
      "CONFUSION MATRIX\n",
      "\n",
      "col_0             0    1\n",
      "Credit Default          \n",
      "0               766  304\n",
      "1               203  226\n"
     ]
    }
   ],
   "source": [
    "model_catb = catb.CatBoostClassifier(silent=True, random_state=21)\n",
    "model_catb.fit(x_train, y_train)\n",
    "\n",
    "y_train_pred = model_catb.predict(x_train)\n",
    "y_valid_pred = model_catb.predict(x_valid)\n",
    "\n",
    "get_classification_report(y_train, y_train_pred, y_valid, y_valid_pred)"
   ]
  },
  {
   "cell_type": "markdown",
   "metadata": {},
   "source": [
    "### Настройка модели"
   ]
  },
  {
   "cell_type": "code",
   "execution_count": 63,
   "metadata": {},
   "outputs": [
    {
     "name": "stdout",
     "output_type": "stream",
     "text": [
      "TRAIN\n",
      "\n",
      "              precision    recall  f1-score   support\n",
      "\n",
      "           0       0.77      0.62      0.69      4312\n",
      "           1       0.68      0.81      0.74      4312\n",
      "\n",
      "    accuracy                           0.72      8624\n",
      "   macro avg       0.72      0.72      0.71      8624\n",
      "weighted avg       0.72      0.72      0.71      8624\n",
      "\n",
      "TEST\n",
      "\n",
      "              precision    recall  f1-score   support\n",
      "\n",
      "           0       0.84      0.59      0.69      1070\n",
      "           1       0.41      0.71      0.52       429\n",
      "\n",
      "    accuracy                           0.63      1499\n",
      "   macro avg       0.62      0.65      0.61      1499\n",
      "weighted avg       0.71      0.63      0.64      1499\n",
      "\n",
      "CONFUSION MATRIX\n",
      "\n",
      "col_0             0    1\n",
      "Credit Default          \n",
      "0               634  436\n",
      "1               125  304\n"
     ]
    }
   ],
   "source": [
    "\n",
    "final_model = catb.CatBoostClassifier(n_estimators=900, max_depth=4,\n",
    "                                      silent=True, random_state=21,learning_rate=0.01)\n",
    "final_model.fit(x_train, y_train)\n",
    "\n",
    "y_train_pred = final_model.predict(x_train)\n",
    "y_test_pred = final_model.predict(x_valid)\n",
    "\n",
    "get_classification_report(y_train, y_train_pred, y_valid, y_test_pred)"
   ]
  },
  {
   "cell_type": "code",
   "execution_count": 64,
   "metadata": {},
   "outputs": [
    {
     "data": {
      "text/plain": [
       "0.5201026518391788"
      ]
     },
     "execution_count": 64,
     "metadata": {},
     "output_type": "execute_result"
    }
   ],
   "source": [
    "f1_score(y_valid, y_test_pred)"
   ]
  },
  {
   "cell_type": "code",
   "execution_count": 65,
   "metadata": {},
   "outputs": [],
   "source": [
    "def show_feature_importances(feature_names, feature_importances, get_top=None):\n",
    "    feature_importances = pd.DataFrame({'feature': feature_names, 'importance': feature_importances})\n",
    "    feature_importances = feature_importances.sort_values('importance', ascending=False)\n",
    "       \n",
    "    plt.figure(figsize = (20, len(feature_importances) * 0.355))\n",
    "    \n",
    "    sns.barplot(feature_importances['importance'], feature_importances['feature'])\n",
    "    \n",
    "    plt.xlabel('Importance')\n",
    "    plt.title('Importance of features')\n",
    "    plt.show()\n",
    "    \n",
    "    if get_top is not None:\n",
    "        return feature_importances['feature'][:get_top].tolist()"
   ]
  },
  {
   "cell_type": "code",
   "execution_count": 66,
   "metadata": {},
   "outputs": [
    {
     "data": {
      "image/png": "[encoded data removed]",
      "text/plain": [
       "<Figure size 1440x664.56 with 1 Axes>"
      ]
     },
     "metadata": {
      "needs_background": "light"
     },
     "output_type": "display_data"
    }
   ],
   "source": [
    "important_features_top = show_feature_importances(x_train.columns, final_model.feature_importances_, get_top=15)"
   ]
  },
  {
   "cell_type": "markdown",
   "metadata": {},
   "source": [
    "### Балансировка тестового набора, обучение модели "
   ]
  },
  {
   "cell_type": "code",
   "execution_count": 70,
   "metadata": {},
   "outputs": [
    {
     "data": {
      "text/plain": [
       "1    5382\n",
       "0    5382\n",
       "Name: Credit Default, dtype: int64"
      ]
     },
     "execution_count": 70,
     "metadata": {},
     "output_type": "execute_result"
    }
   ],
   "source": [
    "df_for_balancing = pd.concat([X_train_scaled, Y_train], axis=1)\n",
    "df_balanced = balance_df_by_target(df_for_balancing, 'Credit Default')\n",
    "    \n",
    "df_balanced['Credit Default'].value_counts()"
   ]
  },
  {
   "cell_type": "code",
   "execution_count": 71,
   "metadata": {},
   "outputs": [
    {
     "data": {
      "text/plain": [
       "False    10764\n",
       "Name: Annual Income, dtype: int64"
      ]
     },
     "execution_count": 71,
     "metadata": {},
     "output_type": "execute_result"
    }
   ],
   "source": [
    "df_balanced['Annual Income'].isnull().value_counts()"
   ]
  },
  {
   "cell_type": "code",
   "execution_count": 72,
   "metadata": {},
   "outputs": [],
   "source": [
    "TARGET_NAME='Credit Default'\n",
    "x_train = df_balanced.drop(columns=TARGET_NAME)\n",
    "y_train = df_balanced[TARGET_NAME]"
   ]
  },
  {
   "cell_type": "code",
   "execution_count": 73,
   "metadata": {},
   "outputs": [],
   "source": [
    "final_model.fit(x_train, y_train)\n",
    "\n",
    "answers = final_model.predict(X_test_scaled)\n"
   ]
  },
  {
   "cell_type": "code",
   "execution_count": 75,
   "metadata": {},
   "outputs": [],
   "source": [
    "answer=pd.DataFrame(data = answers, index = X_test_scaled.index, columns=['Credit Default']) "
   ]
  },
  {
   "cell_type": "code",
   "execution_count": 76,
   "metadata": {},
   "outputs": [
    {
     "data": {
      "text/html": [
       "<div>\n",
       "<style scoped>\n",
       "    .dataframe tbody tr th:only-of-type {\n",
       "        vertical-align: middle;\n",
       "    }\n",
       "\n",
       "    .dataframe tbody tr th {\n",
       "        vertical-align: top;\n",
       "    }\n",
       "\n",
       "    .dataframe thead th {\n",
       "        text-align: right;\n",
       "    }\n",
       "</style>\n",
       "<table border=\"1\" class=\"dataframe\">\n",
       "  <thead>\n",
       "    <tr style=\"text-align: right;\">\n",
       "      <th></th>\n",
       "      <th>Credit Default</th>\n",
       "    </tr>\n",
       "  </thead>\n",
       "  <tbody>\n",
       "    <tr>\n",
       "      <th>0</th>\n",
       "      <td>1</td>\n",
       "    </tr>\n",
       "    <tr>\n",
       "      <th>1</th>\n",
       "      <td>1</td>\n",
       "    </tr>\n",
       "    <tr>\n",
       "      <th>2</th>\n",
       "      <td>1</td>\n",
       "    </tr>\n",
       "    <tr>\n",
       "      <th>3</th>\n",
       "      <td>0</td>\n",
       "    </tr>\n",
       "    <tr>\n",
       "      <th>4</th>\n",
       "      <td>1</td>\n",
       "    </tr>\n",
       "    <tr>\n",
       "      <th>...</th>\n",
       "      <td>...</td>\n",
       "    </tr>\n",
       "    <tr>\n",
       "      <th>2495</th>\n",
       "      <td>0</td>\n",
       "    </tr>\n",
       "    <tr>\n",
       "      <th>2496</th>\n",
       "      <td>0</td>\n",
       "    </tr>\n",
       "    <tr>\n",
       "      <th>2497</th>\n",
       "      <td>1</td>\n",
       "    </tr>\n",
       "    <tr>\n",
       "      <th>2498</th>\n",
       "      <td>1</td>\n",
       "    </tr>\n",
       "    <tr>\n",
       "      <th>2499</th>\n",
       "      <td>1</td>\n",
       "    </tr>\n",
       "  </tbody>\n",
       "</table>\n",
       "<p>2500 rows × 1 columns</p>\n",
       "</div>"
      ],
      "text/plain": [
       "      Credit Default\n",
       "0                  1\n",
       "1                  1\n",
       "2                  1\n",
       "3                  0\n",
       "4                  1\n",
       "...              ...\n",
       "2495               0\n",
       "2496               0\n",
       "2497               1\n",
       "2498               1\n",
       "2499               1\n",
       "\n",
       "[2500 rows x 1 columns]"
      ]
     },
     "execution_count": 76,
     "metadata": {},
     "output_type": "execute_result"
    }
   ],
   "source": [
    "answer"
   ]
  },
  {
   "cell_type": "code",
   "execution_count": 77,
   "metadata": {},
   "outputs": [],
   "source": [
    "answer.to_csv('AKonshin_predictions.csv',index=True, sep=';')"
   ]
  }
 ],
 "metadata": {
  "kernelspec": {
   "display_name": "Python 3",
   "language": "python",
   "name": "python3"
  },
  "language_info": {
   "codemirror_mode": {
    "name": "ipython",
    "version": 3
   },
   "file_extension": ".py",
   "mimetype": "text/x-python",
   "name": "python",
   "nbconvert_exporter": "python",
   "pygments_lexer": "ipython3",
   "version": "3.8.3"
  }
 },
 "nbformat": 4,
 "nbformat_minor": 2
}
