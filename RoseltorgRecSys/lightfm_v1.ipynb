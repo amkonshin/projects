{
  "nbformat": 4,
  "nbformat_minor": 0,
  "metadata": {
    "kernelspec": {
      "display_name": "Python 3",
      "language": "python",
      "name": "python3"
    },
    "language_info": {
      "codemirror_mode": {
        "name": "ipython",
        "version": 3
      },
      "file_extension": ".py",
      "mimetype": "text/x-python",
      "name": "python",
      "nbconvert_exporter": "python",
      "pygments_lexer": "ipython3",
      "version": "3.8.1"
    },
    "colab": {
      "name": "lightfm_v1.ipynb",
      "provenance": []
    }
  },
  "cells": [
    {
      "cell_type": "code",
      "metadata": {
        "id": "92x4vh-ZZYnc",
        "outputId": "d5f20d9b-7657-454f-c3b4-818a4a6ea82d"
      },
      "source": [
        "import pandas as pd\n",
        "import joblib\n",
        "import numpy as np\n",
        "\n",
        "train = pd.read_csv('train_data.csv', sep=';', parse_dates = ['min_publish_date'])\n",
        "test = pd.read_csv('test_data.csv', sep=';', parse_dates = ['min_publish_date'])\n",
        "labels = pd.read_csv('train_labels.csv', sep=';')\n",
        "word2inx_map = joblib.load('word2inx_map.joblib')\n",
        "\n",
        "cat_cols = ['fz','region_code','okpd2_code','additional_code','month','has_lot']\n",
        "col_cols = ['lot_price']\n",
        "\n",
        "def process_df(train):\n",
        "    train['month'] = train['min_publish_date'].dt.month\n",
        "    train['okpd2_code'] = train['okpd2_code'].fillna('null_okpd2_code')\n",
        "    train['additional_code'] = train['additional_code'].fillna('null_additional_code')\n",
        "    train['lot_price'] = np.log1p(train['lot_price']) / 25.0\n",
        "    train['region_code'] = train['region_code'].astype(str)\n",
        "    train['has_lot'] = 'lot_'+train.lot_name.isnull().astype(str)\n",
        "    return train\n",
        "\n",
        "train = process_df(train)\n",
        "test = process_df(test)\n",
        "full_df = pd.concat([train,test], ignore_index=True).reset_index(drop=True)"
      ],
      "execution_count": null,
      "outputs": [
        {
          "output_type": "stream",
          "text": [
            "/home/user/miniconda/lib/python3.8/site-packages/IPython/core/interactiveshell.py:3146: DtypeWarning: Columns (5,9) have mixed types.Specify dtype option on import or set low_memory=False.\n",
            "  has_raised = await self.run_ast_nodes(code_ast.body, cell_name,\n",
            "/home/user/miniconda/lib/python3.8/site-packages/IPython/core/interactiveshell.py:3146: DtypeWarning: Columns (9) have mixed types.Specify dtype option on import or set low_memory=False.\n",
            "  has_raised = await self.run_ast_nodes(code_ast.body, cell_name,\n"
          ],
          "name": "stderr"
        }
      ]
    },
    {
      "cell_type": "code",
      "metadata": {
        "id": "xgSC4kWDZYnk",
        "outputId": "1aedfa7b-7ed4-42e1-e101-90ae7c3e9131"
      },
      "source": [
        "def make_text_field(train):\n",
        "    train['text'] = train['purchase_name'].fillna('') + ' ' + train['item_descriptions'].fillna('')\n",
        "    train['text'] = train['text'].fillna('').str.lower()\\\n",
        ".str.replace(r'[^а-яА-Я0-9\\s]', ' ',regex=True).str.replace(r'\\s',' ',regex=True)\\\n",
        ".str.replace('  ', ' ',regex=False).str.replace('  ', ' ',regex=False).str.replace('  ', ' ',regex=False).str.strip()\n",
        "    return train\n",
        "\n",
        "full_df = make_text_field(full_df)\n",
        "from sklearn.feature_extraction.text import TfidfVectorizer\n",
        "from sklearn.decomposition import TruncatedSVD\n",
        "from sklearn.decomposition import FactorAnalysis\n",
        "\n",
        "print('tfidf')\n",
        "vectorizer = TfidfVectorizer(min_df=10)\n",
        "vectors = vectorizer.fit_transform(full_df['text'].values)\n",
        "\n",
        "print('svd')\n",
        "svd = TruncatedSVD(n_components=64)\n",
        "comps = svd.fit_transform(vectors)\n",
        "\n",
        "for i in range(comps.shape[1]):\n",
        "    full_df['comp_'+str(i)] = comps[:,i]\n",
        "    train['comp_'+str(i)] = comps[:train.shape[0],i]\n",
        "    test['comp_'+str(i)] = comps[-test.shape[0]:,i]\n",
        "    col_cols.append('comp_'+str(i))"
      ],
      "execution_count": null,
      "outputs": [
        {
          "output_type": "stream",
          "text": [
            "tfidf\n",
            "svd\n"
          ],
          "name": "stdout"
        }
      ]
    },
    {
      "cell_type": "code",
      "metadata": {
        "id": "_Z5nVfaYZYnk"
      },
      "source": [
        "import multiprocessing\n",
        "import os\n",
        "import pickle\n",
        "import random\n",
        "import math\n",
        "from typing import Any, Dict, List, Optional, Tuple, Union\n",
        "\n",
        "import nmslib\n",
        "import numpy as np\n",
        "import pandas as pd\n",
        "import requests\n",
        "import scipy\n",
        "from IPython.display import Image, display\n",
        "from lightfm import LightFM\n",
        "from lightfm import evaluation\n",
        "from lightfm.data import Dataset\n",
        "from sklearn import preprocessing\n",
        "from tqdm.auto import tqdm"
      ],
      "execution_count": null,
      "outputs": []
    },
    {
      "cell_type": "code",
      "metadata": {
        "id": "1GJ4TLGRZYnl",
        "outputId": "5c94068a-5748-4b05-bf35-4ce97b4fb6e3"
      },
      "source": [
        "print(test.min_publish_date.min(),\n",
        "      test.min_publish_date.max())"
      ],
      "execution_count": null,
      "outputs": [
        {
          "output_type": "stream",
          "text": [
            "2020-05-01 00:00:00 2020-12-02 00:00:00\n"
          ],
          "name": "stdout"
        }
      ]
    },
    {
      "cell_type": "code",
      "metadata": {
        "id": "QWdqA0VaZYnl",
        "outputId": "3710ac29-3165-45cd-a56b-a355e5129b54"
      },
      "source": [
        "train_df = train.loc[train.min_publish_date < pd.to_datetime('2020-03-20')].reset_index(drop=True)\n",
        "valid_df = train.loc[train.min_publish_date >= pd.to_datetime('2020-03-20')].reset_index(drop=True)\n",
        "print(valid_df.shape)\n",
        "\n",
        "train_lots = train_df.pn_lot_anon.unique().tolist()\n",
        "train_labels_df = labels.loc[labels.pn_lot_anon.isin(train_lots)].reset_index(drop=True)\n",
        "train_users = train_labels_df.participant_inn_kpp_anon.unique().tolist()\n",
        "valid_labels_df = labels.loc[(~labels.pn_lot_anon.isin(train_lots)) &\\\n",
        "                             (labels.participant_inn_kpp_anon.isin(train_users))].reset_index(drop=True)\n",
        "\n",
        "valid_users = valid_labels_df.participant_inn_kpp_anon.unique().tolist()\n",
        "train_labels_df = labels.loc[labels.participant_inn_kpp_anon.isin(valid_users)].reset_index(drop=True)\n",
        "print(train_labels_df.shape, valid_labels_df.shape)"
      ],
      "execution_count": null,
      "outputs": [
        {
          "output_type": "stream",
          "text": [
            "(81455, 78)\n",
            "(860817, 4) (99730, 4)\n"
          ],
          "name": "stdout"
        }
      ]
    },
    {
      "cell_type": "code",
      "metadata": {
        "id": "vAVE4RbXZYnm",
        "outputId": "dcb67bb7-92f7-4a3a-c704-c80d0c88a51f"
      },
      "source": [
        "cols = ['pn_lot_anon'] + cat_cols + col_cols\n",
        "\n",
        "train_labels_df = train_labels_df.drop(['fz'], axis=1).merge(train[cols], on='pn_lot_anon', how='left')\n",
        "valid_labels_df = valid_labels_df.drop(['fz'], axis=1).merge(train[cols], on='pn_lot_anon', how='left')\n",
        "train_labels_df.head()"
      ],
      "execution_count": null,
      "outputs": [
        {
          "output_type": "execute_result",
          "data": {
            "text/html": [
              "<div>\n",
              "<style scoped>\n",
              "    .dataframe tbody tr th:only-of-type {\n",
              "        vertical-align: middle;\n",
              "    }\n",
              "\n",
              "    .dataframe tbody tr th {\n",
              "        vertical-align: top;\n",
              "    }\n",
              "\n",
              "    .dataframe thead th {\n",
              "        text-align: right;\n",
              "    }\n",
              "</style>\n",
              "<table border=\"1\" class=\"dataframe\">\n",
              "  <thead>\n",
              "    <tr style=\"text-align: right;\">\n",
              "      <th></th>\n",
              "      <th>pn_lot_anon</th>\n",
              "      <th>participant_inn_kpp_anon</th>\n",
              "      <th>is_winner</th>\n",
              "      <th>fz</th>\n",
              "      <th>region_code</th>\n",
              "      <th>okpd2_code</th>\n",
              "      <th>additional_code</th>\n",
              "      <th>month</th>\n",
              "      <th>has_lot</th>\n",
              "      <th>lot_price</th>\n",
              "      <th>...</th>\n",
              "      <th>comp_54</th>\n",
              "      <th>comp_55</th>\n",
              "      <th>comp_56</th>\n",
              "      <th>comp_57</th>\n",
              "      <th>comp_58</th>\n",
              "      <th>comp_59</th>\n",
              "      <th>comp_60</th>\n",
              "      <th>comp_61</th>\n",
              "      <th>comp_62</th>\n",
              "      <th>comp_63</th>\n",
              "    </tr>\n",
              "  </thead>\n",
              "  <tbody>\n",
              "    <tr>\n",
              "      <th>0</th>\n",
              "      <td>pn_lot_18161</td>\n",
              "      <td>inn_kpp_977300</td>\n",
              "      <td>0</td>\n",
              "      <td>223fz</td>\n",
              "      <td>71</td>\n",
              "      <td>22.2</td>\n",
              "      <td>22.2</td>\n",
              "      <td>1</td>\n",
              "      <td>lot_False</td>\n",
              "      <td>0.550997</td>\n",
              "      <td>...</td>\n",
              "      <td>-0.009000</td>\n",
              "      <td>-0.000842</td>\n",
              "      <td>-0.001250</td>\n",
              "      <td>0.001655</td>\n",
              "      <td>0.001888</td>\n",
              "      <td>-0.000081</td>\n",
              "      <td>0.000814</td>\n",
              "      <td>-0.004965</td>\n",
              "      <td>-0.002322</td>\n",
              "      <td>0.002304</td>\n",
              "    </tr>\n",
              "    <tr>\n",
              "      <th>1</th>\n",
              "      <td>pn_lot_9818628</td>\n",
              "      <td>inn_kpp_977300</td>\n",
              "      <td>1</td>\n",
              "      <td>223fz</td>\n",
              "      <td>30</td>\n",
              "      <td>32.9</td>\n",
              "      <td>46.900000</td>\n",
              "      <td>2</td>\n",
              "      <td>lot_False</td>\n",
              "      <td>0.492426</td>\n",
              "      <td>...</td>\n",
              "      <td>0.010582</td>\n",
              "      <td>-0.002633</td>\n",
              "      <td>-0.005270</td>\n",
              "      <td>0.006629</td>\n",
              "      <td>0.013253</td>\n",
              "      <td>0.002532</td>\n",
              "      <td>0.013538</td>\n",
              "      <td>-0.005477</td>\n",
              "      <td>-0.005204</td>\n",
              "      <td>-0.004200</td>\n",
              "    </tr>\n",
              "    <tr>\n",
              "      <th>2</th>\n",
              "      <td>pn_lot_396434</td>\n",
              "      <td>inn_kpp_977300</td>\n",
              "      <td>1</td>\n",
              "      <td>223fz</td>\n",
              "      <td>71</td>\n",
              "      <td>22.2</td>\n",
              "      <td>22.2</td>\n",
              "      <td>3</td>\n",
              "      <td>lot_False</td>\n",
              "      <td>0.541130</td>\n",
              "      <td>...</td>\n",
              "      <td>-0.009000</td>\n",
              "      <td>-0.000842</td>\n",
              "      <td>-0.001250</td>\n",
              "      <td>0.001655</td>\n",
              "      <td>0.001888</td>\n",
              "      <td>-0.000081</td>\n",
              "      <td>0.000814</td>\n",
              "      <td>-0.004965</td>\n",
              "      <td>-0.002322</td>\n",
              "      <td>0.002304</td>\n",
              "    </tr>\n",
              "    <tr>\n",
              "      <th>3</th>\n",
              "      <td>pn_lot_8216428</td>\n",
              "      <td>inn_kpp_977300</td>\n",
              "      <td>0</td>\n",
              "      <td>223fz</td>\n",
              "      <td>66</td>\n",
              "      <td>25.9</td>\n",
              "      <td>25.9</td>\n",
              "      <td>4</td>\n",
              "      <td>lot_False</td>\n",
              "      <td>0.414690</td>\n",
              "      <td>...</td>\n",
              "      <td>0.015902</td>\n",
              "      <td>-0.007585</td>\n",
              "      <td>0.026906</td>\n",
              "      <td>0.007619</td>\n",
              "      <td>-0.005795</td>\n",
              "      <td>0.009780</td>\n",
              "      <td>0.014034</td>\n",
              "      <td>-0.011962</td>\n",
              "      <td>0.003909</td>\n",
              "      <td>0.014510</td>\n",
              "    </tr>\n",
              "    <tr>\n",
              "      <th>4</th>\n",
              "      <td>pn_lot_434055</td>\n",
              "      <td>inn_kpp_977300</td>\n",
              "      <td>0</td>\n",
              "      <td>223fz</td>\n",
              "      <td>69</td>\n",
              "      <td>46.1</td>\n",
              "      <td>46.100000</td>\n",
              "      <td>11</td>\n",
              "      <td>lot_False</td>\n",
              "      <td>0.580878</td>\n",
              "      <td>...</td>\n",
              "      <td>0.013240</td>\n",
              "      <td>0.028761</td>\n",
              "      <td>0.084496</td>\n",
              "      <td>0.000643</td>\n",
              "      <td>-0.063040</td>\n",
              "      <td>-0.020718</td>\n",
              "      <td>-0.027965</td>\n",
              "      <td>0.022147</td>\n",
              "      <td>-0.014662</td>\n",
              "      <td>0.086964</td>\n",
              "    </tr>\n",
              "  </tbody>\n",
              "</table>\n",
              "<p>5 rows × 74 columns</p>\n",
              "</div>"
            ],
            "text/plain": [
              "      pn_lot_anon participant_inn_kpp_anon  is_winner     fz region_code  \\\n",
              "0    pn_lot_18161           inn_kpp_977300          0  223fz          71   \n",
              "1  pn_lot_9818628           inn_kpp_977300          1  223fz          30   \n",
              "2   pn_lot_396434           inn_kpp_977300          1  223fz          71   \n",
              "3  pn_lot_8216428           inn_kpp_977300          0  223fz          66   \n",
              "4   pn_lot_434055           inn_kpp_977300          0  223fz          69   \n",
              "\n",
              "  okpd2_code additional_code  month    has_lot  lot_price  ...   comp_54  \\\n",
              "0       22.2            22.2      1  lot_False   0.550997  ... -0.009000   \n",
              "1       32.9       46.900000      2  lot_False   0.492426  ...  0.010582   \n",
              "2       22.2            22.2      3  lot_False   0.541130  ... -0.009000   \n",
              "3       25.9            25.9      4  lot_False   0.414690  ...  0.015902   \n",
              "4       46.1       46.100000     11  lot_False   0.580878  ...  0.013240   \n",
              "\n",
              "    comp_55   comp_56   comp_57   comp_58   comp_59   comp_60   comp_61  \\\n",
              "0 -0.000842 -0.001250  0.001655  0.001888 -0.000081  0.000814 -0.004965   \n",
              "1 -0.002633 -0.005270  0.006629  0.013253  0.002532  0.013538 -0.005477   \n",
              "2 -0.000842 -0.001250  0.001655  0.001888 -0.000081  0.000814 -0.004965   \n",
              "3 -0.007585  0.026906  0.007619 -0.005795  0.009780  0.014034 -0.011962   \n",
              "4  0.028761  0.084496  0.000643 -0.063040 -0.020718 -0.027965  0.022147   \n",
              "\n",
              "    comp_62   comp_63  \n",
              "0 -0.002322  0.002304  \n",
              "1 -0.005204 -0.004200  \n",
              "2 -0.002322  0.002304  \n",
              "3  0.003909  0.014510  \n",
              "4 -0.014662  0.086964  \n",
              "\n",
              "[5 rows x 74 columns]"
            ]
          },
          "metadata": {
            "tags": []
          },
          "execution_count": 11
        }
      ]
    },
    {
      "cell_type": "code",
      "metadata": {
        "id": "nmQq_8f6ZYnm"
      },
      "source": [
        "dataset = Dataset()\n",
        "\n",
        "cat_features = cat_cols\n",
        "cont_features = col_cols\n",
        "\n",
        "item_features = []\n",
        "\n",
        "for ft in cat_features:\n",
        "    for fstr in full_df[ft].unique():\n",
        "        item_features.append(fstr)\n",
        "\n",
        "for ft in cont_features:\n",
        "    item_features.append(ft)\n",
        "\n",
        "num_unique_user_id = train_labels_df.participant_inn_kpp_anon.nunique()\n",
        "num_unique_item_id = train_labels_df.pn_lot_anon.nunique() + \\\n",
        "valid_labels_df.pn_lot_anon.nunique() + test.pn_lot_anon.nunique()\n",
        "\n",
        "inx2user_map = train_labels_df.participant_inn_kpp_anon.unique()\n",
        "inx2item_map = train_labels_df.pn_lot_anon.unique().tolist() + \\\n",
        "valid_labels_df.pn_lot_anon.unique().tolist() + test.pn_lot_anon.unique().tolist()\n",
        "\n",
        "user2inx_map = dict(zip(inx2user_map, np.arange(num_unique_user_id)))\n",
        "item2inx_map = dict(zip(inx2item_map, np.arange(num_unique_item_id)))\n",
        "\n",
        "dataset = Dataset()\n",
        "dataset.fit(users=inx2user_map, items=inx2item_map, item_features=item_features)"
      ],
      "execution_count": null,
      "outputs": []
    },
    {
      "cell_type": "code",
      "metadata": {
        "id": "bPt3DHsBZYnn"
      },
      "source": [
        "item_df = pd.DataFrame({'pn_lot_anon': inx2item_map})\n",
        "item_df = item_df.merge(full_df[cols], on='pn_lot_anon', how='left')"
      ],
      "execution_count": null,
      "outputs": []
    },
    {
      "cell_type": "code",
      "metadata": {
        "id": "SGoRIAdLZYnn",
        "outputId": "5a897a19-7e73-4ecb-c6fe-fee75c17c0ac"
      },
      "source": [
        "def item_features_iter(user_df, cat_features, cont_features):\n",
        "    for index, row in user_df.iterrows():\n",
        "        yield((row[\"pn_lot_anon\"], [row[ft] for ft in cat_features]))\n",
        "        for ft in cont_features:\n",
        "            yield((row[\"pn_lot_anon\"], {ft: float(row[ft])}))\n",
        "\n",
        "train_gen = item_features_iter(item_df, cat_features, cont_features)\n",
        "train_item_features = dataset.build_item_features(train_gen)\n",
        "train_item_features.shape"
      ],
      "execution_count": null,
      "outputs": [
        {
          "output_type": "execute_result",
          "data": {
            "text/plain": [
              "(811751, 812521)"
            ]
          },
          "metadata": {
            "tags": []
          },
          "execution_count": 14
        }
      ]
    },
    {
      "cell_type": "code",
      "metadata": {
        "id": "1i6gfx2VZYno",
        "outputId": "2e3f336c-d963-4c79-b0c1-fd0d878b34b1"
      },
      "source": [
        "train_item_participations = train_labels_df.groupby('pn_lot_anon').\\\n",
        "agg({'participant_inn_kpp_anon':'count'}).to_dict()['participant_inn_kpp_anon']\n",
        "train_item_participations['pn_lot_100485']"
      ],
      "execution_count": null,
      "outputs": [
        {
          "output_type": "execute_result",
          "data": {
            "text/plain": [
              "3"
            ]
          },
          "metadata": {
            "tags": []
          },
          "execution_count": 15
        }
      ]
    },
    {
      "cell_type": "code",
      "metadata": {
        "id": "bvH4WqMgZYno"
      },
      "source": [
        "train_user_participations = train_labels_df.groupby('participant_inn_kpp_anon').\\\n",
        "agg({'pn_lot_anon':'count'}).to_dict()['pn_lot_anon']"
      ],
      "execution_count": null,
      "outputs": []
    },
    {
      "cell_type": "code",
      "metadata": {
        "id": "mxelBz1qZYno",
        "outputId": "23e5050a-855b-41a2-9c28-60af79492145"
      },
      "source": [
        "train_labels_df.groupby('pn_lot_anon').\\\n",
        "agg({'participant_inn_kpp_anon':'count'}).median()"
      ],
      "execution_count": null,
      "outputs": [
        {
          "output_type": "execute_result",
          "data": {
            "text/plain": [
              "participant_inn_kpp_anon    1.0\n",
              "dtype: float64"
            ]
          },
          "metadata": {
            "tags": []
          },
          "execution_count": 18
        }
      ]
    },
    {
      "cell_type": "code",
      "metadata": {
        "id": "TwQ6x-jJZYnp",
        "outputId": "8d141c1f-3bcf-4e2a-d2a8-955500089144"
      },
      "source": [
        "train_labels_df.groupby('participant_inn_kpp_anon').\\\n",
        "agg({'pn_lot_anon':'count'}).median()"
      ],
      "execution_count": null,
      "outputs": [
        {
          "output_type": "execute_result",
          "data": {
            "text/plain": [
              "pn_lot_anon    31.0\n",
              "dtype: float64"
            ]
          },
          "metadata": {
            "tags": []
          },
          "execution_count": 19
        }
      ]
    },
    {
      "cell_type": "code",
      "metadata": {
        "id": "Gy1GdiIQZYnp"
      },
      "source": [
        "interactions = dataset.build_interactions([(row[\"participant_inn_kpp_anon\"], \n",
        "                                            row[\"pn_lot_anon\"], \n",
        "                                            1.0 + row['is_winner'] * train_item_participations[row[\"pn_lot_anon\"]]) \n",
        "                                           for index, row in train_labels_df.iterrows()])"
      ],
      "execution_count": null,
      "outputs": []
    },
    {
      "cell_type": "code",
      "metadata": {
        "id": "xopfxHmdZYnp"
      },
      "source": [
        "user_mappings1, _, item_mappings1, _ = dataset.mapping()\n",
        "item_mappings = {k: d for d,k in item_mappings1.items()}\n",
        "user_mappings = {k: d for d,k in user_mappings1.items()}"
      ],
      "execution_count": null,
      "outputs": []
    },
    {
      "cell_type": "code",
      "metadata": {
        "id": "Bc6yzIUkZYnq"
      },
      "source": [
        "inn = user_mappings[0]\n",
        "valid_interactions = dataset.build_interactions([(inn, x) for x in valid_labels_df.pn_lot_anon.unique()])\n",
        "valid_users, valid_items = valid_interactions[0].nonzero()"
      ],
      "execution_count": null,
      "outputs": []
    },
    {
      "cell_type": "code",
      "metadata": {
        "id": "kDk78VxPZYnq",
        "colab": {
          "referenced_widgets": [
            "69e2522ad276462abed0b779daeb0e8c",
            "d7cc4685f4ea45e888e3d9296f8eca0d"
          ]
        },
        "outputId": "ef0b064a-474b-4a13-a5b9-ae22cbbfef2c"
      },
      "source": [
        "import tqdm\n",
        "from scipy.special import softmax\n",
        "\n",
        "for num_epoch in [100]:\n",
        "    model = LightFM(loss='warp', no_components=256, random_state=239)\n",
        "    model.fit(interactions=interactions[0], \n",
        "              item_features=train_item_features, \n",
        "              sample_weight=interactions[1],\n",
        "              epochs=num_epoch, num_threads=8, verbose=True)\n",
        "\n",
        "    r,g = 0,0\n",
        "    pred_lots = []\n",
        "    true_lots = set(valid_labels_df.pn_lot_anon.unique())\n",
        "    preds = []\n",
        "    for inn_idx in tqdm.notebook.tqdm(range(len(user_mappings))): \n",
        "        inn = user_mappings[inn_idx]\n",
        "        pred = model.predict(inn_idx, valid_items, item_features=train_item_features, num_threads=8)\n",
        "        pred = softmax(pred)\n",
        "        idxs = np.argsort(pred)[-35:]\n",
        "        lots = [(inn, item_mappings[valid_items[x]], pred[x]*1000.0) for x in idxs]\n",
        "        pred_lots.extend(lots)\n",
        "    result = pd.DataFrame(pred_lots)\n",
        "    result.columns = ['participant_inn_kpp_anon','pn_lot_anon','similarity_score']\n",
        "    c1,c2 = 0,0\n",
        "    for inn,df in tqdm.notebook.tqdm(result.groupby('participant_inn_kpp_anon')):\n",
        "        true_lots = set(valid_labels_df.loc[valid_labels_df.participant_inn_kpp_anon == inn].pn_lot_anon.unique())\n",
        "        pred_lots = set(df.pn_lot_anon.unique())\n",
        "        c1 += len((true_lots & pred_lots))\n",
        "        c2 += len(true_lots)\n",
        "    print(num_epoch,c1/c2)"
      ],
      "execution_count": null,
      "outputs": [
        {
          "output_type": "stream",
          "text": [
            "Epoch: 100%|██████████| 100/100 [19:50<00:00, 11.90s/it]\n"
          ],
          "name": "stderr"
        },
        {
          "output_type": "display_data",
          "data": {
            "application/vnd.jupyter.widget-view+json": {
              "model_id": "69e2522ad276462abed0b779daeb0e8c",
              "version_major": 2,
              "version_minor": 0
            },
            "text/plain": [
              "  0%|          | 0/10608 [00:00<?, ?it/s]"
            ]
          },
          "metadata": {
            "tags": []
          }
        },
        {
          "output_type": "display_data",
          "data": {
            "application/vnd.jupyter.widget-view+json": {
              "model_id": "d7cc4685f4ea45e888e3d9296f8eca0d",
              "version_major": 2,
              "version_minor": 0
            },
            "text/plain": [
              "  0%|          | 0/10608 [00:00<?, ?it/s]"
            ]
          },
          "metadata": {
            "tags": []
          }
        },
        {
          "output_type": "stream",
          "text": [
            "100 0.3982047939023167\n"
          ],
          "name": "stdout"
        }
      ]
    }
  ]
}